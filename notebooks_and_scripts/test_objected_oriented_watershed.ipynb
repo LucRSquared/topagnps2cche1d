{
 "cells": [
  {
   "cell_type": "code",
   "execution_count": 1,
   "metadata": {},
   "outputs": [],
   "source": [
    "from pathlib import Path\n",
    "from topagnps2cche1d import Watershed"
   ]
  },
  {
   "cell_type": "code",
   "execution_count": 2,
   "metadata": {},
   "outputs": [],
   "source": [
    "# root_dir = Path(\"../data_inputs/goodwin_creek_1m/\")\n",
    "root_dir = Path(\n",
    "    \"../data_inputs/goodwin_creek_1m_1_and_3_reaches/TopAGNPS_DataSets/3_Reach\"\n",
    ")\n",
    "# root_dir = Path(\"../data_inputs/topagnps_ohio_files/\")\n",
    "\n",
    "path_to_reaches = root_dir / \"AnnAGNPS_Reach_Data_Section.csv\"\n",
    "path_to_cells = root_dir / \"AnnAGNPS_Cell_Data_Section.csv\"\n",
    "path_to_reaches_raster = root_dir / \"AnnAGNPS_Reach_IDs.asc\"\n",
    "path_to_agflow_reaches = root_dir / \"AgFlow_Reach_Data.csv\""
   ]
  },
  {
   "cell_type": "code",
   "execution_count": 3,
   "metadata": {},
   "outputs": [
    {
     "name": "stderr",
     "output_type": "stream",
     "text": [
      "Reading Reaches:   0%|          | 0/3 [00:00<?, ?it/s]"
     ]
    },
    {
     "name": "stderr",
     "output_type": "stream",
     "text": [
      "Reading Reaches: 100%|██████████| 3/3 [00:00<00:00, 77.46it/s]\n"
     ]
    },
    {
     "name": "stdout",
     "output_type": "stream",
     "text": [
      "[4, 3, 2]\n",
      "4 0 383\n",
      "4 1 382\n",
      "4 2 381\n",
      "4 3 380\n",
      "4 4 379\n",
      "4 5 378\n",
      "4 6 377\n",
      "4 7 376\n",
      "4 8 375\n",
      "4 9 374\n",
      "4 10 373\n",
      "4 11 372\n",
      "4 12 371\n",
      "4 13 370\n",
      "4 14 369\n",
      "4 15 368\n",
      "4 16 367\n",
      "4 17 366\n",
      "4 18 365\n",
      "4 19 364\n",
      "4 20 363\n",
      "4 21 362\n",
      "4 22 361\n",
      "4 23 360\n",
      "4 24 359\n",
      "4 25 358\n",
      "4 26 357\n",
      "4 27 356\n",
      "4 28 355\n",
      "4 29 354\n",
      "4 30 353\n",
      "4 31 352\n",
      "4 32 351\n",
      "4 33 350\n",
      "4 34 349\n",
      "4 35 348\n",
      "4 36 347\n",
      "4 37 346\n",
      "4 38 345\n",
      "4 39 344\n",
      "4 40 343\n",
      "4 41 342\n",
      "4 42 341\n",
      "4 43 340\n",
      "4 44 339\n",
      "4 45 338\n",
      "4 46 337\n",
      "4 47 336\n",
      "4 48 335\n",
      "4 49 334\n",
      "4 50 333\n",
      "4 51 332\n",
      "4 52 331\n",
      "4 53 330\n",
      "4 54 329\n",
      "4 55 328\n",
      "4 56 327\n",
      "4 57 326\n",
      "4 58 325\n",
      "4 59 324\n",
      "4 60 323\n",
      "4 61 322\n",
      "4 62 321\n",
      "4 63 320\n",
      "4 64 319\n",
      "4 65 318\n",
      "4 66 317\n",
      "4 67 316\n",
      "4 68 315\n",
      "4 69 314\n",
      "4 70 313\n",
      "4 71 312\n",
      "4 72 311\n",
      "4 73 310\n",
      "4 74 309\n",
      "4 75 308\n",
      "4 76 307\n",
      "4 77 306\n",
      "4 78 305\n",
      "4 79 304\n",
      "4 80 303\n",
      "4 81 302\n",
      "4 82 301\n",
      "4 83 300\n",
      "4 84 299\n",
      "4 85 298\n",
      "4 86 297\n",
      "4 87 296\n",
      "4 88 295\n",
      "4 89 294\n",
      "4 90 293\n",
      "4 91 292\n",
      "4 92 291\n",
      "4 93 290\n",
      "4 94 289\n",
      "4 95 288\n",
      "4 96 287\n",
      "4 97 286\n",
      "4 98 285\n",
      "4 99 284\n",
      "4 100 283\n",
      "4 101 282\n",
      "4 102 281\n",
      "4 103 280\n",
      "4 104 279\n",
      "4 105 278\n",
      "4 106 277\n",
      "4 107 276\n",
      "4 108 275\n",
      "4 109 274\n",
      "4 110 273\n",
      "4 111 272\n",
      "4 112 271\n",
      "4 113 270\n",
      "4 114 269\n",
      "4 115 268\n",
      "4 116 267\n",
      "4 117 266\n",
      "4 118 265\n",
      "4 119 264\n",
      "4 120 263\n",
      "4 121 262\n",
      "4 122 261\n",
      "4 123 260\n",
      "4 124 259\n",
      "4 125 258\n",
      "4 126 257\n",
      "4 127 256\n",
      "4 128 255\n",
      "4 129 254\n",
      "4 130 253\n",
      "4 131 252\n",
      "4 132 251\n",
      "4 133 250\n",
      "4 134 249\n",
      "4 135 248\n",
      "4 136 247\n",
      "4 137 246\n",
      "4 138 245\n",
      "4 139 244\n",
      "4 140 243\n",
      "4 141 242\n",
      "4 142 241\n",
      "4 143 240\n",
      "4 144 239\n",
      "4 145 238\n",
      "4 146 237\n",
      "4 147 236\n",
      "4 148 235\n",
      "4 149 234\n",
      "4 150 233\n",
      "4 151 232\n",
      "4 152 231\n",
      "4 153 230\n",
      "4 154 229\n",
      "4 155 228\n",
      "4 156 227\n",
      "4 157 226\n",
      "4 158 225\n",
      "4 159 224\n",
      "4 160 223\n",
      "4 161 222\n",
      "4 162 221\n",
      "4 163 220\n",
      "4 164 219\n",
      "4 165 218\n",
      "4 166 217\n",
      "4 167 216\n",
      "4 168 215\n",
      "4 169 214\n",
      "4 170 213\n",
      "4 171 212\n",
      "4 172 211\n",
      "4 173 210\n",
      "4 174 209\n",
      "4 175 208\n",
      "4 176 207\n",
      "4 177 206\n",
      "4 178 205\n",
      "4 179 204\n",
      "4 180 203\n",
      "4 181 202\n",
      "4 182 201\n",
      "4 183 200\n",
      "4 184 199\n",
      "4 185 198\n",
      "4 186 197\n",
      "4 187 196\n",
      "4 188 195\n",
      "4 189 194\n",
      "4 190 193\n",
      "4 191 192\n",
      "4 192 191\n",
      "4 193 190\n",
      "4 194 189\n",
      "4 195 188\n",
      "4 196 187\n",
      "4 197 186\n",
      "4 198 185\n",
      "4 199 184\n",
      "4 200 183\n",
      "4 201 182\n",
      "4 202 181\n",
      "4 203 180\n",
      "4 204 179\n",
      "4 205 178\n",
      "4 206 177\n",
      "4 207 176\n",
      "4 208 175\n",
      "4 209 174\n",
      "4 210 173\n",
      "4 211 172\n",
      "4 212 171\n",
      "4 213 170\n",
      "4 214 169\n",
      "4 215 168\n",
      "4 216 167\n",
      "4 217 166\n",
      "4 218 165\n",
      "4 219 164\n",
      "4 220 163\n",
      "4 221 162\n",
      "4 222 161\n",
      "4 223 160\n",
      "4 224 159\n",
      "4 225 158\n",
      "4 226 157\n",
      "4 227 156\n",
      "4 228 155\n",
      "4 229 154\n",
      "4 230 153\n",
      "4 231 152\n",
      "4 232 151\n",
      "4 233 150\n",
      "4 234 149\n",
      "4 235 148\n",
      "4 236 147\n",
      "4 237 146\n",
      "4 238 145\n",
      "4 239 144\n",
      "4 240 143\n",
      "4 241 142\n",
      "4 242 141\n",
      "4 243 140\n",
      "4 244 139\n",
      "4 245 138\n",
      "4 246 137\n",
      "4 247 136\n",
      "4 248 135\n",
      "4 249 134\n",
      "4 250 133\n",
      "4 251 132\n",
      "4 252 131\n",
      "4 253 130\n",
      "4 254 129\n",
      "4 255 128\n",
      "4 256 127\n",
      "4 257 126\n",
      "4 258 125\n",
      "4 259 124\n",
      "4 260 123\n",
      "4 261 122\n",
      "4 262 121\n",
      "4 263 120\n",
      "4 264 119\n",
      "4 265 118\n",
      "4 266 117\n",
      "4 267 116\n",
      "4 268 115\n",
      "4 269 114\n",
      "4 270 113\n",
      "4 271 112\n",
      "4 272 111\n",
      "4 273 110\n",
      "4 274 109\n",
      "4 275 108\n",
      "4 276 107\n",
      "4 277 106\n",
      "4 278 None\n"
     ]
    },
    {
     "ename": "KeyError",
     "evalue": "None",
     "output_type": "error",
     "traceback": [
      "\u001b[1;31m---------------------------------------------------------------------------\u001b[0m",
      "\u001b[1;31mKeyError\u001b[0m                                  Traceback (most recent call last)",
      "Cell \u001b[1;32mIn[3], line 13\u001b[0m\n\u001b[0;32m     10\u001b[0m watershed\u001b[39m.\u001b[39mupdate_junctions_and_node_types()\n\u001b[0;32m     11\u001b[0m watershed\u001b[39m.\u001b[39midentify_inflow_sources()\n\u001b[1;32m---> 13\u001b[0m watershed\u001b[39m.\u001b[39;49mrenumber_all_nodes_and_reaches_in_CCHE1D_computational_order()\n\u001b[0;32m     14\u001b[0m \u001b[39m# watershed._set_node_id_to_compute_id()\u001b[39;00m\n",
      "File \u001b[1;32m~\\projects\\topagnps2cche1d\\topagnps2cche1d\\watershed.py:397\u001b[0m, in \u001b[0;36mWatershed.renumber_all_nodes_and_reaches_in_CCHE1D_computational_order\u001b[1;34m(self)\u001b[0m\n\u001b[0;32m    395\u001b[0m \u001b[39mprint\u001b[39m(reach_id, computeid, current_node_id)\n\u001b[0;32m    396\u001b[0m computeid \u001b[39m+\u001b[39m\u001b[39m=\u001b[39m \u001b[39m1\u001b[39m\n\u001b[1;32m--> 397\u001b[0m current_node \u001b[39m=\u001b[39m nodes[current_node_id]\n\u001b[0;32m    398\u001b[0m current_node\u001b[39m.\u001b[39mcomputeid \u001b[39m=\u001b[39m computeid\n\u001b[0;32m    400\u001b[0m \u001b[39mif\u001b[39;00m current_node_id \u001b[39m==\u001b[39m ds_node_id:\n",
      "\u001b[1;31mKeyError\u001b[0m: None"
     ]
    }
   ],
   "source": [
    "watershed = Watershed()\n",
    "watershed.import_topagnps_reaches_network(path_to_reaches)\n",
    "watershed.import_topagnps_cells(path_to_cells)\n",
    "\n",
    "watershed.read_reaches_geometry_from_topagnps_asc_file(path_to_reaches_raster)\n",
    "\n",
    "watershed.assign_strahler_number_to_reaches()\n",
    "watershed.ignore_reaches_with_strahler_leq(0)\n",
    "\n",
    "watershed.update_junctions_and_node_types()\n",
    "watershed.identify_inflow_sources()\n",
    "\n",
    "watershed.renumber_all_nodes_and_reaches_in_CCHE1D_computational_order()\n",
    "# watershed._set_node_id_to_compute_id()"
   ]
  },
  {
   "cell_type": "code",
   "execution_count": null,
   "metadata": {},
   "outputs": [
    {
     "name": "stdout",
     "output_type": "stream",
     "text": [
      "-----------------------------\n",
      "Reach            : 2\n",
      "CCHE1D Ch. ID    : None\n",
      "Receiving Reach  : 1\n",
      "Slope            : 0.01716\n",
      "Strahler Number  : 2\n",
      "Ignore?          : False\n",
      "(US/DS) Nodes    : (30, 1)\n",
      "-----------------------------\n",
      "Reach            : 3\n",
      "CCHE1D Ch. ID    : None\n",
      "Receiving Reach  : 2\n",
      "Slope            : 0.01082\n",
      "Strahler Number  : 1\n",
      "Ignore?          : False\n",
      "(US/DS) Nodes    : (31, 384)\n",
      "-----------------------------\n",
      "Reach            : 4\n",
      "CCHE1D Ch. ID    : None\n",
      "Receiving Reach  : 2\n",
      "Slope            : 0.01332\n",
      "Strahler Number  : 1\n",
      "Ignore?          : False\n",
      "(US/DS) Nodes    : (383, 385)\n"
     ]
    }
   ],
   "source": [
    "reaches = watershed.reaches\n",
    "for k, v in reaches.items():\n",
    "    # if not v.ignore:\n",
    "    print(v)\n",
    "# break"
   ]
  },
  {
   "cell_type": "code",
   "execution_count": 5,
   "metadata": {},
   "outputs": [],
   "source": [
    "reach2 = watershed.reaches[2]\n",
    "reach3 = watershed.reaches[3]\n",
    "reach4 = watershed.reaches[4]"
   ]
  },
  {
   "cell_type": "code",
   "execution_count": null,
   "metadata": {},
   "outputs": [
    {
     "name": "stdout",
     "output_type": "stream",
     "text": [
      "-----------------------------\n",
      "Reach            : 2\n",
      "CCHE1D Ch. ID    : None\n",
      "Receiving Reach  : 1\n",
      "Slope            : 0.01716\n",
      "Strahler Number  : 2\n",
      "Ignore?          : False\n",
      "(US/DS) Nodes    : (30, 1)\n"
     ]
    }
   ],
   "source": [
    "print(reach2)"
   ]
  },
  {
   "cell_type": "code",
   "execution_count": null,
   "metadata": {},
   "outputs": [
    {
     "name": "stdout",
     "output_type": "stream",
     "text": [
      "-----------------------------\n",
      "Node ID         : 15\n",
      "TYPE            : 6\n",
      "USID            : 16\n",
      "DSID            : 14\n",
      "US2ID           : None\n",
      "COMPUTEID       : None\n",
      "(x,y)           : (240148.114013, 3795276.620724)\n",
      "(row,col)       : (223, 148)\n"
     ]
    }
   ],
   "source": [
    "print(reach2.nodes[15])"
   ]
  },
  {
   "cell_type": "code",
   "execution_count": 6,
   "metadata": {},
   "outputs": [
    {
     "name": "stdout",
     "output_type": "stream",
     "text": [
      "-----------------------------\n",
      "Reach            : 4\n",
      "CCHE1D Ch. ID    : 1\n",
      "Receiving Reach  : 2\n",
      "Slope            : 0.01332\n",
      "Strahler Number  : 1\n",
      "Ignore?          : False\n",
      "(US/DS) Nodes    : (383, 385)\n"
     ]
    }
   ],
   "source": [
    "print(reach4)"
   ]
  },
  {
   "cell_type": "code",
   "execution_count": 9,
   "metadata": {},
   "outputs": [
    {
     "name": "stdout",
     "output_type": "stream",
     "text": [
      "-----------------------------\n",
      "Node ID         : 106\n",
      "TYPE            : 6\n",
      "USID            : 107\n",
      "DSID            : None\n",
      "US2ID           : None\n",
      "COMPUTEID       : 278\n",
      "(x,y)           : (240168.114013, 3795272.620724)\n",
      "(row,col)       : (227, 168)\n"
     ]
    }
   ],
   "source": [
    "print(reach4.nodes[106])"
   ]
  },
  {
   "cell_type": "code",
   "execution_count": null,
   "metadata": {},
   "outputs": [
    {
     "name": "stdout",
     "output_type": "stream",
     "text": [
      "-----------------------------\n",
      "Node ID         : 385\n",
      "TYPE            : 3\n",
      "USID            : 106\n",
      "DSID            : 30\n",
      "US2ID           : -1\n",
      "COMPUTEID       : None\n",
      "(x,y)           : (240167.114013, 3795272.620724)\n",
      "(row,col)       : (227, 167)\n"
     ]
    }
   ],
   "source": [
    "print(reach4.nodes[reach4.ds_nd_id])"
   ]
  },
  {
   "cell_type": "code",
   "execution_count": null,
   "metadata": {},
   "outputs": [
    {
     "name": "stdout",
     "output_type": "stream",
     "text": [
      "-----------------------------\n",
      "Node ID         : 31\n",
      "TYPE            : 0\n",
      "USID            : None\n",
      "DSID            : 32\n",
      "US2ID           : None\n",
      "COMPUTEID       : None\n",
      "(x,y)           : (240228.114013, 3795320.620724)\n",
      "(row,col)       : (179, 228)\n"
     ]
    }
   ],
   "source": [
    "print(reach3.nodes[reach3.us_nd_id])"
   ]
  },
  {
   "cell_type": "code",
   "execution_count": null,
   "metadata": {},
   "outputs": [
    {
     "name": "stdout",
     "output_type": "stream",
     "text": [
      "-----------------------------\n",
      "Node ID         : 384\n",
      "TYPE            : 3\n",
      "USID            : 105\n",
      "DSID            : 30\n",
      "US2ID           : -1\n",
      "COMPUTEID       : None\n",
      "(x,y)           : (240167.114013, 3795272.620724)\n",
      "(row,col)       : (227, 167)\n"
     ]
    }
   ],
   "source": [
    "print(reach3.nodes[reach3.ds_nd_id])"
   ]
  },
  {
   "cell_type": "code",
   "execution_count": null,
   "metadata": {},
   "outputs": [
    {
     "name": "stdout",
     "output_type": "stream",
     "text": [
      "-----------------------------\n",
      "Node ID         : 30\n",
      "TYPE            : 2\n",
      "USID            : 105\n",
      "DSID            : 29\n",
      "US2ID           : 106\n",
      "COMPUTEID       : None\n",
      "(x,y)           : (240167.114013, 3795272.620724)\n",
      "(row,col)       : (227, 167)\n"
     ]
    }
   ],
   "source": [
    "print(reach2.nodes[reach2.us_nd_id])"
   ]
  },
  {
   "cell_type": "code",
   "execution_count": null,
   "metadata": {},
   "outputs": [
    {
     "name": "stdout",
     "output_type": "stream",
     "text": [
      "-----------------------------\n",
      "Node ID         : 1\n",
      "TYPE            : 9\n",
      "USID            : 2\n",
      "DSID            : None\n",
      "US2ID           : None\n",
      "COMPUTEID       : None\n",
      "(x,y)           : (240133.114013, 3795278.620724)\n",
      "(row,col)       : (221, 133)\n"
     ]
    }
   ],
   "source": [
    "print(reach2.nodes[reach2.ds_nd_id])"
   ]
  }
 ],
 "metadata": {
  "kernelspec": {
   "display_name": ".venv",
   "language": "python",
   "name": "python3"
  },
  "language_info": {
   "codemirror_mode": {
    "name": "ipython",
    "version": 3
   },
   "file_extension": ".py",
   "mimetype": "text/x-python",
   "name": "python",
   "nbconvert_exporter": "python",
   "pygments_lexer": "ipython3",
   "version": "3.11.4"
  },
  "orig_nbformat": 4
 },
 "nbformat": 4,
 "nbformat_minor": 2
}
