{
 "cells": [
  {
   "cell_type": "code",
   "execution_count": 1,
   "metadata": {},
   "outputs": [],
   "source": [
    "from pathlib import Path\n",
    "from topagnps2cche1d import Watershed"
   ]
  },
  {
   "cell_type": "code",
   "execution_count": 8,
   "metadata": {},
   "outputs": [],
   "source": [
    "# root_dir = Path(\"../data_inputs/goodwin_creek_1m/\")\n",
    "root_dir = Path(\n",
    "    \"../data_inputs/goodwin_creek_1m_1_and_3_reaches/TopAGNPS_DataSets/3_Reach\"\n",
    ")\n",
    "# root_dir = Path(\"../data_inputs/topagnps_ohio_files/\")\n",
    "\n",
    "path_to_reaches = root_dir / \"AnnAGNPS_Reach_Data_Section.csv\"\n",
    "path_to_cells = root_dir / \"AnnAGNPS_Cell_Data_Section.csv\"\n",
    "path_to_reaches_raster = root_dir / \"AnnAGNPS_Reach_IDs.asc\"\n",
    "path_to_agflow_reaches = root_dir / \"AgFlow_Reach_Data.csv\""
   ]
  },
  {
   "cell_type": "code",
   "execution_count": 10,
   "metadata": {},
   "outputs": [
    {
     "name": "stderr",
     "output_type": "stream",
     "text": [
      "Reading Reaches: 100%|██████████| 3/3 [00:00<00:00, 94.70it/s]\n"
     ]
    }
   ],
   "source": [
    "watershed = Watershed()\n",
    "watershed.import_topagnps_reaches_network(path_to_reaches)\n",
    "watershed.import_topagnps_cells(path_to_cells)\n",
    "\n",
    "watershed.read_reaches_geometry_from_topagnps_asc_file(path_to_reaches_raster)\n",
    "watershed.determine_reaches_us_ds_direction()\n",
    "\n",
    "watershed.assign_strahler_number_to_reaches()\n",
    "watershed.ignore_reaches_with_strahler_leq(1)\n",
    "\n",
    "\n",
    "watershed.update_junctions_and_node_types()\n",
    "watershed.identify_inflow_sources()"
   ]
  },
  {
   "cell_type": "code",
   "execution_count": 11,
   "metadata": {},
   "outputs": [
    {
     "name": "stdout",
     "output_type": "stream",
     "text": [
      "-----------------------------\n",
      "Reach            : 2\n",
      "Receiving Reach  : 1\n",
      "Slope            : 0.01716\n",
      "Strahler Number  : 2\n",
      "Ignore?          : False\n",
      "(US/DS) Nodes    : (30, 1)\n",
      "-----------------------------\n",
      "Reach            : 3\n",
      "Receiving Reach  : 2\n",
      "Slope            : 0.01082\n",
      "Strahler Number  : 1\n",
      "Ignore?          : True\n",
      "(US/DS) Nodes    : (31, 105)\n",
      "-----------------------------\n",
      "Reach            : 4\n",
      "Receiving Reach  : 2\n",
      "Slope            : 0.01332\n",
      "Strahler Number  : 1\n",
      "Ignore?          : True\n",
      "(US/DS) Nodes    : (383, 106)\n"
     ]
    }
   ],
   "source": [
    "reaches = watershed.reaches\n",
    "for k, v in reaches.items():\n",
    "    # if not v.ignore:\n",
    "    print(v)\n",
    "# break"
   ]
  },
  {
   "cell_type": "code",
   "execution_count": 12,
   "metadata": {},
   "outputs": [],
   "source": [
    "reach2 = watershed.reaches[2]\n",
    "reach3 = watershed.reaches[3]\n",
    "reach4 = watershed.reaches[4]"
   ]
  },
  {
   "cell_type": "code",
   "execution_count": 13,
   "metadata": {},
   "outputs": [
    {
     "name": "stdout",
     "output_type": "stream",
     "text": [
      "-----------------------------\n",
      "Node ID         : 15\n",
      "TYPE            : 6\n",
      "USID            : 16\n",
      "DSID            : 14\n",
      "US2ID           : None\n",
      "COMPUTEID       : None\n",
      "(x,y)           : (240148.114013, 3795276.620724)\n",
      "(row,col)       : (223, 148)\n"
     ]
    }
   ],
   "source": [
    "print(reach2.nodes[15])"
   ]
  },
  {
   "cell_type": "code",
   "execution_count": 14,
   "metadata": {},
   "outputs": [
    {
     "name": "stdout",
     "output_type": "stream",
     "text": [
      "-----------------------------\n",
      "Node ID         : 383\n",
      "TYPE            : 6\n",
      "USID            : None\n",
      "DSID            : 382\n",
      "US2ID           : None\n",
      "COMPUTEID       : None\n",
      "(x,y)           : (240454.114013, 3795214.620724)\n",
      "(row,col)       : (285, 454)\n"
     ]
    }
   ],
   "source": [
    "print(reach4.nodes[reach4.us_nd_id])"
   ]
  },
  {
   "cell_type": "code",
   "execution_count": 15,
   "metadata": {},
   "outputs": [
    {
     "name": "stdout",
     "output_type": "stream",
     "text": [
      "-----------------------------\n",
      "Node ID         : 106\n",
      "TYPE            : 6\n",
      "USID            : 107\n",
      "DSID            : None\n",
      "US2ID           : None\n",
      "COMPUTEID       : None\n",
      "(x,y)           : (240168.114013, 3795272.620724)\n",
      "(row,col)       : (227, 168)\n"
     ]
    }
   ],
   "source": [
    "print(reach4.nodes[reach4.ds_nd_id])"
   ]
  },
  {
   "cell_type": "code",
   "execution_count": 16,
   "metadata": {},
   "outputs": [
    {
     "name": "stdout",
     "output_type": "stream",
     "text": [
      "-----------------------------\n",
      "Node ID         : 31\n",
      "TYPE            : 6\n",
      "USID            : None\n",
      "DSID            : 32\n",
      "US2ID           : None\n",
      "COMPUTEID       : None\n",
      "(x,y)           : (240228.114013, 3795320.620724)\n",
      "(row,col)       : (179, 228)\n"
     ]
    }
   ],
   "source": [
    "print(reach3.nodes[reach3.us_nd_id])"
   ]
  },
  {
   "cell_type": "code",
   "execution_count": 17,
   "metadata": {},
   "outputs": [
    {
     "name": "stdout",
     "output_type": "stream",
     "text": [
      "-----------------------------\n",
      "Node ID         : 105\n",
      "TYPE            : 6\n",
      "USID            : 104\n",
      "DSID            : None\n",
      "US2ID           : None\n",
      "COMPUTEID       : None\n",
      "(x,y)           : (240168.114013, 3795273.620724)\n",
      "(row,col)       : (226, 168)\n"
     ]
    }
   ],
   "source": [
    "print(reach3.nodes[reach3.ds_nd_id])"
   ]
  },
  {
   "cell_type": "code",
   "execution_count": 20,
   "metadata": {},
   "outputs": [
    {
     "name": "stdout",
     "output_type": "stream",
     "text": [
      "-----------------------------\n",
      "Node ID         : 30\n",
      "TYPE            : 1\n",
      "USID            : None\n",
      "DSID            : 29\n",
      "US2ID           : None\n",
      "COMPUTEID       : None\n",
      "(x,y)           : (240167.114013, 3795272.620724)\n",
      "(row,col)       : (227, 167)\n"
     ]
    }
   ],
   "source": [
    "print(reach2.nodes[reach2.us_nd_id])"
   ]
  },
  {
   "cell_type": "code",
   "execution_count": 21,
   "metadata": {},
   "outputs": [
    {
     "name": "stdout",
     "output_type": "stream",
     "text": [
      "-----------------------------\n",
      "Node ID         : 1\n",
      "TYPE            : 9\n",
      "USID            : 2\n",
      "DSID            : None\n",
      "US2ID           : None\n",
      "COMPUTEID       : None\n",
      "(x,y)           : (240133.114013, 3795278.620724)\n",
      "(row,col)       : (221, 133)\n"
     ]
    }
   ],
   "source": [
    "print(reach2.nodes[reach2.ds_nd_id])"
   ]
  }
 ],
 "metadata": {
  "kernelspec": {
   "display_name": ".venv",
   "language": "python",
   "name": "python3"
  },
  "language_info": {
   "codemirror_mode": {
    "name": "ipython",
    "version": 3
   },
   "file_extension": ".py",
   "mimetype": "text/x-python",
   "name": "python",
   "nbconvert_exporter": "python",
   "pygments_lexer": "ipython3",
   "version": "3.11.4"
  },
  "orig_nbformat": 4
 },
 "nbformat": 4,
 "nbformat_minor": 2
}
