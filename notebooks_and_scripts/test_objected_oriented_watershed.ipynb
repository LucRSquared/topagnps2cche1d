{
 "cells": [
  {
   "cell_type": "code",
   "execution_count": 1,
   "metadata": {},
   "outputs": [],
   "source": [
    "from pathlib import Path\n",
    "from topagnps2cche1d import Watershed"
   ]
  },
  {
   "cell_type": "code",
   "execution_count": 2,
   "metadata": {},
   "outputs": [],
   "source": [
    "# root_dir = Path(\"../data_inputs/goodwin_creek_1m/\")\n",
    "root_dir = Path(\n",
    "    \"../data_inputs/goodwin_creek_1m_1_and_3_reaches/TopAGNPS_DataSets/3_Reach\"\n",
    ")\n",
    "# root_dir = Path(\"../data_inputs/topagnps_ohio_files/\")\n",
    "\n",
    "path_to_reaches = root_dir / \"AnnAGNPS_Reach_Data_Section.csv\"\n",
    "path_to_cells = root_dir / \"AnnAGNPS_Cell_Data_Section.csv\"\n",
    "path_to_reaches_raster = root_dir / \"AnnAGNPS_Reach_IDs.asc\"\n",
    "path_to_agflow_reaches = root_dir / \"AgFlow_Reach_Data.csv\""
   ]
  },
  {
   "cell_type": "code",
   "execution_count": 3,
   "metadata": {},
   "outputs": [
    {
     "name": "stderr",
     "output_type": "stream",
     "text": [
      "Reading Reaches: 100%|██████████| 3/3 [00:00<00:00, 85.10it/s]\n"
     ]
    }
   ],
   "source": [
    "watershed = Watershed()\n",
    "watershed.import_topagnps_reaches_network(path_to_reaches)\n",
    "watershed.import_topagnps_cells(path_to_cells)\n",
    "\n",
    "watershed.read_reaches_geometry_from_topagnps_asc_file(path_to_reaches_raster)\n",
    "\n",
    "watershed.assign_strahler_number_to_reaches()\n",
    "watershed.ignore_reaches_with_strahler_leq(0)\n",
    "\n",
    "watershed.update_junctions_and_node_types()\n",
    "watershed.identify_inflow_sources()\n",
    "\n",
    "watershed.renumber_all_nodes_and_reaches_in_CCHE1D_computational_order()\n",
    "watershed._set_node_id_to_compute_id()"
   ]
  },
  {
   "cell_type": "code",
   "execution_count": 4,
   "metadata": {},
   "outputs": [
    {
     "name": "stdout",
     "output_type": "stream",
     "text": [
      "-----------------------------\n",
      "Reach            : 2\n",
      "CCHE1D Ch. ID    : 3\n",
      "Receiving Reach  : 1\n",
      "Slope            : 0.01716\n",
      "Strahler Number  : 2\n",
      "Ignore?          : False\n",
      "(US/DS) Nodes    : (356, 385)\n",
      "-----------------------------\n",
      "Reach            : 3\n",
      "CCHE1D Ch. ID    : 2\n",
      "Receiving Reach  : 2\n",
      "Slope            : 0.01082\n",
      "Strahler Number  : 1\n",
      "Ignore?          : False\n",
      "(US/DS) Nodes    : (280, 355)\n",
      "-----------------------------\n",
      "Reach            : 4\n",
      "CCHE1D Ch. ID    : 1\n",
      "Receiving Reach  : 2\n",
      "Slope            : 0.01332\n",
      "Strahler Number  : 1\n",
      "Ignore?          : False\n",
      "(US/DS) Nodes    : (1, 279)\n"
     ]
    }
   ],
   "source": [
    "reaches = watershed.reaches\n",
    "for k, v in reaches.items():\n",
    "    # if not v.ignore:\n",
    "    print(v)\n",
    "# break"
   ]
  },
  {
   "cell_type": "code",
   "execution_count": 5,
   "metadata": {},
   "outputs": [],
   "source": [
    "reach2 = watershed.reaches[2]\n",
    "reach3 = watershed.reaches[3]\n",
    "reach4 = watershed.reaches[4]"
   ]
  },
  {
   "cell_type": "code",
   "execution_count": 6,
   "metadata": {},
   "outputs": [
    {
     "name": "stdout",
     "output_type": "stream",
     "text": [
      "-----------------------------\n",
      "Reach            : 2\n",
      "CCHE1D Ch. ID    : 3\n",
      "Receiving Reach  : 1\n",
      "Slope            : 0.01716\n",
      "Strahler Number  : 2\n",
      "Ignore?          : False\n",
      "(US/DS) Nodes    : (356, 385)\n"
     ]
    }
   ],
   "source": [
    "print(reach2)"
   ]
  },
  {
   "cell_type": "code",
   "execution_count": 7,
   "metadata": {},
   "outputs": [
    {
     "name": "stdout",
     "output_type": "stream",
     "text": [
      "-----------------------------\n",
      "Reach            : 3\n",
      "CCHE1D Ch. ID    : 2\n",
      "Receiving Reach  : 2\n",
      "Slope            : 0.01082\n",
      "Strahler Number  : 1\n",
      "Ignore?          : False\n",
      "(US/DS) Nodes    : (280, 355)\n"
     ]
    }
   ],
   "source": [
    "print(reach3)"
   ]
  },
  {
   "cell_type": "code",
   "execution_count": 8,
   "metadata": {},
   "outputs": [
    {
     "name": "stdout",
     "output_type": "stream",
     "text": [
      "-----------------------------\n",
      "Reach            : 4\n",
      "CCHE1D Ch. ID    : 1\n",
      "Receiving Reach  : 2\n",
      "Slope            : 0.01332\n",
      "Strahler Number  : 1\n",
      "Ignore?          : False\n",
      "(US/DS) Nodes    : (1, 279)\n"
     ]
    }
   ],
   "source": [
    "print(reach4)"
   ]
  },
  {
   "cell_type": "code",
   "execution_count": 9,
   "metadata": {},
   "outputs": [
    {
     "name": "stdout",
     "output_type": "stream",
     "text": [
      "-----------------------------\n",
      "Node ID         : 356\n",
      "TYPE            : 2\n",
      "USID            : 355\n",
      "DSID            : 357\n",
      "US2ID           : 279\n",
      "COMPUTEID       : 356\n",
      "(x,y)           : (240167.114013, 3795272.620724)\n",
      "(row,col)       : (227, 167)\n"
     ]
    }
   ],
   "source": [
    "print(reach2.nodes[reach2.us_nd_id])"
   ]
  },
  {
   "cell_type": "code",
   "execution_count": 10,
   "metadata": {},
   "outputs": [
    {
     "name": "stdout",
     "output_type": "stream",
     "text": [
      "-----------------------------\n",
      "Node ID         : 385\n",
      "TYPE            : 9\n",
      "USID            : 384\n",
      "DSID            : None\n",
      "US2ID           : None\n",
      "COMPUTEID       : 385\n",
      "(x,y)           : (240133.114013, 3795278.620724)\n",
      "(row,col)       : (221, 133)\n"
     ]
    }
   ],
   "source": [
    "print(reach2.nodes[reach2.ds_nd_id])"
   ]
  },
  {
   "cell_type": "code",
   "execution_count": 15,
   "metadata": {},
   "outputs": [
    {
     "name": "stdout",
     "output_type": "stream",
     "text": [
      "-----------------------------\n",
      "Reach            : 3\n",
      "CCHE1D Ch. ID    : 2\n",
      "Receiving Reach  : 2\n",
      "Slope            : 0.01082\n",
      "Strahler Number  : 1\n",
      "Ignore?          : False\n",
      "(US/DS) Nodes    : (280, 355)\n"
     ]
    }
   ],
   "source": [
    "print(reach3)"
   ]
  },
  {
   "cell_type": "markdown",
   "metadata": {},
   "source": [
    "Node order investigation"
   ]
  },
  {
   "cell_type": "code",
   "execution_count": 12,
   "metadata": {},
   "outputs": [],
   "source": [
    "with open(\"debug.txt\", \"a\") as f:\n",
    "    print(\n",
    "        f\"Reach : {reach4.id}, usnd = {reach4.us_nd_id}, dsnd = {reach4.ds_nd_id}\",\n",
    "        file=f,\n",
    "    )\n",
    "    for node in reach4.nodes.values():\n",
    "        print(f\"{node.usid} --> {node.id} --> {node.dsid}\", file=f)\n",
    "        # print(f\"{node.id} --> {node.dsid}\")"
   ]
  },
  {
   "cell_type": "code",
   "execution_count": 13,
   "metadata": {},
   "outputs": [],
   "source": [
    "D = {1: \"a\", 2: \"b\", 3: \"c\"}\n",
    "\n",
    "remap = {1: 4, 2: 5, 3: 6}\n",
    "\n",
    "D = {remap[k]: v for k, v in D.items()}"
   ]
  },
  {
   "cell_type": "code",
   "execution_count": 14,
   "metadata": {},
   "outputs": [
    {
     "data": {
      "text/plain": [
       "{4: 'a', 5: 'b', 6: 'c'}"
      ]
     },
     "execution_count": 14,
     "metadata": {},
     "output_type": "execute_result"
    }
   ],
   "source": [
    "D"
   ]
  }
 ],
 "metadata": {
  "kernelspec": {
   "display_name": ".venv",
   "language": "python",
   "name": "python3"
  },
  "language_info": {
   "codemirror_mode": {
    "name": "ipython",
    "version": 3
   },
   "file_extension": ".py",
   "mimetype": "text/x-python",
   "name": "python",
   "nbconvert_exporter": "python",
   "pygments_lexer": "ipython3",
   "version": "3.11.4"
  },
  "orig_nbformat": 4
 },
 "nbformat": 4,
 "nbformat_minor": 2
}
