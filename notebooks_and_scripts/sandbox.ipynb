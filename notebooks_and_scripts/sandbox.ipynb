{
 "cells": [
  {
   "cell_type": "code",
   "execution_count": 1,
   "metadata": {},
   "outputs": [],
   "source": [
    "from topagnps2cche1d import Node, Reach, Watershed"
   ]
  },
  {
   "cell_type": "code",
   "execution_count": 2,
   "metadata": {},
   "outputs": [],
   "source": [
    "s = Watershed()"
   ]
  },
  {
   "cell_type": "code",
   "execution_count": 33,
   "metadata": {},
   "outputs": [],
   "source": [
    "reach1 = Reach(id=1)\n",
    "reach2 = Reach(id=2, receiving_reach_id=1)\n",
    "reach3 = Reach(id=3, receiving_reach_id=5)\n",
    "reach4 = Reach(id=4, receiving_reach_id=5)\n",
    "reach5 = Reach(id=5, receiving_reach_id=9)\n",
    "reach6 = Reach(id=6, receiving_reach_id=8)\n",
    "reach7 = Reach(id=7, receiving_reach_id=8)\n",
    "reach8 = Reach(id=8, receiving_reach_id=9)\n",
    "reach9 = Reach(id=9, receiving_reach_id=1)\n",
    "\n"
   ]
  },
  {
   "cell_type": "code",
   "execution_count": 34,
   "metadata": {},
   "outputs": [],
   "source": [
    "s.add_reach(reach1)\n",
    "s.add_reach(reach2)\n",
    "s.add_reach(reach3)\n",
    "s.add_reach(reach4)\n",
    "s.add_reach(reach5)\n",
    "s.add_reach(reach6)\n",
    "s.add_reach(reach6)\n",
    "s.add_reach(reach7)\n",
    "s.add_reach(reach8)\n",
    "s.add_reach(reach9)\n"
   ]
  },
  {
   "cell_type": "code",
   "execution_count": 35,
   "metadata": {},
   "outputs": [],
   "source": [
    "s.keep_all_reaches()"
   ]
  },
  {
   "cell_type": "code",
   "execution_count": 36,
   "metadata": {},
   "outputs": [],
   "source": [
    "current_connectivity_dict = s.update_connectivity()"
   ]
  },
  {
   "cell_type": "code",
   "execution_count": 37,
   "metadata": {},
   "outputs": [
    {
     "data": {
      "text/plain": [
       "{1: [2, 9], 5: [3, 4], 9: [5, 8], 8: [6, 7]}"
      ]
     },
     "execution_count": 37,
     "metadata": {},
     "output_type": "execute_result"
    }
   ],
   "source": [
    "current_connectivity_dict"
   ]
  },
  {
   "cell_type": "code",
   "execution_count": 38,
   "metadata": {},
   "outputs": [],
   "source": [
    "s.assign_strahler_number_to_reaches(mode='fully_connected')"
   ]
  },
  {
   "cell_type": "code",
   "execution_count": 28,
   "metadata": {},
   "outputs": [],
   "source": [
    "s.ignore_reaches_with_strahler_leq(strahler_threshold=1)"
   ]
  },
  {
   "cell_type": "code",
   "execution_count": 31,
   "metadata": {},
   "outputs": [
    {
     "data": {
      "text/plain": [
       "{1: [9], 5: [], 9: [5, 8], 8: []}"
      ]
     },
     "execution_count": 31,
     "metadata": {},
     "output_type": "execute_result"
    }
   ],
   "source": [
    "s.update_connectivity()"
   ]
  },
  {
   "cell_type": "code",
   "execution_count": 39,
   "metadata": {},
   "outputs": [
    {
     "name": "stdout",
     "output_type": "stream",
     "text": [
      "Strahler number for reach (1): 3 / Reach Ignore: False\n",
      "Strahler number for reach (2): 1 / Reach Ignore: False\n",
      "Strahler number for reach (3): 1 / Reach Ignore: False\n",
      "Strahler number for reach (4): 1 / Reach Ignore: False\n",
      "Strahler number for reach (5): 2 / Reach Ignore: False\n",
      "Strahler number for reach (6): 1 / Reach Ignore: False\n",
      "Strahler number for reach (7): 1 / Reach Ignore: False\n",
      "Strahler number for reach (8): 2 / Reach Ignore: False\n",
      "Strahler number for reach (9): 3 / Reach Ignore: False\n"
     ]
    }
   ],
   "source": [
    "reaches = s.reaches\n",
    "\n",
    "for reach_id, reach in reaches.items():\n",
    "    print(f'Strahler number for reach ({reach_id}): {reach.strahler_number} / Reach Ignore: {reach.ignore}')"
   ]
  },
  {
   "cell_type": "code",
   "execution_count": 41,
   "metadata": {},
   "outputs": [],
   "source": [
    "import pandas as pd\n",
    "\n",
    "df = pd.DataFrame({'Reach_ID': [1,2,3,4,5,6,7,8,9], 'Receiving_Reach': [None,1,5,5,9,8,8,9,1]})"
   ]
  },
  {
   "cell_type": "code",
   "execution_count": 52,
   "metadata": {},
   "outputs": [
    {
     "name": "stdout",
     "output_type": "stream",
     "text": [
      "1 nan\n",
      "2 1.0\n",
      "3 5.0\n",
      "4 5.0\n",
      "5 9.0\n",
      "6 8.0\n",
      "7 8.0\n",
      "8 9.0\n",
      "9 1.0\n"
     ]
    }
   ],
   "source": [
    "for row in df.itertuples():\n",
    "    # print(row[])\n",
    "    print(row.Reach_ID, row.Receiving_Reach)"
   ]
  },
  {
   "cell_type": "code",
   "execution_count": 58,
   "metadata": {},
   "outputs": [
    {
     "name": "stdout",
     "output_type": "stream",
     "text": [
      "1.0\n",
      "2.0\n",
      "3.0\n",
      "4.0\n",
      "5.0\n",
      "6.0\n",
      "7.0\n",
      "8.0\n",
      "9.0\n"
     ]
    }
   ],
   "source": [
    "for index, row in df.iterrows():\n",
    "    print(row['Reach_ID'])"
   ]
  },
  {
   "cell_type": "code",
   "execution_count": 62,
   "metadata": {},
   "outputs": [],
   "source": [
    "from pathlib import Path"
   ]
  },
  {
   "cell_type": "code",
   "execution_count": null,
   "metadata": {},
   "outputs": [],
   "source": []
  },
  {
   "cell_type": "code",
   "execution_count": null,
   "metadata": {},
   "outputs": [],
   "source": [
    "w = Watershed()\n",
    "\n"
   ]
  },
  {
   "cell_type": "code",
   "execution_count": 3,
   "metadata": {},
   "outputs": [],
   "source": [
    "import networkx as nx"
   ]
  },
  {
   "cell_type": "code",
   "execution_count": 12,
   "metadata": {},
   "outputs": [
    {
     "data": {
      "image/png": "[encoded data removed]",
      "text/plain": [
       "<Figure size 640x480 with 1 Axes>"
      ]
     },
     "metadata": {},
     "output_type": "display_data"
    }
   ],
   "source": [
    "G = nx.DiGraph()\n",
    "\n",
    "edges = [[2,1], [9,1], [5,9], [8,9], [6,8], [7,8], [3,5], [4,5]]\n",
    "\n",
    "G.add_edges_from(edges)\n",
    "\n",
    "node_labels = {node: node for node in G.nodes()}\n",
    "\n",
    "pos = nx.planar_layout(G)\n",
    "\n",
    "nx.draw(G, with_labels=True, labels=node_labels)"
   ]
  },
  {
   "cell_type": "code",
   "execution_count": 13,
   "metadata": {},
   "outputs": [],
   "source": [
    "postorder_nodes = nx.traversal.dfs_postorder_nodes(G)"
   ]
  },
  {
   "cell_type": "code",
   "execution_count": 15,
   "metadata": {},
   "outputs": [
    {
     "data": {
      "text/plain": [
       "[1, 2, 9, 5, 8, 6, 7, 3, 4]"
      ]
     },
     "execution_count": 15,
     "metadata": {},
     "output_type": "execute_result"
    }
   ],
   "source": [
    "list(postorder_nodes)"
   ]
  },
  {
   "cell_type": "code",
   "execution_count": 49,
   "metadata": {},
   "outputs": [],
   "source": [
    "def custom_dfs_traversal_sorted_predecessors(G, start=None, visit_ascending_order=True, postorder=True):\n",
    "        \"\"\"\n",
    "        Custom DFS traversal of graph G given a start node \"start\". If start node is not provided \n",
    "        it will use the node with an out degree equal to 0\n",
    "        If visit_ascending_order = True then the predecessors of a given node will be visited in ascending order\n",
    "            (assuming nodes are sortable)\n",
    "        If postorder is true the nodes will be listed in a postorder fashion\n",
    "        \"\"\"\n",
    "        if start is None:\n",
    "            # list nodes with out_degree 0 and take the first one\n",
    "            start = [node[0] for node in G.out_degree() if node[1]==0][0]\n",
    "\n",
    "        visited = set()\n",
    "        result = []\n",
    "\n",
    "        stack = [start]\n",
    "        while stack:\n",
    "            node = stack.pop()\n",
    "            if node not in visited:\n",
    "                visited.add(node)\n",
    "                neighbors = sorted(G.predecessors(node), reverse=not(visit_ascending_order))\n",
    "                unvisited_neighbors = [neighbor for neighbor in neighbors if neighbor not in visited]\n",
    "                stack.extend(unvisited_neighbors)\n",
    "                result.append(node)\n",
    "\n",
    "        if postorder:\n",
    "            result = result[::-1]\n",
    "\n",
    "        return result"
   ]
  },
  {
   "cell_type": "code",
   "execution_count": 51,
   "metadata": {},
   "outputs": [
    {
     "data": {
      "text/plain": [
       "[7, 6, 8, 4, 3, 5, 9, 2, 1]"
      ]
     },
     "execution_count": 51,
     "metadata": {},
     "output_type": "execute_result"
    }
   ],
   "source": [
    "custom_dfs_traversal_sorted_predecessors(G, visit_ascending_order=False)"
   ]
  }
 ],
 "metadata": {
  "kernelspec": {
   "display_name": ".venv",
   "language": "python",
   "name": "python3"
  },
  "language_info": {
   "codemirror_mode": {
    "name": "ipython",
    "version": 3
   },
   "file_extension": ".py",
   "mimetype": "text/x-python",
   "name": "python",
   "nbconvert_exporter": "python",
   "pygments_lexer": "ipython3",
   "version": "3.11.4"
  },
  "orig_nbformat": 4
 },
 "nbformat": 4,
 "nbformat_minor": 2
}
