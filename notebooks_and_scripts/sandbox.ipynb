{
 "cells": [
  {
   "cell_type": "code",
   "execution_count": 6,
   "metadata": {},
   "outputs": [],
   "source": [
    "from pathlib import Path\n",
    "import topagnps2cche1d.tools as t2c"
   ]
  },
  {
   "cell_type": "code",
   "execution_count": 28,
   "metadata": {},
   "outputs": [],
   "source": [
    "import importlib\n",
    "importlib.reload(t2c);"
   ]
  },
  {
   "cell_type": "code",
   "execution_count": 7,
   "metadata": {},
   "outputs": [],
   "source": [
    "import numpy as np"
   ]
  },
  {
   "cell_type": "code",
   "execution_count": 8,
   "metadata": {},
   "outputs": [
    {
     "name": "stdout",
     "output_type": "stream",
     "text": [
      "[(0, 3), (1, 3), (2, 3), (2, 2), (3, 1)]\n"
     ]
    }
   ],
   "source": [
    "I = np.array([[0,0,0,1,0],\n",
    "              [0,0,0,1,0],\n",
    "              [0,0,1,1,0],\n",
    "              [0,1,0,0,0]])\n",
    "ordered_path = t2c.get_intermediate_nodes_img((0,3), (3,1), I)\n",
    "\n",
    "print(ordered_path)"
   ]
  },
  {
   "cell_type": "code",
   "execution_count": 10,
   "metadata": {},
   "outputs": [],
   "source": [
    "img_reach_ids = Path('../data_inputs/goodwin_creek_1m/AnnAGNPS_Reach_IDs.ASC')\n",
    "img, geoMatrix, ncols, nrows, nodataval, dataset = t2c.read_esri_asc_file(img_reach_ids)"
   ]
  },
  {
   "cell_type": "code",
   "execution_count": 15,
   "metadata": {},
   "outputs": [
    {
     "name": "stdout",
     "output_type": "stream",
     "text": [
      "[(5819, 1067), (5818, 1067), (5817, 1066), (5816, 1065), (5815, 1065), (5814, 1065), (5813, 1065), (5812, 1065), (5811, 1065), (5810, 1065), (5808, 1066), (5807, 1066), (5806, 1066), (5805, 1066), (5804, 1066), (5803, 1066), (5802, 1066), (5801, 1066), (5800, 1065), (5798, 1063), (5797, 1062), (5797, 1061), (5796, 1059), (5795, 1058), (5794, 1057)]\n"
     ]
    }
   ],
   "source": [
    "reach_906 = np.where(img == 906, 1, 0)\n",
    "\n",
    "usrowcol = (5819, 1067)\n",
    "dsrowcol = (5794, 1057)\n",
    "\n",
    "ordered_path = t2c.get_intermediate_nodes_img(usrowcol, dsrowcol, reach_906)\n",
    "print(ordered_path)"
   ]
  },
  {
   "cell_type": "code",
   "execution_count": 3,
   "metadata": {},
   "outputs": [
    {
     "data": {
      "text/plain": [
       "True"
      ]
     },
     "execution_count": 3,
     "metadata": {},
     "output_type": "execute_result"
    }
   ],
   "source": [
    "d = {'a':[1,5], 'b':[2,4], 'c':[3,6]}\n",
    "\n",
    "'a' in d"
   ]
  },
  {
   "cell_type": "code",
   "execution_count": 9,
   "metadata": {},
   "outputs": [
    {
     "data": {
      "text/plain": [
       "dict_items([('a', [1, 5]), ('b', [2, 4]), ('c', [3, 6])])"
      ]
     },
     "execution_count": 9,
     "metadata": {},
     "output_type": "execute_result"
    }
   ],
   "source": [
    "d.items()"
   ]
  },
  {
   "cell_type": "code",
   "execution_count": 7,
   "metadata": {},
   "outputs": [
    {
     "data": {
      "text/plain": [
       "True"
      ]
     },
     "execution_count": 7,
     "metadata": {},
     "output_type": "execute_result"
    }
   ],
   "source": [
    "[True for ur in d.values() if 1 in ur][0]"
   ]
  }
 ],
 "metadata": {
  "kernelspec": {
   "display_name": ".venv",
   "language": "python",
   "name": "python3"
  },
  "language_info": {
   "codemirror_mode": {
    "name": "ipython",
    "version": 3
   },
   "file_extension": ".py",
   "mimetype": "text/x-python",
   "name": "python",
   "nbconvert_exporter": "python",
   "pygments_lexer": "ipython3",
   "version": "3.11.4"
  },
  "orig_nbformat": 4
 },
 "nbformat": 4,
 "nbformat_minor": 2
}
