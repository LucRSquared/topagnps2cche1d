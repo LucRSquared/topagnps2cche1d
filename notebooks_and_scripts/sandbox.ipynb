{
 "cells": [
  {
   "cell_type": "code",
   "execution_count": 258,
   "metadata": {},
   "outputs": [],
   "source": [
    "from topagnps2cche1d.tools import find_extremities_binary\n",
    "import numpy as np\n",
    "import networkx as nx"
   ]
  },
  {
   "cell_type": "code",
   "execution_count": 84,
   "metadata": {},
   "outputs": [],
   "source": [
    "def get_neighborhood(I, r, c):\n",
    "    neighborhood = np.array(\n",
    "        [\n",
    "            [\n",
    "                I[r - 1, c - 1] if (r - 1 >= 0) and (c - 1 >= 0) else 0,\n",
    "                I[r - 1, c] if r - 1 >= 0 else 0,\n",
    "                I[r - 1, c + 1] if (r - 1 >= 0) and (c + 1 <= I.shape[1]) else 0,\n",
    "            ],\n",
    "            [\n",
    "                I[r, c - 1] if (c - 1 > 0) else 0,\n",
    "                I[r, c],\n",
    "                I[r, c + 1] if (c + 1 <= I.shape[1] - 1) else 0,\n",
    "            ],\n",
    "            [\n",
    "                I[r + 1, c - 1] if (r + 1 <= I.shape[0] - 1) and (c - 1 >= 0) else 0,\n",
    "                I[r + 1, c] if r + 1 <= I.shape[0] - 1 else 0,\n",
    "                I[r + 1, c + 1]\n",
    "                if (r + 1 <= I.shape[0] - 1) and (c + 1 <= I.shape[1])\n",
    "                else 0,\n",
    "            ],\n",
    "        ]\n",
    "    )\n",
    "    return neighborhood"
   ]
  },
  {
   "cell_type": "code",
   "execution_count": 369,
   "metadata": {},
   "outputs": [],
   "source": [
    "def path_crawler(rowcols):\n",
    "    \"\"\"\n",
    "    This function takes as input a list of (row, col) coordinates\n",
    "    forming a linear path and returns the linear path connecting them\n",
    "    prioritizing North/South/East/West direction over diagonals\n",
    "    \"\"\"\n",
    "    deltas = {\n",
    "        (-1, 0): \"North\",\n",
    "        (0, -1): \"West\",\n",
    "        (1, 0): \"South\",\n",
    "        (0, 1): \"East\",\n",
    "        (-1, -1): \"NorthWest\",\n",
    "        (1, -1): \"SouthWest\",\n",
    "        (1, 1): \"SouthEast\",\n",
    "        (-1, 1): \"NorthEast\",\n",
    "    }\n",
    "\n",
    "    G = nx.Graph()\n",
    "\n",
    "    rowcols_to_visit = rowcols.copy()\n",
    "    maxiter = len(rowcols_to_visit)\n",
    "    orphans = []\n",
    "\n",
    "    rowcol = rowcols_to_visit.pop(0)\n",
    "    start = rowcol\n",
    "\n",
    "    if not rowcols_to_visit:\n",
    "        # only one node\n",
    "        G.add_node(rowcol)\n",
    "\n",
    "    iter = 0\n",
    "    while rowcols_to_visit:\n",
    "        iter += 1\n",
    "        if iter == maxiter:\n",
    "            raise Exception(\n",
    "                \"Maximum number of iterations reached! Probably invalid path\"\n",
    "            )\n",
    "\n",
    "        for counter, delta in enumerate(deltas, 1):\n",
    "            rowcolnext = (rowcol[0] + delta[0], rowcol[1] + delta[1])\n",
    "\n",
    "            if rowcolnext in rowcols_to_visit:\n",
    "                G.add_edge(rowcol, rowcolnext)\n",
    "                # jump there\n",
    "                rowcol = rowcolnext\n",
    "                rowcols_to_visit.remove(rowcolnext)\n",
    "                break\n",
    "            elif counter == 8:\n",
    "                # if all directions have been found and there are still rowcols to visit\n",
    "                # it means the starting point was not an extremity. Therefore we need to start\n",
    "                # somewhere else and append the orphans that we'll deal with later\n",
    "                orphans.append(start)\n",
    "                rowcol = rowcols_to_visit.pop(0)\n",
    "                start = rowcol\n",
    "\n",
    "    # Finish connecting the orphans\n",
    "    for orphan in orphans:\n",
    "        for delta in deltas:\n",
    "            rowcolnext = (orphan[0] + delta[0], orphan[1] + delta[1])\n",
    "            if rowcolnext in rowcols:\n",
    "                G.add_edge(orphan, rowcolnext)\n",
    "\n",
    "    return G"
   ]
  },
  {
   "cell_type": "code",
   "execution_count": 370,
   "metadata": {},
   "outputs": [
    {
     "name": "stdout",
     "output_type": "stream",
     "text": [
      "[(0, 0), (0, 1), (0, 2), (1, 0), (2, 0)]\n"
     ]
    },
    {
     "data": {
      "image/png": "[encoded data removed]",
      "text/plain": [
       "<Figure size 640x480 with 1 Axes>"
      ]
     },
     "metadata": {},
     "output_type": "display_data"
    }
   ],
   "source": [
    "I = np.array([[1, 1, 1], [1, 0, 0], [1, 0, 0]])\n",
    "\n",
    "(rows, cols) = np.nonzero(I)\n",
    "\n",
    "rowcols = [(r, c) for r, c in zip(rows, cols)]\n",
    "print(rowcols)\n",
    "\n",
    "G = path_crawler(rowcols)\n",
    "\n",
    "pos = {node: [node[1], -node[0]] for node in G.nodes()}\n",
    "\n",
    "nx.draw(G, pos=pos)"
   ]
  },
  {
   "cell_type": "code",
   "execution_count": 300,
   "metadata": {},
   "outputs": [],
   "source": [
    "def find_extremities_binary(img, output_index_starts_one=False):\n",
    "    (rows, cols) = np.nonzero(img)\n",
    "\n",
    "    rowcols = [(row, col) for row, col in zip(rows, cols)]\n",
    "\n",
    "    G = path_crawler(rowcols)\n",
    "\n",
    "    extremities = [rowcol for rowcol in G.nodes() if nx.degree(G, rowcol) <= 1]\n",
    "\n",
    "    if output_index_starts_one:\n",
    "        extremities = [(r + 1, c + 1) for r, c in extremities]\n",
    "\n",
    "    return extremities"
   ]
  },
  {
   "cell_type": "code",
   "execution_count": 301,
   "metadata": {},
   "outputs": [
    {
     "name": "stdout",
     "output_type": "stream",
     "text": [
      "[(0, 0), (4, 4)]\n"
     ]
    }
   ],
   "source": [
    "# I = np.array([[1, 1, 0, 0, 0],\n",
    "#               [0, 1, 0, 0, 0],\n",
    "#               [0, 1, 0, 0, 0],\n",
    "#               [0, 1, 1, 0, 0],\n",
    "#               [0, 0, 0, 1, 0]])\n",
    "\n",
    "I = np.array(\n",
    "    [\n",
    "        [1, 1, 0, 0, 0],\n",
    "        [0, 1, 0, 0, 0],\n",
    "        [0, 1, 0, 0, 0],\n",
    "        [0, 0, 1, 1, 0],\n",
    "        [0, 0, 0, 1, 1],\n",
    "    ]\n",
    ")\n",
    "\n",
    "# I = np.array([[0, 0, 0, 0, 0],\n",
    "#               [1, 1, 0, 1, 1],\n",
    "#               [0, 1, 0, 1, 0],\n",
    "#               [0, 0, 1, 0, 0],\n",
    "#               [0, 0, 0, 0, 0]])\n",
    "\n",
    "\n",
    "extremities = find_extremities_binary(I)\n",
    "print(extremities)"
   ]
  },
  {
   "cell_type": "code",
   "execution_count": null,
   "metadata": {},
   "outputs": [],
   "source": []
  }
 ],
 "metadata": {
  "kernelspec": {
   "display_name": ".venv",
   "language": "python",
   "name": "python3"
  },
  "language_info": {
   "codemirror_mode": {
    "name": "ipython",
    "version": 3
   },
   "file_extension": ".py",
   "mimetype": "text/x-python",
   "name": "python",
   "nbconvert_exporter": "python",
   "pygments_lexer": "ipython3",
   "version": "3.11.4"
  },
  "orig_nbformat": 4
 },
 "nbformat": 4,
 "nbformat_minor": 2
}
