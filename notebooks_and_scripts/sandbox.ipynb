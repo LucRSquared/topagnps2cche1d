{
 "cells": [
  {
   "cell_type": "code",
   "execution_count": 49,
   "metadata": {},
   "outputs": [],
   "source": [
    "from topagnps2cche1d.tools import find_extremities_binary\n",
    "from scipy.signal import convolve2d\n",
    "import numpy as np"
   ]
  },
  {
   "cell_type": "code",
   "execution_count": 84,
   "metadata": {},
   "outputs": [],
   "source": [
    "def get_neighborhood(I, r, c):\n",
    "    neighborhood = np.array(\n",
    "        [\n",
    "            [\n",
    "                I[r - 1, c - 1] if (r - 1 >= 0) and (c - 1 >= 0) else 0,\n",
    "                I[r - 1, c] if r - 1 >= 0 else 0,\n",
    "                I[r - 1, c + 1] if (r - 1 >= 0) and (c + 1 <= I.shape[1]) else 0,\n",
    "            ],\n",
    "            [\n",
    "                I[r, c - 1] if (c - 1 > 0) else 0,\n",
    "                I[r, c],\n",
    "                I[r, c + 1] if (c + 1 <= I.shape[1] - 1) else 0,\n",
    "            ],\n",
    "            [\n",
    "                I[r + 1, c - 1] if (r + 1 <= I.shape[0] - 1) and (c - 1 >= 0) else 0,\n",
    "                I[r + 1, c] if r + 1 <= I.shape[0] - 1 else 0,\n",
    "                I[r + 1, c + 1]\n",
    "                if (r + 1 <= I.shape[0] - 1) and (c + 1 <= I.shape[1])\n",
    "                else 0,\n",
    "            ],\n",
    "        ]\n",
    "    )\n",
    "    return neighborhood\n",
    "\n",
    "\n",
    "def find_extremities_binary(img, output_index_starts_one=False):\n",
    "    (rows, cols) = np.nonzero(img)\n",
    "\n",
    "    # Initialize empty list of coordinates\n",
    "    extremities = []\n",
    "\n",
    "    # A MEDITER.................\n",
    "    # For each non-zero pixel...\n",
    "    for r, c in zip(rows, cols):\n",
    "        neighborhood = get_neighborhood(img, r, c)\n",
    "        if neighborhood == np.array([[0, 0, 0], [0, 1, 0], [0, 0, 0]]):\n",
    "            extremities.append((r, c))\n",
    "            break\n",
    "        elif neighborhood == np.array([[1, 1, 0], [0, 1, 0], [0, 0, 0]]):\n",
    "            extremities.append((r - 1, c - 1))\n",
    "\n",
    "        elif neighborhood == np.array([[0, 1, 1], [0, 1, 0], [0, 0, 0]]):\n",
    "            extremities.append((r - 1, c + 1))\n",
    "\n",
    "        elif neighborhood == np.array([[0, 0, 0], [0, 1, 0], [0, 1, 0]]):\n",
    "            extremities.append((r + 1, c))\n",
    "\n",
    "        elif neighborhood == np.array([[0, 0, 0], [1, 1, 0], [0, 0, 0]]):\n",
    "            extremities.append((r, c - 1))\n",
    "\n",
    "        elif neighborhood == np.array([[1, 0, 0], [0, 1, 0], [0, 0, 0]]):\n",
    "            extremities.append((r - 1, c - 1))\n",
    "\n",
    "    if output_index_starts_one:\n",
    "        extremities = [(r + 1, c + 1) for r, c in extremities]\n",
    "\n",
    "    return extremities"
   ]
  },
  {
   "cell_type": "code",
   "execution_count": 109,
   "metadata": {},
   "outputs": [
    {
     "name": "stdout",
     "output_type": "stream",
     "text": [
      "[[0 1 0 0]\n",
      " [0 2 0 0]\n",
      " [0 3 0 0]\n",
      " [2 2 0 0]]\n",
      "[(0, 1)]\n"
     ]
    }
   ],
   "source": [
    "I = np.array([[0, 1, 0, 0], [0, 1, 0, 0], [0, 1, 0, 0], [1, 1, 0, 0]])\n",
    "\n",
    "# I = np.array([[0,1,0,0],\n",
    "#               [0,1,0,0],\n",
    "#               [0,1,0,0],\n",
    "#               [0,1,0,0]])\n",
    "\n",
    "# I = np.array([[0,1,0,0],\n",
    "#               [0,1,0,0],\n",
    "#               [0,1,1,0],\n",
    "#               [0,0,1,0]])\n",
    "\n",
    "# I = np.array([[0,1,0],\n",
    "#               [0,1,0],\n",
    "#               [1,1,0]])\n",
    "\n",
    "neighb0 = np.array([[0, 0, 0], [0, 1, 0], [0, 0, 0]])\n",
    "\n",
    "neighb1 = np.array([[0, 1, 0], [0, 1, 0], [0, 0, 0]])\n",
    "\n",
    "neighb1 = np.array([[0, 0, 1], [0, 1, 0], [0, 0, 0]])\n",
    "\n",
    "neighborhoods = {0: np.array([[0, 0, 0], [0, 1, 0], [0, 0, 0]]), 1: []}\n",
    "\n",
    "\n",
    "neighbor_mask = np.array([[1, 1, 1], [1, 0, 1], [1, 1, 1]])\n",
    "\n",
    "J = convolve2d(I, neighbor_mask, mode=\"same\", boundary=\"fill\", fillvalue=0)\n",
    "J = np.where(I == 0, 0, J)\n",
    "print(J)\n",
    "\n",
    "extremities = [\n",
    "    (r, c) for r, c in np.transpose(np.where((J <= min(2, J[J > 0].min())) & (I == 1)))\n",
    "]\n",
    "print(extremities)"
   ]
  },
  {
   "cell_type": "code",
   "execution_count": 136,
   "metadata": {},
   "outputs": [],
   "source": []
  },
  {
   "cell_type": "code",
   "execution_count": 139,
   "metadata": {},
   "outputs": [
    {
     "name": "stdout",
     "output_type": "stream",
     "text": [
      "(4, 4)\n",
      "[[0 0 1]\n",
      " [0 1 1]\n",
      " [0 0 0]]\n"
     ]
    }
   ],
   "source": [
    "I = np.array([[0, 1, 0, 0], [0, 1, 0, 0], [0, 1, 0, 0], [1, 1, 0, 0]])\n",
    "\n",
    "print(I.shape)\n",
    "\n",
    "print(get_neighborhood(I, 3, 0))"
   ]
  },
  {
   "cell_type": "code",
   "execution_count": 132,
   "metadata": {},
   "outputs": [
    {
     "data": {
      "text/plain": [
       "1"
      ]
     },
     "execution_count": 132,
     "metadata": {},
     "output_type": "execute_result"
    }
   ],
   "source": [
    "I[0, 1]"
   ]
  },
  {
   "cell_type": "code",
   "execution_count": 108,
   "metadata": {},
   "outputs": [
    {
     "data": {
      "text/plain": [
       "array([[0, 1, 0, 0],\n",
       "       [0, 1, 0, 0],\n",
       "       [0, 1, 0, 0],\n",
       "       [1, 1, 0, 0]])"
      ]
     },
     "execution_count": 108,
     "metadata": {},
     "output_type": "execute_result"
    }
   ],
   "source": [
    "np.rot90(I, 4)"
   ]
  },
  {
   "cell_type": "code",
   "execution_count": 94,
   "metadata": {},
   "outputs": [
    {
     "name": "stdout",
     "output_type": "stream",
     "text": [
      "0 1\n",
      "3 2\n"
     ]
    }
   ],
   "source": [
    "rows, cols = np.where((J <= 2) & (I == 1))\n",
    "\n",
    "for r, c in zip(rows, cols):\n",
    "    print(r, c)"
   ]
  },
  {
   "cell_type": "code",
   "execution_count": 86,
   "metadata": {},
   "outputs": [
    {
     "name": "stdout",
     "output_type": "stream",
     "text": [
      "[[0 1]]\n"
     ]
    }
   ],
   "source": [
    "extremities = find_extremities_binary(I)\n",
    "print(extremities)"
   ]
  }
 ],
 "metadata": {
  "kernelspec": {
   "display_name": ".venv",
   "language": "python",
   "name": "python3"
  },
  "language_info": {
   "codemirror_mode": {
    "name": "ipython",
    "version": 3
   },
   "file_extension": ".py",
   "mimetype": "text/x-python",
   "name": "python",
   "nbconvert_exporter": "python",
   "pygments_lexer": "ipython3",
   "version": "3.11.4"
  },
  "orig_nbformat": 4
 },
 "nbformat": 4,
 "nbformat_minor": 2
}
