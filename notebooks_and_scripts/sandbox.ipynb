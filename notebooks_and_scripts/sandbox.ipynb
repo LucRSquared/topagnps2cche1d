{
 "cells": [
  {
   "cell_type": "code",
   "execution_count": 49,
   "metadata": {},
   "outputs": [],
   "source": [
    "from topagnps2cche1d.tools import find_extremities_binary\n",
    "from scipy.signal import convolve2d\n",
    "import numpy as np"
   ]
  },
  {
   "cell_type": "code",
   "execution_count": 84,
   "metadata": {},
   "outputs": [],
   "source": [
    "def get_neighborhood(I, r, c):\n",
    "    neighborhood = np.array(\n",
    "        [\n",
    "            [\n",
    "                I[r - 1, c - 1] if (r - 1 >= 0) and (c - 1 >= 0) else 0,\n",
    "                I[r - 1, c] if r - 1 >= 0 else 0,\n",
    "                I[r - 1, c + 1] if (r - 1 >= 0) and (c + 1 <= I.shape[1]) else 0,\n",
    "            ],\n",
    "            [\n",
    "                I[r, c - 1] if (c - 1 > 0) else 0,\n",
    "                I[r, c],\n",
    "                I[r, c + 1] if (c + 1 <= I.shape[1] - 1) else 0,\n",
    "            ],\n",
    "            [\n",
    "                I[r + 1, c - 1] if (r + 1 <= I.shape[0] - 1) and (c - 1 >= 0) else 0,\n",
    "                I[r + 1, c] if r + 1 <= I.shape[0] - 1 else 0,\n",
    "                I[r + 1, c + 1]\n",
    "                if (r + 1 <= I.shape[0] - 1) and (c + 1 <= I.shape[1])\n",
    "                else 0,\n",
    "            ],\n",
    "        ]\n",
    "    )\n",
    "    return neighborhood\n",
    "\n",
    "\n",
    "def find_extremities_binary(img, output_index_starts_one=False):\n",
    "\n",
    "    neighbor_mask_d8 = np.array([[1, 1, 1], [1, 0, 1], [1, 1, 1]])\n",
    "    neighbor_mask_d4 = np.array([[0, 1, 0], [1, 0, 1], [0, 1, 0]])\n",
    "\n",
    "    num_neighbor_map_d8 = convolve2d(img, neighbor_mask_d8, mode=\"same\")\n",
    "    num_neighbor_map_d8 = np.where(num_neighbor_map_d8 == 0, 0, num_neighbor_map_d8)\n",
    "\n",
    "    num_neighbor_map_d4 = convolve2d(img, neighbor_mask_d4, mode=\"same\")\n",
    "    num_neighbor_map_d4 = np.where(num_neighbor_map_d4 == 0, 0, num_neighbor_map_d4)\n",
    "\n",
    "    count_ones_d8 = list(num_neighbor_map_d8.ravel()).count(1)\n",
    "    count_ones_d4 = list(num_neighbor_map_d4.ravel()).count(1)\n",
    "\n",
    "    if 0 < count_ones_d8 <= 2: # easily identifiable ends\n",
    "        # if 1: we know one end\n",
    "        # if 2: we know both ends, easiest case\n",
    "        extremities = [\n",
    "        (r, c) for r, c in np.transpose(np.where(num_neighbor_map_d8 == 1))]\n",
    "\n",
    "\n",
    "\n",
    "\n",
    "\n",
    "        \n",
    "\n",
    "    if len(extremities) == 2:\n",
    "        if output_index_starts_one:\n",
    "            extremities = [(r + 1, c + 1) for r, c in extremities]\n",
    "        return extremities\n",
    "\n",
    "    (rows, cols) = np.nonzero(img)\n",
    "\n",
    "    # Initialize empty list of coordinates\n",
    "    extremities = []\n",
    "\n",
    "    # A MEDITER.................\n",
    "    # For each non-zero pixel...\n",
    "    for r, c in zip(rows, cols):\n",
    "        neighborhood = get_neighborhood(img, r, c)\n",
    "        if neighborhood == np.array([[0, 0, 0], [0, 1, 0], [0, 0, 0]]):\n",
    "            extremities.append((r, c))\n",
    "            break\n",
    "        elif neighborhood == np.array([[1, 1, 0], [0, 1, 0], [0, 0, 0]]):\n",
    "            extremities.append((r - 1, c - 1))\n",
    "\n",
    "        elif neighborhood == np.array([[0, 1, 1], [0, 1, 0], [0, 0, 0]]):\n",
    "            extremities.append((r - 1, c + 1))\n",
    "\n",
    "        elif neighborhood == np.array([[0, 0, 0], [0, 1, 0], [0, 1, 0]]):\n",
    "            extremities.append((r + 1, c))\n",
    "\n",
    "        elif neighborhood == np.array([[0, 0, 0], [1, 1, 0], [0, 0, 0]]):\n",
    "            extremities.append((r, c - 1))\n",
    "\n",
    "        elif neighborhood == np.array([[1, 0, 0], [0, 1, 0], [0, 0, 0]]):\n",
    "            extremities.append((r - 1, c - 1))\n",
    "\n",
    "    \n",
    "\n",
    "    return extremities"
   ]
  },
  {
   "cell_type": "code",
   "execution_count": 175,
   "metadata": {},
   "outputs": [
    {
     "name": "stdout",
     "output_type": "stream",
     "text": [
      "[[2 2 0 0 0]\n",
      " [0 3 0 0 0]\n",
      " [0 2 0 0 0]\n",
      " [0 0 2 0 0]\n",
      " [0 0 0 2 1]]\n",
      "[[1 2 0 0 0]\n",
      " [0 2 0 0 0]\n",
      " [0 1 0 0 0]\n",
      " [0 0 0 0 0]\n",
      " [0 0 0 1 1]]\n",
      "[(4, 4)]\n",
      "[(0, 0), (2, 1), (4, 3), (4, 4)]\n",
      "[[1 0 0 0 0]\n",
      " [0 1 0 0 0]\n",
      " [0 1 0 0 0]\n",
      " [0 0 2 0 0]\n",
      " [0 0 0 1 0]]\n",
      "It should be (0,0), and (4,3)\n"
     ]
    }
   ],
   "source": [
    "# I = np.array([[1, 1, 0, 0, 0],\n",
    "#               [0, 1, 0, 0, 0], \n",
    "#               [0, 1, 0, 0, 0], \n",
    "#               [0, 1, 1, 0, 0],\n",
    "#               [0, 0, 0, 1, 0]])\n",
    "\n",
    "I = np.array([[1, 1, 0, 0, 0],\n",
    "              [0, 1, 0, 0, 0], \n",
    "              [0, 1, 0, 0, 0], \n",
    "              [0, 0, 1, 0, 0],\n",
    "              [0, 0, 0, 1, 1]])\n",
    "\n",
    "neighbor_mask_d8 = np.array([[1, 1, 1], [1, 0, 1], [1, 1, 1]])\n",
    "neighbor_mask_d4 = np.array([[0, 1, 0], [1, 0, 1], [0, 1, 0]])\n",
    "\n",
    "J_d8 = convolve2d(I, neighbor_mask_d8, mode=\"same\")\n",
    "J_d8 = np.where(I == 0, 0, J_d8)\n",
    "print(J_d8)\n",
    "\n",
    "J_d4 = convolve2d(I, neighbor_mask_d4, mode=\"same\")\n",
    "J_d4 = np.where(I == 0, 0, J_d4)\n",
    "print(J_d4)\n",
    "\n",
    "# extremities = [\n",
    "#     (r, c) for r, c in np.transpose(np.where((J <= min(2, J[J > 0].min())) & (I == 1)))\n",
    "# ]\n",
    "extremities_d8 = [\n",
    "    (r, c) for r, c in np.transpose(np.where((J_d8 == 1)))\n",
    "]\n",
    "extremities_d4 = [\n",
    "    (r, c) for r, c in np.transpose(np.where((J_d4 == 1)))\n",
    "]\n",
    "\n",
    "print(extremities_d8)\n",
    "print(extremities_d4)\n",
    "\n",
    "print(J_d8-J_d4)\n",
    "\n",
    "# chercher les d4, tester si ils ont des voisins d8\n",
    "print('It should be (0,0), and (4,3)')\n"
   ]
  },
  {
   "cell_type": "code",
   "execution_count": 139,
   "metadata": {},
   "outputs": [
    {
     "name": "stdout",
     "output_type": "stream",
     "text": [
      "(4, 4)\n",
      "[[0 0 1]\n",
      " [0 1 1]\n",
      " [0 0 0]]\n"
     ]
    }
   ],
   "source": [
    "I = np.array([[0, 1, 0, 0], [0, 1, 0, 0], [0, 1, 0, 0], [1, 1, 0, 0]])\n",
    "\n",
    "print(I.shape)\n",
    "\n",
    "print(get_neighborhood(I, 3, 0))"
   ]
  },
  {
   "cell_type": "code",
   "execution_count": 132,
   "metadata": {},
   "outputs": [
    {
     "data": {
      "text/plain": [
       "1"
      ]
     },
     "execution_count": 132,
     "metadata": {},
     "output_type": "execute_result"
    }
   ],
   "source": [
    "I[0, 1]"
   ]
  },
  {
   "cell_type": "code",
   "execution_count": 108,
   "metadata": {},
   "outputs": [
    {
     "data": {
      "text/plain": [
       "array([[0, 1, 0, 0],\n",
       "       [0, 1, 0, 0],\n",
       "       [0, 1, 0, 0],\n",
       "       [1, 1, 0, 0]])"
      ]
     },
     "execution_count": 108,
     "metadata": {},
     "output_type": "execute_result"
    }
   ],
   "source": [
    "np.rot90(I, 4)"
   ]
  },
  {
   "cell_type": "code",
   "execution_count": 94,
   "metadata": {},
   "outputs": [
    {
     "name": "stdout",
     "output_type": "stream",
     "text": [
      "0 1\n",
      "3 2\n"
     ]
    }
   ],
   "source": [
    "rows, cols = np.where((J <= 2) & (I == 1))\n",
    "\n",
    "for r, c in zip(rows, cols):\n",
    "    print(r, c)"
   ]
  },
  {
   "cell_type": "code",
   "execution_count": 86,
   "metadata": {},
   "outputs": [
    {
     "name": "stdout",
     "output_type": "stream",
     "text": [
      "[[0 1]]\n"
     ]
    }
   ],
   "source": [
    "extremities = find_extremities_binary(I)\n",
    "print(extremities)"
   ]
  }
 ],
 "metadata": {
  "kernelspec": {
   "display_name": ".venv",
   "language": "python",
   "name": "python3"
  },
  "language_info": {
   "codemirror_mode": {
    "name": "ipython",
    "version": 3
   },
   "file_extension": ".py",
   "mimetype": "text/x-python",
   "name": "python",
   "nbconvert_exporter": "python",
   "pygments_lexer": "ipython3",
   "version": "3.11.4"
  },
  "orig_nbformat": 4
 },
 "nbformat": 4,
 "nbformat_minor": 2
}
