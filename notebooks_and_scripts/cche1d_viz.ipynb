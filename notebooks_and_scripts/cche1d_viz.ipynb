{
 "cells": [
  {
   "cell_type": "code",
   "execution_count": 2,
   "metadata": {},
   "outputs": [],
   "source": [
    "import topagnps2cche1d.tools as t2c"
   ]
  },
  {
   "cell_type": "code",
   "execution_count": 3,
   "metadata": {},
   "outputs": [],
   "source": [
    "srcfolder = 'netchanTest_example_cche1d_input_files/'\n",
    "filepath_nodes = srcfolder + 'netchan_nodes.dat'\n",
    "filepath_reach = srcfolder + 'netchan_reach.dat'\n",
    "filepath_csec = srcfolder + 'netchan_csec.dat'\n",
    "filepath_csprf = srcfolder + 'netchan_csprf.dat'"
   ]
  },
  {
   "cell_type": "code",
   "execution_count": 4,
   "metadata": {},
   "outputs": [
    {
     "data": {
      "application/vnd.plotly.v1+json": {
       "config": {
        "plotlyServerURL": "https://plot.ly"
       },
       "data": [
        {
         "customdata": [
          [
           -1,
           11,
           -1,
           1
          ],
          [
           -1,
           20,
           -1,
           3
          ],
          [
           -1,
           32,
           -1,
           7
          ]
         ],
         "hovertemplate": "<b>%{hovertext}</b><br><br>ND_TYPE_SHOW=0<br>ND_TYPE=0<br>ND_XC=%{x}<br>ND_YC=%{y}<br>ND_ID=%{text}<br>ND_USID=%{customdata[0]}<br>ND_DSID=%{customdata[1]}<br>ND_US2ID=%{customdata[2]}<br>ND_CSID=%{customdata[3]}<extra></extra>",
         "hovertext": [
          1,
          3,
          7
         ],
         "legendgroup": "0, 0",
         "marker": {
          "color": "#636efa",
          "size": 5,
          "symbol": "circle"
         },
         "mode": "markers+text",
         "name": "0, 0",
         "orientation": "v",
         "showlegend": true,
         "text": [
          1,
          3,
          7
         ],
         "textposition": "bottom left",
         "type": "scatter",
         "x": [
          710.43862313,
          5181.95834764,
          3191.07130572
         ],
         "xaxis": "x",
         "y": [
          9236.69682772,
          9849.2773148,
          3914.9023134
         ],
         "yaxis": "y"
        },
        {
         "customdata": [
          [
           48,
           2,
           -1,
           2
          ]
         ],
         "hovertemplate": "<b>%{hovertext}</b><br><br>ND_TYPE_SHOW=9<br>ND_TYPE=9<br>ND_XC=%{x}<br>ND_YC=%{y}<br>ND_ID=%{text}<br>ND_USID=%{customdata[0]}<br>ND_DSID=%{customdata[1]}<br>ND_US2ID=%{customdata[2]}<br>ND_CSID=%{customdata[3]}<extra></extra>",
         "hovertext": [
          2
         ],
         "legendgroup": "9, 9",
         "marker": {
          "color": "#EF553B",
          "size": 5,
          "symbol": "diamond"
         },
         "mode": "markers+text",
         "name": "9, 9",
         "orientation": "v",
         "showlegend": true,
         "text": [
          2
         ],
         "textposition": "bottom left",
         "type": "scatter",
         "x": [
          13025.86128697
         ],
         "xaxis": "x",
         "y": [
          2855.64843912
         ],
         "yaxis": "y"
        },
        {
         "customdata": [
          [
           26,
           6,
           -1,
           4
          ],
          [
           19,
           6,
           -1,
           4
          ],
          [
           39,
           10,
           -1,
           8
          ],
          [
           31,
           10,
           -1,
           8
          ]
         ],
         "hovertemplate": "<b>%{hovertext}</b><br><br>ND_TYPE_SHOW=3<br>ND_TYPE=3<br>ND_XC=%{x}<br>ND_YC=%{y}<br>ND_ID=%{text}<br>ND_USID=%{customdata[0]}<br>ND_DSID=%{customdata[1]}<br>ND_US2ID=%{customdata[2]}<br>ND_CSID=%{customdata[3]}<extra></extra>",
         "hovertext": [
          4,
          5,
          8,
          9
         ],
         "legendgroup": "3, 3",
         "marker": {
          "color": "#00cc96",
          "size": 5,
          "symbol": "square"
         },
         "mode": "markers+text",
         "name": "3, 3",
         "orientation": "v",
         "showlegend": true,
         "text": [
          4,
          5,
          8,
          9
         ],
         "textposition": "bottom left",
         "type": "scatter",
         "x": [
          5254.32235857,
          5254.32235857,
          7700.19213151,
          7700.19213151
         ],
         "xaxis": "x",
         "y": [
          6882.35278453,
          6882.35278453,
          5615.06267201,
          5615.06267201
         ],
         "yaxis": "y"
        },
        {
         "customdata": [
          [
           5,
           27,
           4,
           4
          ],
          [
           8,
           40,
           9,
           8
          ]
         ],
         "hovertemplate": "<b>%{hovertext}</b><br><br>ND_TYPE_SHOW=2<br>ND_TYPE=2<br>ND_XC=%{x}<br>ND_YC=%{y}<br>ND_ID=%{text}<br>ND_USID=%{customdata[0]}<br>ND_DSID=%{customdata[1]}<br>ND_US2ID=%{customdata[2]}<br>ND_CSID=%{customdata[3]}<extra></extra>",
         "hovertext": [
          6,
          10
         ],
         "legendgroup": "2, 2",
         "marker": {
          "color": "#ab63fa",
          "size": 5,
          "symbol": "x"
         },
         "mode": "markers+text",
         "name": "2, 2",
         "orientation": "v",
         "showlegend": true,
         "text": [
          6,
          10
         ],
         "textposition": "bottom left",
         "type": "scatter",
         "x": [
          5254.32235857,
          7700.19213151
         ],
         "xaxis": "x",
         "y": [
          6882.35278453,
          5615.06267201
         ],
         "yaxis": "y"
        },
        {
         "customdata": [
          [
           1,
           12,
           -1,
           11
          ],
          [
           11,
           13,
           -1,
           12
          ],
          [
           12,
           14,
           -1,
           13
          ],
          [
           13,
           15,
           -1,
           14
          ],
          [
           14,
           16,
           -1,
           15
          ],
          [
           15,
           17,
           -1,
           16
          ],
          [
           16,
           18,
           -1,
           17
          ],
          [
           17,
           19,
           -1,
           18
          ],
          [
           18,
           5,
           -1,
           19
          ],
          [
           3,
           21,
           -1,
           20
          ],
          [
           20,
           22,
           -1,
           21
          ],
          [
           21,
           23,
           -1,
           22
          ],
          [
           22,
           24,
           -1,
           23
          ],
          [
           23,
           25,
           -1,
           24
          ],
          [
           24,
           26,
           -1,
           25
          ],
          [
           25,
           4,
           -1,
           26
          ],
          [
           6,
           28,
           -1,
           27
          ],
          [
           27,
           29,
           -1,
           28
          ],
          [
           28,
           30,
           -1,
           29
          ],
          [
           29,
           31,
           -1,
           30
          ],
          [
           30,
           9,
           -1,
           31
          ],
          [
           7,
           33,
           -1,
           32
          ],
          [
           32,
           34,
           -1,
           33
          ],
          [
           33,
           35,
           -1,
           34
          ],
          [
           34,
           36,
           -1,
           35
          ],
          [
           35,
           37,
           -1,
           36
          ],
          [
           36,
           38,
           -1,
           37
          ],
          [
           37,
           39,
           -1,
           38
          ],
          [
           38,
           8,
           -1,
           39
          ],
          [
           10,
           41,
           -1,
           40
          ],
          [
           40,
           42,
           -1,
           41
          ],
          [
           41,
           43,
           -1,
           42
          ],
          [
           42,
           44,
           -1,
           43
          ],
          [
           43,
           45,
           -1,
           44
          ],
          [
           44,
           46,
           -1,
           45
          ],
          [
           45,
           47,
           -1,
           46
          ],
          [
           46,
           48,
           -1,
           47
          ],
          [
           47,
           2,
           -1,
           48
          ]
         ],
         "hovertemplate": "<b>%{hovertext}</b><br><br>ND_TYPE_SHOW=6<br>ND_TYPE=6<br>ND_XC=%{x}<br>ND_YC=%{y}<br>ND_ID=%{text}<br>ND_USID=%{customdata[0]}<br>ND_DSID=%{customdata[1]}<br>ND_US2ID=%{customdata[2]}<br>ND_CSID=%{customdata[3]}<extra></extra>",
         "hovertext": [
          11,
          12,
          13,
          14,
          15,
          16,
          17,
          18,
          19,
          20,
          21,
          22,
          23,
          24,
          25,
          26,
          27,
          28,
          29,
          30,
          31,
          32,
          33,
          34,
          35,
          36,
          37,
          38,
          39,
          40,
          41,
          42,
          43,
          44,
          45,
          46,
          47,
          48
         ],
         "legendgroup": "6, 6",
         "marker": {
          "color": "#FFA15A",
          "size": 5,
          "symbol": "cross"
         },
         "mode": "markers+text",
         "name": "6, 6",
         "orientation": "v",
         "showlegend": true,
         "text": [
          11,
          12,
          13,
          14,
          15,
          16,
          17,
          18,
          19,
          20,
          21,
          22,
          23,
          24,
          25,
          26,
          27,
          28,
          29,
          30,
          31,
          32,
          33,
          34,
          35,
          36,
          37,
          38,
          39,
          40,
          41,
          42,
          43,
          44,
          45,
          46,
          47,
          48
         ],
         "textposition": "bottom left",
         "type": "scatter",
         "x": [
          1164.82699667,
          1619.21537022,
          2073.60374376,
          2527.9921173,
          2982.38049085,
          3436.76886439,
          3891.15723794,
          4345.54561148,
          4799.93398502,
          5191.00384901,
          5200.04935037,
          5209.09485174,
          5218.1403531,
          5227.18585447,
          5236.23135584,
          5245.2768572,
          5661.96732072,
          6069.61228288,
          6477.25724504,
          6884.9022072,
          7292.54716935,
          3692.08473081,
          4193.0981559,
          4694.11158098,
          5195.12500607,
          5696.13843116,
          6197.15185625,
          6698.16528133,
          7199.17870642,
          8232.75904706,
          8765.3259626,
          9297.89287815,
          9830.4597937,
          10363.02670924,
          10895.59362479,
          11428.16054033,
          11960.72745588,
          12493.29437143
         ],
         "xaxis": "x",
         "y": [
          9001.2624234,
          8765.82801908,
          8530.39361476,
          8294.95921044,
          8059.52480612,
          7824.0904018,
          7588.65599749,
          7353.22159317,
          7117.78718885,
          9478.41174852,
          9107.54618224,
          8736.68061595,
          8365.81504967,
          7994.94948338,
          7624.0839171,
          7253.21835081,
          6671.13776577,
          6459.92274702,
          6248.70772827,
          6037.49270952,
          5826.27769076,
          4103.80901991,
          4292.71572643,
          4481.62243294,
          4670.52913945,
          4859.43584596,
          5048.34255247,
          5237.24925898,
          5426.1559655,
          5339.12124872,
          5063.17982543,
          4787.23840214,
          4511.29697885,
          4235.35555556,
          3959.41413227,
          3683.47270898,
          3407.53128569,
          3131.5898624
         ],
         "yaxis": "y"
        }
       ],
       "layout": {
        "height": 900,
        "legend": {
         "title": {
          "text": "ND_TYPE_SHOW, ND_TYPE"
         },
         "tracegroupgap": 0
        },
        "showlegend": false,
        "template": {
         "data": {
          "bar": [
           {
            "error_x": {
             "color": "#2a3f5f"
            },
            "error_y": {
             "color": "#2a3f5f"
            },
            "marker": {
             "line": {
              "color": "#E5ECF6",
              "width": 0.5
             },
             "pattern": {
              "fillmode": "overlay",
              "size": 10,
              "solidity": 0.2
             }
            },
            "type": "bar"
           }
          ],
          "barpolar": [
           {
            "marker": {
             "line": {
              "color": "#E5ECF6",
              "width": 0.5
             },
             "pattern": {
              "fillmode": "overlay",
              "size": 10,
              "solidity": 0.2
             }
            },
            "type": "barpolar"
           }
          ],
          "carpet": [
           {
            "aaxis": {
             "endlinecolor": "#2a3f5f",
             "gridcolor": "white",
             "linecolor": "white",
             "minorgridcolor": "white",
             "startlinecolor": "#2a3f5f"
            },
            "baxis": {
             "endlinecolor": "#2a3f5f",
             "gridcolor": "white",
             "linecolor": "white",
             "minorgridcolor": "white",
             "startlinecolor": "#2a3f5f"
            },
            "type": "carpet"
           }
          ],
          "choropleth": [
           {
            "colorbar": {
             "outlinewidth": 0,
             "ticks": ""
            },
            "type": "choropleth"
           }
          ],
          "contour": [
           {
            "colorbar": {
             "outlinewidth": 0,
             "ticks": ""
            },
            "colorscale": [
             [
              0,
              "#0d0887"
             ],
             [
              0.1111111111111111,
              "#46039f"
             ],
             [
              0.2222222222222222,
              "#7201a8"
             ],
             [
              0.3333333333333333,
              "#9c179e"
             ],
             [
              0.4444444444444444,
              "#bd3786"
             ],
             [
              0.5555555555555556,
              "#d8576b"
             ],
             [
              0.6666666666666666,
              "#ed7953"
             ],
             [
              0.7777777777777778,
              "#fb9f3a"
             ],
             [
              0.8888888888888888,
              "#fdca26"
             ],
             [
              1,
              "#f0f921"
             ]
            ],
            "type": "contour"
           }
          ],
          "contourcarpet": [
           {
            "colorbar": {
             "outlinewidth": 0,
             "ticks": ""
            },
            "type": "contourcarpet"
           }
          ],
          "heatmap": [
           {
            "colorbar": {
             "outlinewidth": 0,
             "ticks": ""
            },
            "colorscale": [
             [
              0,
              "#0d0887"
             ],
             [
              0.1111111111111111,
              "#46039f"
             ],
             [
              0.2222222222222222,
              "#7201a8"
             ],
             [
              0.3333333333333333,
              "#9c179e"
             ],
             [
              0.4444444444444444,
              "#bd3786"
             ],
             [
              0.5555555555555556,
              "#d8576b"
             ],
             [
              0.6666666666666666,
              "#ed7953"
             ],
             [
              0.7777777777777778,
              "#fb9f3a"
             ],
             [
              0.8888888888888888,
              "#fdca26"
             ],
             [
              1,
              "#f0f921"
             ]
            ],
            "type": "heatmap"
           }
          ],
          "heatmapgl": [
           {
            "colorbar": {
             "outlinewidth": 0,
             "ticks": ""
            },
            "colorscale": [
             [
              0,
              "#0d0887"
             ],
             [
              0.1111111111111111,
              "#46039f"
             ],
             [
              0.2222222222222222,
              "#7201a8"
             ],
             [
              0.3333333333333333,
              "#9c179e"
             ],
             [
              0.4444444444444444,
              "#bd3786"
             ],
             [
              0.5555555555555556,
              "#d8576b"
             ],
             [
              0.6666666666666666,
              "#ed7953"
             ],
             [
              0.7777777777777778,
              "#fb9f3a"
             ],
             [
              0.8888888888888888,
              "#fdca26"
             ],
             [
              1,
              "#f0f921"
             ]
            ],
            "type": "heatmapgl"
           }
          ],
          "histogram": [
           {
            "marker": {
             "pattern": {
              "fillmode": "overlay",
              "size": 10,
              "solidity": 0.2
             }
            },
            "type": "histogram"
           }
          ],
          "histogram2d": [
           {
            "colorbar": {
             "outlinewidth": 0,
             "ticks": ""
            },
            "colorscale": [
             [
              0,
              "#0d0887"
             ],
             [
              0.1111111111111111,
              "#46039f"
             ],
             [
              0.2222222222222222,
              "#7201a8"
             ],
             [
              0.3333333333333333,
              "#9c179e"
             ],
             [
              0.4444444444444444,
              "#bd3786"
             ],
             [
              0.5555555555555556,
              "#d8576b"
             ],
             [
              0.6666666666666666,
              "#ed7953"
             ],
             [
              0.7777777777777778,
              "#fb9f3a"
             ],
             [
              0.8888888888888888,
              "#fdca26"
             ],
             [
              1,
              "#f0f921"
             ]
            ],
            "type": "histogram2d"
           }
          ],
          "histogram2dcontour": [
           {
            "colorbar": {
             "outlinewidth": 0,
             "ticks": ""
            },
            "colorscale": [
             [
              0,
              "#0d0887"
             ],
             [
              0.1111111111111111,
              "#46039f"
             ],
             [
              0.2222222222222222,
              "#7201a8"
             ],
             [
              0.3333333333333333,
              "#9c179e"
             ],
             [
              0.4444444444444444,
              "#bd3786"
             ],
             [
              0.5555555555555556,
              "#d8576b"
             ],
             [
              0.6666666666666666,
              "#ed7953"
             ],
             [
              0.7777777777777778,
              "#fb9f3a"
             ],
             [
              0.8888888888888888,
              "#fdca26"
             ],
             [
              1,
              "#f0f921"
             ]
            ],
            "type": "histogram2dcontour"
           }
          ],
          "mesh3d": [
           {
            "colorbar": {
             "outlinewidth": 0,
             "ticks": ""
            },
            "type": "mesh3d"
           }
          ],
          "parcoords": [
           {
            "line": {
             "colorbar": {
              "outlinewidth": 0,
              "ticks": ""
             }
            },
            "type": "parcoords"
           }
          ],
          "pie": [
           {
            "automargin": true,
            "type": "pie"
           }
          ],
          "scatter": [
           {
            "marker": {
             "colorbar": {
              "outlinewidth": 0,
              "ticks": ""
             }
            },
            "type": "scatter"
           }
          ],
          "scatter3d": [
           {
            "line": {
             "colorbar": {
              "outlinewidth": 0,
              "ticks": ""
             }
            },
            "marker": {
             "colorbar": {
              "outlinewidth": 0,
              "ticks": ""
             }
            },
            "type": "scatter3d"
           }
          ],
          "scattercarpet": [
           {
            "marker": {
             "colorbar": {
              "outlinewidth": 0,
              "ticks": ""
             }
            },
            "type": "scattercarpet"
           }
          ],
          "scattergeo": [
           {
            "marker": {
             "colorbar": {
              "outlinewidth": 0,
              "ticks": ""
             }
            },
            "type": "scattergeo"
           }
          ],
          "scattergl": [
           {
            "marker": {
             "colorbar": {
              "outlinewidth": 0,
              "ticks": ""
             }
            },
            "type": "scattergl"
           }
          ],
          "scattermapbox": [
           {
            "marker": {
             "colorbar": {
              "outlinewidth": 0,
              "ticks": ""
             }
            },
            "type": "scattermapbox"
           }
          ],
          "scatterpolar": [
           {
            "marker": {
             "colorbar": {
              "outlinewidth": 0,
              "ticks": ""
             }
            },
            "type": "scatterpolar"
           }
          ],
          "scatterpolargl": [
           {
            "marker": {
             "colorbar": {
              "outlinewidth": 0,
              "ticks": ""
             }
            },
            "type": "scatterpolargl"
           }
          ],
          "scatterternary": [
           {
            "marker": {
             "colorbar": {
              "outlinewidth": 0,
              "ticks": ""
             }
            },
            "type": "scatterternary"
           }
          ],
          "surface": [
           {
            "colorbar": {
             "outlinewidth": 0,
             "ticks": ""
            },
            "colorscale": [
             [
              0,
              "#0d0887"
             ],
             [
              0.1111111111111111,
              "#46039f"
             ],
             [
              0.2222222222222222,
              "#7201a8"
             ],
             [
              0.3333333333333333,
              "#9c179e"
             ],
             [
              0.4444444444444444,
              "#bd3786"
             ],
             [
              0.5555555555555556,
              "#d8576b"
             ],
             [
              0.6666666666666666,
              "#ed7953"
             ],
             [
              0.7777777777777778,
              "#fb9f3a"
             ],
             [
              0.8888888888888888,
              "#fdca26"
             ],
             [
              1,
              "#f0f921"
             ]
            ],
            "type": "surface"
           }
          ],
          "table": [
           {
            "cells": {
             "fill": {
              "color": "#EBF0F8"
             },
             "line": {
              "color": "white"
             }
            },
            "header": {
             "fill": {
              "color": "#C8D4E3"
             },
             "line": {
              "color": "white"
             }
            },
            "type": "table"
           }
          ]
         },
         "layout": {
          "annotationdefaults": {
           "arrowcolor": "#2a3f5f",
           "arrowhead": 0,
           "arrowwidth": 1
          },
          "autotypenumbers": "strict",
          "coloraxis": {
           "colorbar": {
            "outlinewidth": 0,
            "ticks": ""
           }
          },
          "colorscale": {
           "diverging": [
            [
             0,
             "#8e0152"
            ],
            [
             0.1,
             "#c51b7d"
            ],
            [
             0.2,
             "#de77ae"
            ],
            [
             0.3,
             "#f1b6da"
            ],
            [
             0.4,
             "#fde0ef"
            ],
            [
             0.5,
             "#f7f7f7"
            ],
            [
             0.6,
             "#e6f5d0"
            ],
            [
             0.7,
             "#b8e186"
            ],
            [
             0.8,
             "#7fbc41"
            ],
            [
             0.9,
             "#4d9221"
            ],
            [
             1,
             "#276419"
            ]
           ],
           "sequential": [
            [
             0,
             "#0d0887"
            ],
            [
             0.1111111111111111,
             "#46039f"
            ],
            [
             0.2222222222222222,
             "#7201a8"
            ],
            [
             0.3333333333333333,
             "#9c179e"
            ],
            [
             0.4444444444444444,
             "#bd3786"
            ],
            [
             0.5555555555555556,
             "#d8576b"
            ],
            [
             0.6666666666666666,
             "#ed7953"
            ],
            [
             0.7777777777777778,
             "#fb9f3a"
            ],
            [
             0.8888888888888888,
             "#fdca26"
            ],
            [
             1,
             "#f0f921"
            ]
           ],
           "sequentialminus": [
            [
             0,
             "#0d0887"
            ],
            [
             0.1111111111111111,
             "#46039f"
            ],
            [
             0.2222222222222222,
             "#7201a8"
            ],
            [
             0.3333333333333333,
             "#9c179e"
            ],
            [
             0.4444444444444444,
             "#bd3786"
            ],
            [
             0.5555555555555556,
             "#d8576b"
            ],
            [
             0.6666666666666666,
             "#ed7953"
            ],
            [
             0.7777777777777778,
             "#fb9f3a"
            ],
            [
             0.8888888888888888,
             "#fdca26"
            ],
            [
             1,
             "#f0f921"
            ]
           ]
          },
          "colorway": [
           "#636efa",
           "#EF553B",
           "#00cc96",
           "#ab63fa",
           "#FFA15A",
           "#19d3f3",
           "#FF6692",
           "#B6E880",
           "#FF97FF",
           "#FECB52"
          ],
          "font": {
           "color": "#2a3f5f"
          },
          "geo": {
           "bgcolor": "white",
           "lakecolor": "white",
           "landcolor": "#E5ECF6",
           "showlakes": true,
           "showland": true,
           "subunitcolor": "white"
          },
          "hoverlabel": {
           "align": "left"
          },
          "hovermode": "closest",
          "mapbox": {
           "style": "light"
          },
          "paper_bgcolor": "white",
          "plot_bgcolor": "#E5ECF6",
          "polar": {
           "angularaxis": {
            "gridcolor": "white",
            "linecolor": "white",
            "ticks": ""
           },
           "bgcolor": "#E5ECF6",
           "radialaxis": {
            "gridcolor": "white",
            "linecolor": "white",
            "ticks": ""
           }
          },
          "scene": {
           "xaxis": {
            "backgroundcolor": "#E5ECF6",
            "gridcolor": "white",
            "gridwidth": 2,
            "linecolor": "white",
            "showbackground": true,
            "ticks": "",
            "zerolinecolor": "white"
           },
           "yaxis": {
            "backgroundcolor": "#E5ECF6",
            "gridcolor": "white",
            "gridwidth": 2,
            "linecolor": "white",
            "showbackground": true,
            "ticks": "",
            "zerolinecolor": "white"
           },
           "zaxis": {
            "backgroundcolor": "#E5ECF6",
            "gridcolor": "white",
            "gridwidth": 2,
            "linecolor": "white",
            "showbackground": true,
            "ticks": "",
            "zerolinecolor": "white"
           }
          },
          "shapedefaults": {
           "line": {
            "color": "#2a3f5f"
           }
          },
          "ternary": {
           "aaxis": {
            "gridcolor": "white",
            "linecolor": "white",
            "ticks": ""
           },
           "baxis": {
            "gridcolor": "white",
            "linecolor": "white",
            "ticks": ""
           },
           "bgcolor": "#E5ECF6",
           "caxis": {
            "gridcolor": "white",
            "linecolor": "white",
            "ticks": ""
           }
          },
          "title": {
           "x": 0.05
          },
          "xaxis": {
           "automargin": true,
           "gridcolor": "white",
           "linecolor": "white",
           "ticks": "",
           "title": {
            "standoff": 15
           },
           "zerolinecolor": "white",
           "zerolinewidth": 2
          },
          "yaxis": {
           "automargin": true,
           "gridcolor": "white",
           "linecolor": "white",
           "ticks": "",
           "title": {
            "standoff": 15
           },
           "zerolinecolor": "white",
           "zerolinewidth": 2
          }
         }
        },
        "title": {
         "text": "ND_FRMNO"
        },
        "xaxis": {
         "anchor": "y",
         "domain": [
          0,
          1
         ],
         "title": {
          "text": "ND_XC"
         }
        },
        "yaxis": {
         "anchor": "x",
         "domain": [
          0,
          1
         ],
         "scaleanchor": "x",
         "scaleratio": 1,
         "title": {
          "text": "ND_YC"
         }
        }
       }
      }
     },
     "metadata": {},
     "output_type": "display_data"
    },
    {
     "data": {
      "application/vnd.plotly.v1+json": {
       "config": {
        "plotlyServerURL": "https://plot.ly"
       },
       "data": [
        {
         "customdata": [
          [
           -1,
           11,
           -1,
           1
          ],
          [
           -1,
           20,
           -1,
           3
          ],
          [
           -1,
           32,
           -1,
           7
          ]
         ],
         "hovertemplate": "<b>%{hovertext}</b><br><br>ND_TYPE_SHOW=0<br>ND_TYPE=0<br>ND_XC=%{x}<br>ND_YC=%{y}<br>ND_FRMNO=%{text}<br>ND_USID=%{customdata[0]}<br>ND_DSID=%{customdata[1]}<br>ND_US2ID=%{customdata[2]}<br>ND_CSID=%{customdata[3]}<extra></extra>",
         "hovertext": [
          1,
          3,
          7
         ],
         "legendgroup": "0, 0",
         "marker": {
          "color": "#636efa",
          "size": 5,
          "symbol": "circle"
         },
         "mode": "markers+text",
         "name": "0, 0",
         "orientation": "v",
         "showlegend": true,
         "text": [
          10,
          1,
          28
         ],
         "textposition": "bottom left",
         "type": "scatter",
         "x": [
          710.43862313,
          5181.95834764,
          3191.07130572
         ],
         "xaxis": "x",
         "y": [
          9236.69682772,
          9849.2773148,
          3914.9023134
         ],
         "yaxis": "y"
        },
        {
         "customdata": [
          [
           48,
           2,
           -1,
           2
          ]
         ],
         "hovertemplate": "<b>%{hovertext}</b><br><br>ND_TYPE_SHOW=9<br>ND_TYPE=9<br>ND_XC=%{x}<br>ND_YC=%{y}<br>ND_FRMNO=%{text}<br>ND_USID=%{customdata[0]}<br>ND_DSID=%{customdata[1]}<br>ND_US2ID=%{customdata[2]}<br>ND_CSID=%{customdata[3]}<extra></extra>",
         "hovertext": [
          2
         ],
         "legendgroup": "9, 9",
         "marker": {
          "color": "#EF553B",
          "size": 5,
          "symbol": "diamond"
         },
         "mode": "markers+text",
         "name": "9, 9",
         "orientation": "v",
         "showlegend": true,
         "text": [
          48
         ],
         "textposition": "bottom left",
         "type": "scatter",
         "x": [
          13025.86128697
         ],
         "xaxis": "x",
         "y": [
          2855.64843912
         ],
         "yaxis": "y"
        },
        {
         "customdata": [
          [
           26,
           6,
           -1,
           4
          ],
          [
           19,
           6,
           -1,
           4
          ],
          [
           39,
           10,
           -1,
           8
          ],
          [
           31,
           10,
           -1,
           8
          ]
         ],
         "hovertemplate": "<b>%{hovertext}</b><br><br>ND_TYPE_SHOW=3<br>ND_TYPE=3<br>ND_XC=%{x}<br>ND_YC=%{y}<br>ND_FRMNO=%{text}<br>ND_USID=%{customdata[0]}<br>ND_DSID=%{customdata[1]}<br>ND_US2ID=%{customdata[2]}<br>ND_CSID=%{customdata[3]}<extra></extra>",
         "hovertext": [
          4,
          5,
          8,
          9
         ],
         "legendgroup": "3, 3",
         "marker": {
          "color": "#00cc96",
          "size": 5,
          "symbol": "square"
         },
         "mode": "markers+text",
         "name": "3, 3",
         "orientation": "v",
         "showlegend": true,
         "text": [
          9,
          20,
          37,
          27
         ],
         "textposition": "bottom left",
         "type": "scatter",
         "x": [
          5254.32235857,
          5254.32235857,
          7700.19213151,
          7700.19213151
         ],
         "xaxis": "x",
         "y": [
          6882.35278453,
          6882.35278453,
          5615.06267201,
          5615.06267201
         ],
         "yaxis": "y"
        },
        {
         "customdata": [
          [
           5,
           27,
           4,
           4
          ],
          [
           8,
           40,
           9,
           8
          ]
         ],
         "hovertemplate": "<b>%{hovertext}</b><br><br>ND_TYPE_SHOW=2<br>ND_TYPE=2<br>ND_XC=%{x}<br>ND_YC=%{y}<br>ND_FRMNO=%{text}<br>ND_USID=%{customdata[0]}<br>ND_DSID=%{customdata[1]}<br>ND_US2ID=%{customdata[2]}<br>ND_CSID=%{customdata[3]}<extra></extra>",
         "hovertext": [
          6,
          10
         ],
         "legendgroup": "2, 2",
         "marker": {
          "color": "#ab63fa",
          "size": 5,
          "symbol": "x"
         },
         "mode": "markers+text",
         "name": "2, 2",
         "orientation": "v",
         "showlegend": true,
         "text": [
          21,
          38
         ],
         "textposition": "bottom left",
         "type": "scatter",
         "x": [
          5254.32235857,
          7700.19213151
         ],
         "xaxis": "x",
         "y": [
          6882.35278453,
          5615.06267201
         ],
         "yaxis": "y"
        },
        {
         "customdata": [
          [
           1,
           12,
           -1,
           11
          ],
          [
           11,
           13,
           -1,
           12
          ],
          [
           12,
           14,
           -1,
           13
          ],
          [
           13,
           15,
           -1,
           14
          ],
          [
           14,
           16,
           -1,
           15
          ],
          [
           15,
           17,
           -1,
           16
          ],
          [
           16,
           18,
           -1,
           17
          ],
          [
           17,
           19,
           -1,
           18
          ],
          [
           18,
           5,
           -1,
           19
          ],
          [
           3,
           21,
           -1,
           20
          ],
          [
           20,
           22,
           -1,
           21
          ],
          [
           21,
           23,
           -1,
           22
          ],
          [
           22,
           24,
           -1,
           23
          ],
          [
           23,
           25,
           -1,
           24
          ],
          [
           24,
           26,
           -1,
           25
          ],
          [
           25,
           4,
           -1,
           26
          ],
          [
           6,
           28,
           -1,
           27
          ],
          [
           27,
           29,
           -1,
           28
          ],
          [
           28,
           30,
           -1,
           29
          ],
          [
           29,
           31,
           -1,
           30
          ],
          [
           30,
           9,
           -1,
           31
          ],
          [
           7,
           33,
           -1,
           32
          ],
          [
           32,
           34,
           -1,
           33
          ],
          [
           33,
           35,
           -1,
           34
          ],
          [
           34,
           36,
           -1,
           35
          ],
          [
           35,
           37,
           -1,
           36
          ],
          [
           36,
           38,
           -1,
           37
          ],
          [
           37,
           39,
           -1,
           38
          ],
          [
           38,
           8,
           -1,
           39
          ],
          [
           10,
           41,
           -1,
           40
          ],
          [
           40,
           42,
           -1,
           41
          ],
          [
           41,
           43,
           -1,
           42
          ],
          [
           42,
           44,
           -1,
           43
          ],
          [
           43,
           45,
           -1,
           44
          ],
          [
           44,
           46,
           -1,
           45
          ],
          [
           45,
           47,
           -1,
           46
          ],
          [
           46,
           48,
           -1,
           47
          ],
          [
           47,
           2,
           -1,
           48
          ]
         ],
         "hovertemplate": "<b>%{hovertext}</b><br><br>ND_TYPE_SHOW=6<br>ND_TYPE=6<br>ND_XC=%{x}<br>ND_YC=%{y}<br>ND_FRMNO=%{text}<br>ND_USID=%{customdata[0]}<br>ND_DSID=%{customdata[1]}<br>ND_US2ID=%{customdata[2]}<br>ND_CSID=%{customdata[3]}<extra></extra>",
         "hovertext": [
          11,
          12,
          13,
          14,
          15,
          16,
          17,
          18,
          19,
          20,
          21,
          22,
          23,
          24,
          25,
          26,
          27,
          28,
          29,
          30,
          31,
          32,
          33,
          34,
          35,
          36,
          37,
          38,
          39,
          40,
          41,
          42,
          43,
          44,
          45,
          46,
          47,
          48
         ],
         "legendgroup": "6, 6",
         "marker": {
          "color": "#FFA15A",
          "size": 5,
          "symbol": "cross"
         },
         "mode": "markers+text",
         "name": "6, 6",
         "orientation": "v",
         "showlegend": true,
         "text": [
          11,
          12,
          13,
          14,
          15,
          16,
          17,
          18,
          19,
          2,
          3,
          4,
          5,
          6,
          7,
          8,
          22,
          23,
          24,
          25,
          26,
          29,
          30,
          31,
          32,
          33,
          34,
          35,
          36,
          39,
          40,
          41,
          42,
          43,
          44,
          45,
          46,
          47
         ],
         "textposition": "bottom left",
         "type": "scatter",
         "x": [
          1164.82699667,
          1619.21537022,
          2073.60374376,
          2527.9921173,
          2982.38049085,
          3436.76886439,
          3891.15723794,
          4345.54561148,
          4799.93398502,
          5191.00384901,
          5200.04935037,
          5209.09485174,
          5218.1403531,
          5227.18585447,
          5236.23135584,
          5245.2768572,
          5661.96732072,
          6069.61228288,
          6477.25724504,
          6884.9022072,
          7292.54716935,
          3692.08473081,
          4193.0981559,
          4694.11158098,
          5195.12500607,
          5696.13843116,
          6197.15185625,
          6698.16528133,
          7199.17870642,
          8232.75904706,
          8765.3259626,
          9297.89287815,
          9830.4597937,
          10363.02670924,
          10895.59362479,
          11428.16054033,
          11960.72745588,
          12493.29437143
         ],
         "xaxis": "x",
         "y": [
          9001.2624234,
          8765.82801908,
          8530.39361476,
          8294.95921044,
          8059.52480612,
          7824.0904018,
          7588.65599749,
          7353.22159317,
          7117.78718885,
          9478.41174852,
          9107.54618224,
          8736.68061595,
          8365.81504967,
          7994.94948338,
          7624.0839171,
          7253.21835081,
          6671.13776577,
          6459.92274702,
          6248.70772827,
          6037.49270952,
          5826.27769076,
          4103.80901991,
          4292.71572643,
          4481.62243294,
          4670.52913945,
          4859.43584596,
          5048.34255247,
          5237.24925898,
          5426.1559655,
          5339.12124872,
          5063.17982543,
          4787.23840214,
          4511.29697885,
          4235.35555556,
          3959.41413227,
          3683.47270898,
          3407.53128569,
          3131.5898624
         ],
         "yaxis": "y"
        }
       ],
       "layout": {
        "height": 900,
        "legend": {
         "title": {
          "text": "ND_TYPE_SHOW, ND_TYPE"
         },
         "tracegroupgap": 0
        },
        "showlegend": false,
        "template": {
         "data": {
          "bar": [
           {
            "error_x": {
             "color": "#2a3f5f"
            },
            "error_y": {
             "color": "#2a3f5f"
            },
            "marker": {
             "line": {
              "color": "#E5ECF6",
              "width": 0.5
             },
             "pattern": {
              "fillmode": "overlay",
              "size": 10,
              "solidity": 0.2
             }
            },
            "type": "bar"
           }
          ],
          "barpolar": [
           {
            "marker": {
             "line": {
              "color": "#E5ECF6",
              "width": 0.5
             },
             "pattern": {
              "fillmode": "overlay",
              "size": 10,
              "solidity": 0.2
             }
            },
            "type": "barpolar"
           }
          ],
          "carpet": [
           {
            "aaxis": {
             "endlinecolor": "#2a3f5f",
             "gridcolor": "white",
             "linecolor": "white",
             "minorgridcolor": "white",
             "startlinecolor": "#2a3f5f"
            },
            "baxis": {
             "endlinecolor": "#2a3f5f",
             "gridcolor": "white",
             "linecolor": "white",
             "minorgridcolor": "white",
             "startlinecolor": "#2a3f5f"
            },
            "type": "carpet"
           }
          ],
          "choropleth": [
           {
            "colorbar": {
             "outlinewidth": 0,
             "ticks": ""
            },
            "type": "choropleth"
           }
          ],
          "contour": [
           {
            "colorbar": {
             "outlinewidth": 0,
             "ticks": ""
            },
            "colorscale": [
             [
              0,
              "#0d0887"
             ],
             [
              0.1111111111111111,
              "#46039f"
             ],
             [
              0.2222222222222222,
              "#7201a8"
             ],
             [
              0.3333333333333333,
              "#9c179e"
             ],
             [
              0.4444444444444444,
              "#bd3786"
             ],
             [
              0.5555555555555556,
              "#d8576b"
             ],
             [
              0.6666666666666666,
              "#ed7953"
             ],
             [
              0.7777777777777778,
              "#fb9f3a"
             ],
             [
              0.8888888888888888,
              "#fdca26"
             ],
             [
              1,
              "#f0f921"
             ]
            ],
            "type": "contour"
           }
          ],
          "contourcarpet": [
           {
            "colorbar": {
             "outlinewidth": 0,
             "ticks": ""
            },
            "type": "contourcarpet"
           }
          ],
          "heatmap": [
           {
            "colorbar": {
             "outlinewidth": 0,
             "ticks": ""
            },
            "colorscale": [
             [
              0,
              "#0d0887"
             ],
             [
              0.1111111111111111,
              "#46039f"
             ],
             [
              0.2222222222222222,
              "#7201a8"
             ],
             [
              0.3333333333333333,
              "#9c179e"
             ],
             [
              0.4444444444444444,
              "#bd3786"
             ],
             [
              0.5555555555555556,
              "#d8576b"
             ],
             [
              0.6666666666666666,
              "#ed7953"
             ],
             [
              0.7777777777777778,
              "#fb9f3a"
             ],
             [
              0.8888888888888888,
              "#fdca26"
             ],
             [
              1,
              "#f0f921"
             ]
            ],
            "type": "heatmap"
           }
          ],
          "heatmapgl": [
           {
            "colorbar": {
             "outlinewidth": 0,
             "ticks": ""
            },
            "colorscale": [
             [
              0,
              "#0d0887"
             ],
             [
              0.1111111111111111,
              "#46039f"
             ],
             [
              0.2222222222222222,
              "#7201a8"
             ],
             [
              0.3333333333333333,
              "#9c179e"
             ],
             [
              0.4444444444444444,
              "#bd3786"
             ],
             [
              0.5555555555555556,
              "#d8576b"
             ],
             [
              0.6666666666666666,
              "#ed7953"
             ],
             [
              0.7777777777777778,
              "#fb9f3a"
             ],
             [
              0.8888888888888888,
              "#fdca26"
             ],
             [
              1,
              "#f0f921"
             ]
            ],
            "type": "heatmapgl"
           }
          ],
          "histogram": [
           {
            "marker": {
             "pattern": {
              "fillmode": "overlay",
              "size": 10,
              "solidity": 0.2
             }
            },
            "type": "histogram"
           }
          ],
          "histogram2d": [
           {
            "colorbar": {
             "outlinewidth": 0,
             "ticks": ""
            },
            "colorscale": [
             [
              0,
              "#0d0887"
             ],
             [
              0.1111111111111111,
              "#46039f"
             ],
             [
              0.2222222222222222,
              "#7201a8"
             ],
             [
              0.3333333333333333,
              "#9c179e"
             ],
             [
              0.4444444444444444,
              "#bd3786"
             ],
             [
              0.5555555555555556,
              "#d8576b"
             ],
             [
              0.6666666666666666,
              "#ed7953"
             ],
             [
              0.7777777777777778,
              "#fb9f3a"
             ],
             [
              0.8888888888888888,
              "#fdca26"
             ],
             [
              1,
              "#f0f921"
             ]
            ],
            "type": "histogram2d"
           }
          ],
          "histogram2dcontour": [
           {
            "colorbar": {
             "outlinewidth": 0,
             "ticks": ""
            },
            "colorscale": [
             [
              0,
              "#0d0887"
             ],
             [
              0.1111111111111111,
              "#46039f"
             ],
             [
              0.2222222222222222,
              "#7201a8"
             ],
             [
              0.3333333333333333,
              "#9c179e"
             ],
             [
              0.4444444444444444,
              "#bd3786"
             ],
             [
              0.5555555555555556,
              "#d8576b"
             ],
             [
              0.6666666666666666,
              "#ed7953"
             ],
             [
              0.7777777777777778,
              "#fb9f3a"
             ],
             [
              0.8888888888888888,
              "#fdca26"
             ],
             [
              1,
              "#f0f921"
             ]
            ],
            "type": "histogram2dcontour"
           }
          ],
          "mesh3d": [
           {
            "colorbar": {
             "outlinewidth": 0,
             "ticks": ""
            },
            "type": "mesh3d"
           }
          ],
          "parcoords": [
           {
            "line": {
             "colorbar": {
              "outlinewidth": 0,
              "ticks": ""
             }
            },
            "type": "parcoords"
           }
          ],
          "pie": [
           {
            "automargin": true,
            "type": "pie"
           }
          ],
          "scatter": [
           {
            "marker": {
             "colorbar": {
              "outlinewidth": 0,
              "ticks": ""
             }
            },
            "type": "scatter"
           }
          ],
          "scatter3d": [
           {
            "line": {
             "colorbar": {
              "outlinewidth": 0,
              "ticks": ""
             }
            },
            "marker": {
             "colorbar": {
              "outlinewidth": 0,
              "ticks": ""
             }
            },
            "type": "scatter3d"
           }
          ],
          "scattercarpet": [
           {
            "marker": {
             "colorbar": {
              "outlinewidth": 0,
              "ticks": ""
             }
            },
            "type": "scattercarpet"
           }
          ],
          "scattergeo": [
           {
            "marker": {
             "colorbar": {
              "outlinewidth": 0,
              "ticks": ""
             }
            },
            "type": "scattergeo"
           }
          ],
          "scattergl": [
           {
            "marker": {
             "colorbar": {
              "outlinewidth": 0,
              "ticks": ""
             }
            },
            "type": "scattergl"
           }
          ],
          "scattermapbox": [
           {
            "marker": {
             "colorbar": {
              "outlinewidth": 0,
              "ticks": ""
             }
            },
            "type": "scattermapbox"
           }
          ],
          "scatterpolar": [
           {
            "marker": {
             "colorbar": {
              "outlinewidth": 0,
              "ticks": ""
             }
            },
            "type": "scatterpolar"
           }
          ],
          "scatterpolargl": [
           {
            "marker": {
             "colorbar": {
              "outlinewidth": 0,
              "ticks": ""
             }
            },
            "type": "scatterpolargl"
           }
          ],
          "scatterternary": [
           {
            "marker": {
             "colorbar": {
              "outlinewidth": 0,
              "ticks": ""
             }
            },
            "type": "scatterternary"
           }
          ],
          "surface": [
           {
            "colorbar": {
             "outlinewidth": 0,
             "ticks": ""
            },
            "colorscale": [
             [
              0,
              "#0d0887"
             ],
             [
              0.1111111111111111,
              "#46039f"
             ],
             [
              0.2222222222222222,
              "#7201a8"
             ],
             [
              0.3333333333333333,
              "#9c179e"
             ],
             [
              0.4444444444444444,
              "#bd3786"
             ],
             [
              0.5555555555555556,
              "#d8576b"
             ],
             [
              0.6666666666666666,
              "#ed7953"
             ],
             [
              0.7777777777777778,
              "#fb9f3a"
             ],
             [
              0.8888888888888888,
              "#fdca26"
             ],
             [
              1,
              "#f0f921"
             ]
            ],
            "type": "surface"
           }
          ],
          "table": [
           {
            "cells": {
             "fill": {
              "color": "#EBF0F8"
             },
             "line": {
              "color": "white"
             }
            },
            "header": {
             "fill": {
              "color": "#C8D4E3"
             },
             "line": {
              "color": "white"
             }
            },
            "type": "table"
           }
          ]
         },
         "layout": {
          "annotationdefaults": {
           "arrowcolor": "#2a3f5f",
           "arrowhead": 0,
           "arrowwidth": 1
          },
          "autotypenumbers": "strict",
          "coloraxis": {
           "colorbar": {
            "outlinewidth": 0,
            "ticks": ""
           }
          },
          "colorscale": {
           "diverging": [
            [
             0,
             "#8e0152"
            ],
            [
             0.1,
             "#c51b7d"
            ],
            [
             0.2,
             "#de77ae"
            ],
            [
             0.3,
             "#f1b6da"
            ],
            [
             0.4,
             "#fde0ef"
            ],
            [
             0.5,
             "#f7f7f7"
            ],
            [
             0.6,
             "#e6f5d0"
            ],
            [
             0.7,
             "#b8e186"
            ],
            [
             0.8,
             "#7fbc41"
            ],
            [
             0.9,
             "#4d9221"
            ],
            [
             1,
             "#276419"
            ]
           ],
           "sequential": [
            [
             0,
             "#0d0887"
            ],
            [
             0.1111111111111111,
             "#46039f"
            ],
            [
             0.2222222222222222,
             "#7201a8"
            ],
            [
             0.3333333333333333,
             "#9c179e"
            ],
            [
             0.4444444444444444,
             "#bd3786"
            ],
            [
             0.5555555555555556,
             "#d8576b"
            ],
            [
             0.6666666666666666,
             "#ed7953"
            ],
            [
             0.7777777777777778,
             "#fb9f3a"
            ],
            [
             0.8888888888888888,
             "#fdca26"
            ],
            [
             1,
             "#f0f921"
            ]
           ],
           "sequentialminus": [
            [
             0,
             "#0d0887"
            ],
            [
             0.1111111111111111,
             "#46039f"
            ],
            [
             0.2222222222222222,
             "#7201a8"
            ],
            [
             0.3333333333333333,
             "#9c179e"
            ],
            [
             0.4444444444444444,
             "#bd3786"
            ],
            [
             0.5555555555555556,
             "#d8576b"
            ],
            [
             0.6666666666666666,
             "#ed7953"
            ],
            [
             0.7777777777777778,
             "#fb9f3a"
            ],
            [
             0.8888888888888888,
             "#fdca26"
            ],
            [
             1,
             "#f0f921"
            ]
           ]
          },
          "colorway": [
           "#636efa",
           "#EF553B",
           "#00cc96",
           "#ab63fa",
           "#FFA15A",
           "#19d3f3",
           "#FF6692",
           "#B6E880",
           "#FF97FF",
           "#FECB52"
          ],
          "font": {
           "color": "#2a3f5f"
          },
          "geo": {
           "bgcolor": "white",
           "lakecolor": "white",
           "landcolor": "#E5ECF6",
           "showlakes": true,
           "showland": true,
           "subunitcolor": "white"
          },
          "hoverlabel": {
           "align": "left"
          },
          "hovermode": "closest",
          "mapbox": {
           "style": "light"
          },
          "paper_bgcolor": "white",
          "plot_bgcolor": "#E5ECF6",
          "polar": {
           "angularaxis": {
            "gridcolor": "white",
            "linecolor": "white",
            "ticks": ""
           },
           "bgcolor": "#E5ECF6",
           "radialaxis": {
            "gridcolor": "white",
            "linecolor": "white",
            "ticks": ""
           }
          },
          "scene": {
           "xaxis": {
            "backgroundcolor": "#E5ECF6",
            "gridcolor": "white",
            "gridwidth": 2,
            "linecolor": "white",
            "showbackground": true,
            "ticks": "",
            "zerolinecolor": "white"
           },
           "yaxis": {
            "backgroundcolor": "#E5ECF6",
            "gridcolor": "white",
            "gridwidth": 2,
            "linecolor": "white",
            "showbackground": true,
            "ticks": "",
            "zerolinecolor": "white"
           },
           "zaxis": {
            "backgroundcolor": "#E5ECF6",
            "gridcolor": "white",
            "gridwidth": 2,
            "linecolor": "white",
            "showbackground": true,
            "ticks": "",
            "zerolinecolor": "white"
           }
          },
          "shapedefaults": {
           "line": {
            "color": "#2a3f5f"
           }
          },
          "ternary": {
           "aaxis": {
            "gridcolor": "white",
            "linecolor": "white",
            "ticks": ""
           },
           "baxis": {
            "gridcolor": "white",
            "linecolor": "white",
            "ticks": ""
           },
           "bgcolor": "#E5ECF6",
           "caxis": {
            "gridcolor": "white",
            "linecolor": "white",
            "ticks": ""
           }
          },
          "title": {
           "x": 0.05
          },
          "xaxis": {
           "automargin": true,
           "gridcolor": "white",
           "linecolor": "white",
           "ticks": "",
           "title": {
            "standoff": 15
           },
           "zerolinecolor": "white",
           "zerolinewidth": 2
          },
          "yaxis": {
           "automargin": true,
           "gridcolor": "white",
           "linecolor": "white",
           "ticks": "",
           "title": {
            "standoff": 15
           },
           "zerolinecolor": "white",
           "zerolinewidth": 2
          }
         }
        },
        "title": {
         "text": "ND_FRMNO"
        },
        "xaxis": {
         "anchor": "y",
         "domain": [
          0,
          1
         ],
         "title": {
          "text": "ND_XC"
         }
        },
        "yaxis": {
         "anchor": "x",
         "domain": [
          0,
          1
         ],
         "scaleanchor": "x",
         "scaleratio": 1,
         "title": {
          "text": "ND_YC"
         }
        }
       }
      }
     },
     "metadata": {},
     "output_type": "display_data"
    }
   ],
   "source": [
    "df_nodes = t2c.read_cche1d_nodes_dat(filepath_nodes)\n",
    "df_reach = t2c.read_cche1d_reach_dat(filepath_reach)\n",
    "df_csec  = t2c.read_cche1d_dat_file(filepath_csec)\n",
    "df_csprf  = t2c.read_cche1d_dat_file(filepath_csprf)\n",
    "\n",
    "fig1 = t2c.visualize_cche1d_nodes(df_nodes, text=\"ND_ID\", show=False)\n",
    "fig2 = t2c.visualize_cche1d_nodes(df_nodes, text=\"ND_FRMNO\", show=False)\n",
    "\n",
    "fig1.show()\n",
    "fig2.show()"
   ]
  },
  {
   "cell_type": "code",
   "execution_count": null,
   "metadata": {},
   "outputs": [],
   "source": []
  }
 ],
 "metadata": {
  "interpreter": {
   "hash": "d8224ee5728aed70b060423b1160ec94939c2913925101fcda74a49ac9f80094"
  },
  "kernelspec": {
   "display_name": "Python 3.9.1 ('top2cche1d')",
   "language": "python",
   "name": "python3"
  },
  "language_info": {
   "codemirror_mode": {
    "name": "ipython",
    "version": 3
   },
   "file_extension": ".py",
   "mimetype": "text/x-python",
   "name": "python",
   "nbconvert_exporter": "python",
   "pygments_lexer": "ipython3",
   "version": "3.9.1"
  },
  "orig_nbformat": 4
 },
 "nbformat": 4,
 "nbformat_minor": 2
}
