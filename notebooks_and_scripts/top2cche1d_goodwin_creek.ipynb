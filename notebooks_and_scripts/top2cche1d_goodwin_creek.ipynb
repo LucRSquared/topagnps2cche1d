{
 "cells": [
  {
   "attachments": {},
   "cell_type": "markdown",
   "metadata": {},
   "source": [
    "# Processing of TopAGNPS data for CCHE1D\n",
    "\n",
    "## Summary\n",
    "\n",
    "### Inputs\n",
    "The `topagnps2cche1d` module is a set of Python functions that process some of the outputs of TopAGNPS i.e.:\n",
    "- `AnnAGNPS_Reach_IDs.asc`\n",
    "    - The raster file of the different reaches obtained from processing a DEM file\n",
    "- `AgFlow_Reach_Data.csv`\n",
    "    - csv file containing information about each reach, the position of the upstream and downstream row/column coordinates of each reach, the receiving reach etc.\n",
    "- `FLOVEC.asc`\n",
    "    - The flow direction raster file (used to determine for each junction which inflow is on the right and which one comes from the left)\n",
    "- `NETW.asc`\n",
    "    - Raster file indicating what is the Strahler number of each pixel of each reach\n",
    "\n",
    "### Outputs\n",
    "The module produces the:\n",
    "- `*_nodes.dat`\n",
    "- `*_channel.dat`\n",
    "- `*_link.dat`\n",
    "- `*_reach.dat`\n",
    "- `*_csec.dat`\n",
    "- `*_csprf.dat`\n",
    "\n",
    "files that can be used as inputs by CCHE1D\n",
    "\n",
    "### Assumptions made\n",
    "- This tool assumes that every junction consists strictly of two upstream inflows. This is insured by TopAGNPS.\n",
    "- For now, every node is assigned a default cross-section\n",
    "\n",
    "### Additional tools\n",
    "Functions to read, process and visualize `.asc` raster files as well as CCHE1D `*_nodes.dat` files are provided in the module. Functions to convert row/col to latitude/longitude coordinates and inversely are provided making use of the `osgeo.gdal` and `affine` modules.\n"
   ]
  },
  {
   "attachments": {},
   "cell_type": "markdown",
   "metadata": {},
   "source": [
    "### Loading the module"
   ]
  },
  {
   "cell_type": "code",
   "execution_count": 1,
   "metadata": {},
   "outputs": [],
   "source": [
    "import topagnps2cche1d.tools as t2c\n",
    "import plotly.express as px"
   ]
  },
  {
   "attachments": {},
   "cell_type": "markdown",
   "metadata": {},
   "source": [
    "### Files location"
   ]
  },
  {
   "cell_type": "code",
   "execution_count": 2,
   "metadata": {},
   "outputs": [],
   "source": [
    "# Main Folder\n",
    "# srcfolder = '../input_data/goodwin_creek_files/'\n",
    "srcfolder = '../input_data/goodwin_creek_1m/'\n",
    "\n",
    "# File names\n",
    "filepath_annagnps_reach_ids = srcfolder + 'AnnAGNPS_Reach_IDs.asc'\n",
    "filepath_agflow = srcfolder + 'AgFlow_Reach_Data.csv'\n",
    "filepath_flovec = srcfolder + 'FLOVEC.asc'\n",
    "filepath_netw = srcfolder + 'NETW.asc'\n",
    "filepath_dednm = srcfolder + 'RELIEF.asc'\n",
    "\n",
    "visualize = False"
   ]
  },
  {
   "attachments": {},
   "cell_type": "markdown",
   "metadata": {},
   "source": [
    "### Reading the reach data\n",
    "- `img` is a Numpy array that represents the raster of the `AnnAGNPS_Reach_IDs.asc` file\n",
    "- `geoMatrix` is a 6-tuple holding the coefficients of the affine transformation to convert row and columns to latitude and longitude\n",
    "- `ncols` and `nrows` are the dimensions of the raster\n",
    "- `nodataval` is the value used in the raster to represent the absence of data\n",
    "- `dataset` is a `gdal` object that holds all the data related to the raster "
   ]
  },
  {
   "cell_type": "code",
   "execution_count": 3,
   "metadata": {},
   "outputs": [],
   "source": [
    "img, geoMatrix, ncols, nrows, nodataval, dataset = t2c.read_esri_asc_file(filepath_annagnps_reach_ids)"
   ]
  },
  {
   "attachments": {},
   "cell_type": "markdown",
   "metadata": {},
   "source": [
    "### Building of the channel network\n",
    "\n",
    "The channel network is constructed for CCHE1D using the connectivity data in the `Agflow_Reach_Data.csv` file"
   ]
  },
  {
   "cell_type": "code",
   "execution_count": 4,
   "metadata": {},
   "outputs": [
    {
     "data": {
      "text/html": [
       "<div>\n",
       "<style scoped>\n",
       "    .dataframe tbody tr th:only-of-type {\n",
       "        vertical-align: middle;\n",
       "    }\n",
       "\n",
       "    .dataframe tbody tr th {\n",
       "        vertical-align: top;\n",
       "    }\n",
       "\n",
       "    .dataframe thead th {\n",
       "        text-align: right;\n",
       "    }\n",
       "</style>\n",
       "<table border=\"1\" class=\"dataframe\">\n",
       "  <thead>\n",
       "    <tr style=\"text-align: right;\">\n",
       "      <th></th>\n",
       "      <th>Reach_ID</th>\n",
       "      <th>Upstream_End_Row</th>\n",
       "      <th>Upstream_End_Column</th>\n",
       "      <th>Downstream_End_Row</th>\n",
       "      <th>Downstream_End_Column</th>\n",
       "      <th>Receiving_Reach</th>\n",
       "      <th>Drainage_Area_[ha]</th>\n",
       "      <th>Average_Elevation_[m]</th>\n",
       "      <th>Reach_Length_[m]</th>\n",
       "      <th>Distance_Upstream_End_to_Outlet_[m]</th>\n",
       "      <th>Distance_Downstream_End_to_Outlet_[m]</th>\n",
       "      <th>Reach_Slope_[m/m]</th>\n",
       "      <th>Contributing_Cell_ID_Source</th>\n",
       "      <th>Contributing_Cell_ID_Right</th>\n",
       "      <th>Contributing_Cell_ID_Left</th>\n",
       "    </tr>\n",
       "  </thead>\n",
       "  <tbody>\n",
       "    <tr>\n",
       "      <th>0</th>\n",
       "      <td>1</td>\n",
       "      <td>6048</td>\n",
       "      <td>578</td>\n",
       "      <td>6048</td>\n",
       "      <td>578</td>\n",
       "      <td>1</td>\n",
       "      <td>2135.57</td>\n",
       "      <td>67.45</td>\n",
       "      <td>0.00</td>\n",
       "      <td>0.00</td>\n",
       "      <td>0.00</td>\n",
       "      <td>0.00283</td>\n",
       "      <td>0</td>\n",
       "      <td>0</td>\n",
       "      <td>0</td>\n",
       "    </tr>\n",
       "    <tr>\n",
       "      <th>1</th>\n",
       "      <td>2</td>\n",
       "      <td>5978</td>\n",
       "      <td>761</td>\n",
       "      <td>6048</td>\n",
       "      <td>578</td>\n",
       "      <td>1</td>\n",
       "      <td>2135.57</td>\n",
       "      <td>67.45</td>\n",
       "      <td>247.14</td>\n",
       "      <td>247.14</td>\n",
       "      <td>0.00</td>\n",
       "      <td>0.00283</td>\n",
       "      <td>0</td>\n",
       "      <td>22</td>\n",
       "      <td>23</td>\n",
       "    </tr>\n",
       "    <tr>\n",
       "      <th>2</th>\n",
       "      <td>3</td>\n",
       "      <td>5947</td>\n",
       "      <td>822</td>\n",
       "      <td>5978</td>\n",
       "      <td>762</td>\n",
       "      <td>2</td>\n",
       "      <td>2128.12</td>\n",
       "      <td>67.82</td>\n",
       "      <td>75.01</td>\n",
       "      <td>322.15</td>\n",
       "      <td>247.14</td>\n",
       "      <td>0.00134</td>\n",
       "      <td>0</td>\n",
       "      <td>32</td>\n",
       "      <td>33</td>\n",
       "    </tr>\n",
       "    <tr>\n",
       "      <th>3</th>\n",
       "      <td>4</td>\n",
       "      <td>5861</td>\n",
       "      <td>859</td>\n",
       "      <td>5946</td>\n",
       "      <td>823</td>\n",
       "      <td>3</td>\n",
       "      <td>2103.89</td>\n",
       "      <td>67.94</td>\n",
       "      <td>103.91</td>\n",
       "      <td>426.06</td>\n",
       "      <td>322.15</td>\n",
       "      <td>0.00097</td>\n",
       "      <td>0</td>\n",
       "      <td>42</td>\n",
       "      <td>43</td>\n",
       "    </tr>\n",
       "    <tr>\n",
       "      <th>4</th>\n",
       "      <td>5</td>\n",
       "      <td>5556</td>\n",
       "      <td>1051</td>\n",
       "      <td>5860</td>\n",
       "      <td>859</td>\n",
       "      <td>4</td>\n",
       "      <td>2101.50</td>\n",
       "      <td>68.30</td>\n",
       "      <td>406.73</td>\n",
       "      <td>832.79</td>\n",
       "      <td>426.06</td>\n",
       "      <td>0.00172</td>\n",
       "      <td>0</td>\n",
       "      <td>52</td>\n",
       "      <td>53</td>\n",
       "    </tr>\n",
       "    <tr>\n",
       "      <th>5</th>\n",
       "      <td>6</td>\n",
       "      <td>5344</td>\n",
       "      <td>1058</td>\n",
       "      <td>5555</td>\n",
       "      <td>1051</td>\n",
       "      <td>5</td>\n",
       "      <td>59.98</td>\n",
       "      <td>70.49</td>\n",
       "      <td>242.20</td>\n",
       "      <td>1074.98</td>\n",
       "      <td>832.79</td>\n",
       "      <td>0.01032</td>\n",
       "      <td>0</td>\n",
       "      <td>62</td>\n",
       "      <td>63</td>\n",
       "    </tr>\n",
       "    <tr>\n",
       "      <th>6</th>\n",
       "      <td>7</td>\n",
       "      <td>5339</td>\n",
       "      <td>1020</td>\n",
       "      <td>5343</td>\n",
       "      <td>1057</td>\n",
       "      <td>6</td>\n",
       "      <td>14.00</td>\n",
       "      <td>71.40</td>\n",
       "      <td>44.56</td>\n",
       "      <td>1119.54</td>\n",
       "      <td>1074.98</td>\n",
       "      <td>0.01571</td>\n",
       "      <td>0</td>\n",
       "      <td>72</td>\n",
       "      <td>73</td>\n",
       "    </tr>\n",
       "    <tr>\n",
       "      <th>7</th>\n",
       "      <td>8</td>\n",
       "      <td>5378</td>\n",
       "      <td>970</td>\n",
       "      <td>5340</td>\n",
       "      <td>1019</td>\n",
       "      <td>7</td>\n",
       "      <td>5.97</td>\n",
       "      <td>72.86</td>\n",
       "      <td>83.33</td>\n",
       "      <td>1202.86</td>\n",
       "      <td>1119.54</td>\n",
       "      <td>0.01681</td>\n",
       "      <td>0</td>\n",
       "      <td>82</td>\n",
       "      <td>83</td>\n",
       "    </tr>\n",
       "    <tr>\n",
       "      <th>8</th>\n",
       "      <td>9</td>\n",
       "      <td>5303</td>\n",
       "      <td>709</td>\n",
       "      <td>5379</td>\n",
       "      <td>969</td>\n",
       "      <td>8</td>\n",
       "      <td>2.65</td>\n",
       "      <td>75.08</td>\n",
       "      <td>335.20</td>\n",
       "      <td>1538.06</td>\n",
       "      <td>1202.86</td>\n",
       "      <td>0.01343</td>\n",
       "      <td>91</td>\n",
       "      <td>92</td>\n",
       "      <td>93</td>\n",
       "    </tr>\n",
       "    <tr>\n",
       "      <th>9</th>\n",
       "      <td>10</td>\n",
       "      <td>5370</td>\n",
       "      <td>898</td>\n",
       "      <td>5378</td>\n",
       "      <td>969</td>\n",
       "      <td>8</td>\n",
       "      <td>2.46</td>\n",
       "      <td>73.62</td>\n",
       "      <td>81.70</td>\n",
       "      <td>1284.56</td>\n",
       "      <td>1202.86</td>\n",
       "      <td>0.00734</td>\n",
       "      <td>101</td>\n",
       "      <td>102</td>\n",
       "      <td>103</td>\n",
       "    </tr>\n",
       "  </tbody>\n",
       "</table>\n",
       "</div>"
      ],
      "text/plain": [
       "   Reach_ID  Upstream_End_Row  Upstream_End_Column  Downstream_End_Row  \\\n",
       "0         1              6048                  578                6048   \n",
       "1         2              5978                  761                6048   \n",
       "2         3              5947                  822                5978   \n",
       "3         4              5861                  859                5946   \n",
       "4         5              5556                 1051                5860   \n",
       "5         6              5344                 1058                5555   \n",
       "6         7              5339                 1020                5343   \n",
       "7         8              5378                  970                5340   \n",
       "8         9              5303                  709                5379   \n",
       "9        10              5370                  898                5378   \n",
       "\n",
       "   Downstream_End_Column  Receiving_Reach  Drainage_Area_[ha]  \\\n",
       "0                    578                1             2135.57   \n",
       "1                    578                1             2135.57   \n",
       "2                    762                2             2128.12   \n",
       "3                    823                3             2103.89   \n",
       "4                    859                4             2101.50   \n",
       "5                   1051                5               59.98   \n",
       "6                   1057                6               14.00   \n",
       "7                   1019                7                5.97   \n",
       "8                    969                8                2.65   \n",
       "9                    969                8                2.46   \n",
       "\n",
       "   Average_Elevation_[m]  Reach_Length_[m]  \\\n",
       "0                  67.45              0.00   \n",
       "1                  67.45            247.14   \n",
       "2                  67.82             75.01   \n",
       "3                  67.94            103.91   \n",
       "4                  68.30            406.73   \n",
       "5                  70.49            242.20   \n",
       "6                  71.40             44.56   \n",
       "7                  72.86             83.33   \n",
       "8                  75.08            335.20   \n",
       "9                  73.62             81.70   \n",
       "\n",
       "   Distance_Upstream_End_to_Outlet_[m]  Distance_Downstream_End_to_Outlet_[m]  \\\n",
       "0                                 0.00                                   0.00   \n",
       "1                               247.14                                   0.00   \n",
       "2                               322.15                                 247.14   \n",
       "3                               426.06                                 322.15   \n",
       "4                               832.79                                 426.06   \n",
       "5                              1074.98                                 832.79   \n",
       "6                              1119.54                                1074.98   \n",
       "7                              1202.86                                1119.54   \n",
       "8                              1538.06                                1202.86   \n",
       "9                              1284.56                                1202.86   \n",
       "\n",
       "   Reach_Slope_[m/m]  Contributing_Cell_ID_Source  Contributing_Cell_ID_Right  \\\n",
       "0            0.00283                            0                           0   \n",
       "1            0.00283                            0                          22   \n",
       "2            0.00134                            0                          32   \n",
       "3            0.00097                            0                          42   \n",
       "4            0.00172                            0                          52   \n",
       "5            0.01032                            0                          62   \n",
       "6            0.01571                            0                          72   \n",
       "7            0.01681                            0                          82   \n",
       "8            0.01343                           91                          92   \n",
       "9            0.00734                          101                         102   \n",
       "\n",
       "   Contributing_Cell_ID_Left  \n",
       "0                          0  \n",
       "1                         23  \n",
       "2                         33  \n",
       "3                         43  \n",
       "4                         53  \n",
       "5                         63  \n",
       "6                         73  \n",
       "7                         83  \n",
       "8                         93  \n",
       "9                        103  "
      ]
     },
     "execution_count": 4,
     "metadata": {},
     "output_type": "execute_result"
    }
   ],
   "source": [
    "dfagflow = t2c.read_agflow_reach_data(filepath_agflow)\n",
    "dfagflow.head(n=10)"
   ]
  },
  {
   "attachments": {},
   "cell_type": "markdown",
   "metadata": {},
   "source": [
    "### Visualization of Strahler Number for the network\n",
    "\n",
    "The following diagram illustrates the Strahler number for a river network and is an indication of the network complexity\n",
    "\n",
    "<img src='content/strahler.png' align=\"center\" alt=tree-traversal width='500'/>\n",
    "\n"
   ]
  },
  {
   "cell_type": "code",
   "execution_count": 5,
   "metadata": {},
   "outputs": [],
   "source": [
    "img_strahler, geoMatrix, _, _, _, _, = t2c.read_esri_asc_file(filepath_netw)\n",
    "\n",
    "if visualize:\n",
    "    fig = t2c.visualize_strahler_number(img_strahler, geoMatrix, renderer='browser')"
   ]
  },
  {
   "attachments": {},
   "cell_type": "markdown",
   "metadata": {},
   "source": [
    "### Generating the CCHE1D files\n",
    "\n",
    "All the heavy lifting is done inside the `convert_topagnps_output_to_cche1d_input` and `create_cche1d_tables` functions.\n",
    "\n",
    "The outputs are the Pandas DataFrame of the nodes, channel, and link files. `img_reach` is a Numpy array with the reordered reach numbering"
   ]
  },
  {
   "attachments": {},
   "cell_type": "markdown",
   "metadata": {},
   "source": [
    "#### Generating a default cross-section for all nodes of the network\n",
    "\n",
    "CP_W and CP_Z are the x and y coordinates of the cross-section and CP_RGH the Manning's roughness coefficient"
   ]
  },
  {
   "cell_type": "code",
   "execution_count": 6,
   "metadata": {},
   "outputs": [
    {
     "data": {
      "application/vnd.plotly.v1+json": {
       "config": {
        "plotlyServerURL": "https://plot.ly"
       },
       "data": [
        {
         "hovertemplate": "x=%{x}<br>y=%{y}<extra></extra>",
         "legendgroup": "",
         "line": {
          "color": "#636efa",
          "dash": "solid"
         },
         "marker": {
          "symbol": "circle"
         },
         "mode": "lines+markers",
         "name": "",
         "orientation": "v",
         "showlegend": false,
         "type": "scatter",
         "x": [
          -43,
          -35,
          -13,
          -10,
          10,
          13,
          35,
          43
         ],
         "xaxis": "x",
         "y": [
          6,
          2,
          2,
          0,
          0,
          2,
          2,
          6
         ],
         "yaxis": "y"
        }
       ],
       "layout": {
        "legend": {
         "tracegroupgap": 0
        },
        "template": {
         "data": {
          "bar": [
           {
            "error_x": {
             "color": "#2a3f5f"
            },
            "error_y": {
             "color": "#2a3f5f"
            },
            "marker": {
             "line": {
              "color": "#E5ECF6",
              "width": 0.5
             },
             "pattern": {
              "fillmode": "overlay",
              "size": 10,
              "solidity": 0.2
             }
            },
            "type": "bar"
           }
          ],
          "barpolar": [
           {
            "marker": {
             "line": {
              "color": "#E5ECF6",
              "width": 0.5
             },
             "pattern": {
              "fillmode": "overlay",
              "size": 10,
              "solidity": 0.2
             }
            },
            "type": "barpolar"
           }
          ],
          "carpet": [
           {
            "aaxis": {
             "endlinecolor": "#2a3f5f",
             "gridcolor": "white",
             "linecolor": "white",
             "minorgridcolor": "white",
             "startlinecolor": "#2a3f5f"
            },
            "baxis": {
             "endlinecolor": "#2a3f5f",
             "gridcolor": "white",
             "linecolor": "white",
             "minorgridcolor": "white",
             "startlinecolor": "#2a3f5f"
            },
            "type": "carpet"
           }
          ],
          "choropleth": [
           {
            "colorbar": {
             "outlinewidth": 0,
             "ticks": ""
            },
            "type": "choropleth"
           }
          ],
          "contour": [
           {
            "colorbar": {
             "outlinewidth": 0,
             "ticks": ""
            },
            "colorscale": [
             [
              0,
              "#0d0887"
             ],
             [
              0.1111111111111111,
              "#46039f"
             ],
             [
              0.2222222222222222,
              "#7201a8"
             ],
             [
              0.3333333333333333,
              "#9c179e"
             ],
             [
              0.4444444444444444,
              "#bd3786"
             ],
             [
              0.5555555555555556,
              "#d8576b"
             ],
             [
              0.6666666666666666,
              "#ed7953"
             ],
             [
              0.7777777777777778,
              "#fb9f3a"
             ],
             [
              0.8888888888888888,
              "#fdca26"
             ],
             [
              1,
              "#f0f921"
             ]
            ],
            "type": "contour"
           }
          ],
          "contourcarpet": [
           {
            "colorbar": {
             "outlinewidth": 0,
             "ticks": ""
            },
            "type": "contourcarpet"
           }
          ],
          "heatmap": [
           {
            "colorbar": {
             "outlinewidth": 0,
             "ticks": ""
            },
            "colorscale": [
             [
              0,
              "#0d0887"
             ],
             [
              0.1111111111111111,
              "#46039f"
             ],
             [
              0.2222222222222222,
              "#7201a8"
             ],
             [
              0.3333333333333333,
              "#9c179e"
             ],
             [
              0.4444444444444444,
              "#bd3786"
             ],
             [
              0.5555555555555556,
              "#d8576b"
             ],
             [
              0.6666666666666666,
              "#ed7953"
             ],
             [
              0.7777777777777778,
              "#fb9f3a"
             ],
             [
              0.8888888888888888,
              "#fdca26"
             ],
             [
              1,
              "#f0f921"
             ]
            ],
            "type": "heatmap"
           }
          ],
          "heatmapgl": [
           {
            "colorbar": {
             "outlinewidth": 0,
             "ticks": ""
            },
            "colorscale": [
             [
              0,
              "#0d0887"
             ],
             [
              0.1111111111111111,
              "#46039f"
             ],
             [
              0.2222222222222222,
              "#7201a8"
             ],
             [
              0.3333333333333333,
              "#9c179e"
             ],
             [
              0.4444444444444444,
              "#bd3786"
             ],
             [
              0.5555555555555556,
              "#d8576b"
             ],
             [
              0.6666666666666666,
              "#ed7953"
             ],
             [
              0.7777777777777778,
              "#fb9f3a"
             ],
             [
              0.8888888888888888,
              "#fdca26"
             ],
             [
              1,
              "#f0f921"
             ]
            ],
            "type": "heatmapgl"
           }
          ],
          "histogram": [
           {
            "marker": {
             "pattern": {
              "fillmode": "overlay",
              "size": 10,
              "solidity": 0.2
             }
            },
            "type": "histogram"
           }
          ],
          "histogram2d": [
           {
            "colorbar": {
             "outlinewidth": 0,
             "ticks": ""
            },
            "colorscale": [
             [
              0,
              "#0d0887"
             ],
             [
              0.1111111111111111,
              "#46039f"
             ],
             [
              0.2222222222222222,
              "#7201a8"
             ],
             [
              0.3333333333333333,
              "#9c179e"
             ],
             [
              0.4444444444444444,
              "#bd3786"
             ],
             [
              0.5555555555555556,
              "#d8576b"
             ],
             [
              0.6666666666666666,
              "#ed7953"
             ],
             [
              0.7777777777777778,
              "#fb9f3a"
             ],
             [
              0.8888888888888888,
              "#fdca26"
             ],
             [
              1,
              "#f0f921"
             ]
            ],
            "type": "histogram2d"
           }
          ],
          "histogram2dcontour": [
           {
            "colorbar": {
             "outlinewidth": 0,
             "ticks": ""
            },
            "colorscale": [
             [
              0,
              "#0d0887"
             ],
             [
              0.1111111111111111,
              "#46039f"
             ],
             [
              0.2222222222222222,
              "#7201a8"
             ],
             [
              0.3333333333333333,
              "#9c179e"
             ],
             [
              0.4444444444444444,
              "#bd3786"
             ],
             [
              0.5555555555555556,
              "#d8576b"
             ],
             [
              0.6666666666666666,
              "#ed7953"
             ],
             [
              0.7777777777777778,
              "#fb9f3a"
             ],
             [
              0.8888888888888888,
              "#fdca26"
             ],
             [
              1,
              "#f0f921"
             ]
            ],
            "type": "histogram2dcontour"
           }
          ],
          "mesh3d": [
           {
            "colorbar": {
             "outlinewidth": 0,
             "ticks": ""
            },
            "type": "mesh3d"
           }
          ],
          "parcoords": [
           {
            "line": {
             "colorbar": {
              "outlinewidth": 0,
              "ticks": ""
             }
            },
            "type": "parcoords"
           }
          ],
          "pie": [
           {
            "automargin": true,
            "type": "pie"
           }
          ],
          "scatter": [
           {
            "fillpattern": {
             "fillmode": "overlay",
             "size": 10,
             "solidity": 0.2
            },
            "type": "scatter"
           }
          ],
          "scatter3d": [
           {
            "line": {
             "colorbar": {
              "outlinewidth": 0,
              "ticks": ""
             }
            },
            "marker": {
             "colorbar": {
              "outlinewidth": 0,
              "ticks": ""
             }
            },
            "type": "scatter3d"
           }
          ],
          "scattercarpet": [
           {
            "marker": {
             "colorbar": {
              "outlinewidth": 0,
              "ticks": ""
             }
            },
            "type": "scattercarpet"
           }
          ],
          "scattergeo": [
           {
            "marker": {
             "colorbar": {
              "outlinewidth": 0,
              "ticks": ""
             }
            },
            "type": "scattergeo"
           }
          ],
          "scattergl": [
           {
            "marker": {
             "colorbar": {
              "outlinewidth": 0,
              "ticks": ""
             }
            },
            "type": "scattergl"
           }
          ],
          "scattermapbox": [
           {
            "marker": {
             "colorbar": {
              "outlinewidth": 0,
              "ticks": ""
             }
            },
            "type": "scattermapbox"
           }
          ],
          "scatterpolar": [
           {
            "marker": {
             "colorbar": {
              "outlinewidth": 0,
              "ticks": ""
             }
            },
            "type": "scatterpolar"
           }
          ],
          "scatterpolargl": [
           {
            "marker": {
             "colorbar": {
              "outlinewidth": 0,
              "ticks": ""
             }
            },
            "type": "scatterpolargl"
           }
          ],
          "scatterternary": [
           {
            "marker": {
             "colorbar": {
              "outlinewidth": 0,
              "ticks": ""
             }
            },
            "type": "scatterternary"
           }
          ],
          "surface": [
           {
            "colorbar": {
             "outlinewidth": 0,
             "ticks": ""
            },
            "colorscale": [
             [
              0,
              "#0d0887"
             ],
             [
              0.1111111111111111,
              "#46039f"
             ],
             [
              0.2222222222222222,
              "#7201a8"
             ],
             [
              0.3333333333333333,
              "#9c179e"
             ],
             [
              0.4444444444444444,
              "#bd3786"
             ],
             [
              0.5555555555555556,
              "#d8576b"
             ],
             [
              0.6666666666666666,
              "#ed7953"
             ],
             [
              0.7777777777777778,
              "#fb9f3a"
             ],
             [
              0.8888888888888888,
              "#fdca26"
             ],
             [
              1,
              "#f0f921"
             ]
            ],
            "type": "surface"
           }
          ],
          "table": [
           {
            "cells": {
             "fill": {
              "color": "#EBF0F8"
             },
             "line": {
              "color": "white"
             }
            },
            "header": {
             "fill": {
              "color": "#C8D4E3"
             },
             "line": {
              "color": "white"
             }
            },
            "type": "table"
           }
          ]
         },
         "layout": {
          "annotationdefaults": {
           "arrowcolor": "#2a3f5f",
           "arrowhead": 0,
           "arrowwidth": 1
          },
          "autotypenumbers": "strict",
          "coloraxis": {
           "colorbar": {
            "outlinewidth": 0,
            "ticks": ""
           }
          },
          "colorscale": {
           "diverging": [
            [
             0,
             "#8e0152"
            ],
            [
             0.1,
             "#c51b7d"
            ],
            [
             0.2,
             "#de77ae"
            ],
            [
             0.3,
             "#f1b6da"
            ],
            [
             0.4,
             "#fde0ef"
            ],
            [
             0.5,
             "#f7f7f7"
            ],
            [
             0.6,
             "#e6f5d0"
            ],
            [
             0.7,
             "#b8e186"
            ],
            [
             0.8,
             "#7fbc41"
            ],
            [
             0.9,
             "#4d9221"
            ],
            [
             1,
             "#276419"
            ]
           ],
           "sequential": [
            [
             0,
             "#0d0887"
            ],
            [
             0.1111111111111111,
             "#46039f"
            ],
            [
             0.2222222222222222,
             "#7201a8"
            ],
            [
             0.3333333333333333,
             "#9c179e"
            ],
            [
             0.4444444444444444,
             "#bd3786"
            ],
            [
             0.5555555555555556,
             "#d8576b"
            ],
            [
             0.6666666666666666,
             "#ed7953"
            ],
            [
             0.7777777777777778,
             "#fb9f3a"
            ],
            [
             0.8888888888888888,
             "#fdca26"
            ],
            [
             1,
             "#f0f921"
            ]
           ],
           "sequentialminus": [
            [
             0,
             "#0d0887"
            ],
            [
             0.1111111111111111,
             "#46039f"
            ],
            [
             0.2222222222222222,
             "#7201a8"
            ],
            [
             0.3333333333333333,
             "#9c179e"
            ],
            [
             0.4444444444444444,
             "#bd3786"
            ],
            [
             0.5555555555555556,
             "#d8576b"
            ],
            [
             0.6666666666666666,
             "#ed7953"
            ],
            [
             0.7777777777777778,
             "#fb9f3a"
            ],
            [
             0.8888888888888888,
             "#fdca26"
            ],
            [
             1,
             "#f0f921"
            ]
           ]
          },
          "colorway": [
           "#636efa",
           "#EF553B",
           "#00cc96",
           "#ab63fa",
           "#FFA15A",
           "#19d3f3",
           "#FF6692",
           "#B6E880",
           "#FF97FF",
           "#FECB52"
          ],
          "font": {
           "color": "#2a3f5f"
          },
          "geo": {
           "bgcolor": "white",
           "lakecolor": "white",
           "landcolor": "#E5ECF6",
           "showlakes": true,
           "showland": true,
           "subunitcolor": "white"
          },
          "hoverlabel": {
           "align": "left"
          },
          "hovermode": "closest",
          "mapbox": {
           "style": "light"
          },
          "paper_bgcolor": "white",
          "plot_bgcolor": "#E5ECF6",
          "polar": {
           "angularaxis": {
            "gridcolor": "white",
            "linecolor": "white",
            "ticks": ""
           },
           "bgcolor": "#E5ECF6",
           "radialaxis": {
            "gridcolor": "white",
            "linecolor": "white",
            "ticks": ""
           }
          },
          "scene": {
           "xaxis": {
            "backgroundcolor": "#E5ECF6",
            "gridcolor": "white",
            "gridwidth": 2,
            "linecolor": "white",
            "showbackground": true,
            "ticks": "",
            "zerolinecolor": "white"
           },
           "yaxis": {
            "backgroundcolor": "#E5ECF6",
            "gridcolor": "white",
            "gridwidth": 2,
            "linecolor": "white",
            "showbackground": true,
            "ticks": "",
            "zerolinecolor": "white"
           },
           "zaxis": {
            "backgroundcolor": "#E5ECF6",
            "gridcolor": "white",
            "gridwidth": 2,
            "linecolor": "white",
            "showbackground": true,
            "ticks": "",
            "zerolinecolor": "white"
           }
          },
          "shapedefaults": {
           "line": {
            "color": "#2a3f5f"
           }
          },
          "ternary": {
           "aaxis": {
            "gridcolor": "white",
            "linecolor": "white",
            "ticks": ""
           },
           "baxis": {
            "gridcolor": "white",
            "linecolor": "white",
            "ticks": ""
           },
           "bgcolor": "#E5ECF6",
           "caxis": {
            "gridcolor": "white",
            "linecolor": "white",
            "ticks": ""
           }
          },
          "title": {
           "x": 0.05
          },
          "xaxis": {
           "automargin": true,
           "gridcolor": "white",
           "linecolor": "white",
           "ticks": "",
           "title": {
            "standoff": 15
           },
           "zerolinecolor": "white",
           "zerolinewidth": 2
          },
          "yaxis": {
           "automargin": true,
           "gridcolor": "white",
           "linecolor": "white",
           "ticks": "",
           "title": {
            "standoff": 15
           },
           "zerolinecolor": "white",
           "zerolinewidth": 2
          }
         }
        },
        "title": {
         "text": "Default Cross-Section"
        },
        "xaxis": {
         "anchor": "y",
         "domain": [
          0,
          1
         ],
         "title": {
          "text": "x (m)"
         }
        },
        "yaxis": {
         "anchor": "x",
         "domain": [
          0,
          1
         ],
         "title": {
          "text": "y (m)"
         }
        }
       }
      }
     },
     "metadata": {},
     "output_type": "display_data"
    }
   ],
   "source": [
    "default_xsection = {'type' : 'default',\n",
    "                    'CP_Ws': [-43, -35, -13, -10, 10, 13, 35, 43],\n",
    "                    'CP_Zs': [6, 2, 2, 0, 0, 2, 2, 6],\n",
    "                    'CP_RGHs': [0.025, 0.025, 0.025, 0.025, 0.025, 0.025, 0.025, 0.025]}\n",
    "\n",
    "fig = px.line(x = default_xsection['CP_Ws'], y = default_xsection['CP_Zs'], markers='o', title = 'Default Cross-Section')\n",
    "fig.update_layout(xaxis_title='x (m)', yaxis_title='y (m)')\n",
    "fig.show()"
   ]
  },
  {
   "cell_type": "code",
   "execution_count": 26,
   "metadata": {},
   "outputs": [],
   "source": [
    "distance = 10\n",
    "min_strahler = 3\n",
    "# df_nodes, df_channel, df_link, df_reach, df_csec, df_csprf, img_reach = t2c.convert_topagnps_output_to_cche1d_input(filepath_agflow, filepath_flovec, filepath_annagnps_reach_ids, filepath_netw, default_xsection, min_strahler, distance)\n",
    "df_nodes, df_channel, df_link, df_reach, df_csec, df_csprf, img_reach, cche1d_to_annagnps_reaches = t2c.convert_topagnps_output_to_cche1d_input(filepath_agflow, filepath_annagnps_reach_ids, filepath_netw, default_xsection, min_strahler, distance)"
   ]
  },
  {
   "attachments": {},
   "cell_type": "markdown",
   "metadata": {},
   "source": [
    "#### Reordered reaches\n",
    "Note that the reach containing the outlet is the reach with the highest reach number"
   ]
  },
  {
   "cell_type": "code",
   "execution_count": 27,
   "metadata": {},
   "outputs": [],
   "source": [
    "if visualize:\n",
    "    fig = t2c.visualize_reaches_id(img_reach, geoMatrix, title='New Reach IDs', renderer='browser')"
   ]
  },
  {
   "cell_type": "code",
   "execution_count": 28,
   "metadata": {},
   "outputs": [
    {
     "data": {
      "text/html": [
       "<div>\n",
       "<style scoped>\n",
       "    .dataframe tbody tr th:only-of-type {\n",
       "        vertical-align: middle;\n",
       "    }\n",
       "\n",
       "    .dataframe tbody tr th {\n",
       "        vertical-align: top;\n",
       "    }\n",
       "\n",
       "    .dataframe thead th {\n",
       "        text-align: right;\n",
       "    }\n",
       "</style>\n",
       "<table border=\"1\" class=\"dataframe\">\n",
       "  <thead>\n",
       "    <tr style=\"text-align: right;\">\n",
       "      <th></th>\n",
       "      <th>CCHE1D_Reach</th>\n",
       "      <th>TopAGNPS_Reach</th>\n",
       "    </tr>\n",
       "  </thead>\n",
       "  <tbody>\n",
       "    <tr>\n",
       "      <th>0</th>\n",
       "      <td>26</td>\n",
       "      <td>207</td>\n",
       "    </tr>\n",
       "    <tr>\n",
       "      <th>1</th>\n",
       "      <td>25</td>\n",
       "      <td>224</td>\n",
       "    </tr>\n",
       "    <tr>\n",
       "      <th>2</th>\n",
       "      <td>27</td>\n",
       "      <td>190</td>\n",
       "    </tr>\n",
       "    <tr>\n",
       "      <th>3</th>\n",
       "      <td>23</td>\n",
       "      <td>300</td>\n",
       "    </tr>\n",
       "    <tr>\n",
       "      <th>4</th>\n",
       "      <td>21</td>\n",
       "      <td>392</td>\n",
       "    </tr>\n",
       "    <tr>\n",
       "      <th>5</th>\n",
       "      <td>22</td>\n",
       "      <td>353</td>\n",
       "    </tr>\n",
       "    <tr>\n",
       "      <th>6</th>\n",
       "      <td>28</td>\n",
       "      <td>181</td>\n",
       "    </tr>\n",
       "    <tr>\n",
       "      <th>7</th>\n",
       "      <td>24</td>\n",
       "      <td>269</td>\n",
       "    </tr>\n",
       "    <tr>\n",
       "      <th>8</th>\n",
       "      <td>29</td>\n",
       "      <td>168</td>\n",
       "    </tr>\n",
       "    <tr>\n",
       "      <th>9</th>\n",
       "      <td>30</td>\n",
       "      <td>140</td>\n",
       "    </tr>\n",
       "    <tr>\n",
       "      <th>10</th>\n",
       "      <td>19</td>\n",
       "      <td>436</td>\n",
       "    </tr>\n",
       "    <tr>\n",
       "      <th>11</th>\n",
       "      <td>20</td>\n",
       "      <td>433</td>\n",
       "    </tr>\n",
       "    <tr>\n",
       "      <th>12</th>\n",
       "      <td>18</td>\n",
       "      <td>469</td>\n",
       "    </tr>\n",
       "    <tr>\n",
       "      <th>13</th>\n",
       "      <td>31</td>\n",
       "      <td>137</td>\n",
       "    </tr>\n",
       "    <tr>\n",
       "      <th>14</th>\n",
       "      <td>17</td>\n",
       "      <td>521</td>\n",
       "    </tr>\n",
       "    <tr>\n",
       "      <th>15</th>\n",
       "      <td>15</td>\n",
       "      <td>537</td>\n",
       "    </tr>\n",
       "    <tr>\n",
       "      <th>16</th>\n",
       "      <td>33</td>\n",
       "      <td>98</td>\n",
       "    </tr>\n",
       "    <tr>\n",
       "      <th>17</th>\n",
       "      <td>10</td>\n",
       "      <td>664</td>\n",
       "    </tr>\n",
       "    <tr>\n",
       "      <th>18</th>\n",
       "      <td>32</td>\n",
       "      <td>115</td>\n",
       "    </tr>\n",
       "    <tr>\n",
       "      <th>19</th>\n",
       "      <td>12</td>\n",
       "      <td>566</td>\n",
       "    </tr>\n",
       "    <tr>\n",
       "      <th>20</th>\n",
       "      <td>14</td>\n",
       "      <td>546</td>\n",
       "    </tr>\n",
       "    <tr>\n",
       "      <th>21</th>\n",
       "      <td>16</td>\n",
       "      <td>536</td>\n",
       "    </tr>\n",
       "    <tr>\n",
       "      <th>22</th>\n",
       "      <td>13</td>\n",
       "      <td>565</td>\n",
       "    </tr>\n",
       "    <tr>\n",
       "      <th>23</th>\n",
       "      <td>11</td>\n",
       "      <td>647</td>\n",
       "    </tr>\n",
       "    <tr>\n",
       "      <th>24</th>\n",
       "      <td>35</td>\n",
       "      <td>81</td>\n",
       "    </tr>\n",
       "    <tr>\n",
       "      <th>25</th>\n",
       "      <td>34</td>\n",
       "      <td>97</td>\n",
       "    </tr>\n",
       "    <tr>\n",
       "      <th>26</th>\n",
       "      <td>9</td>\n",
       "      <td>678</td>\n",
       "    </tr>\n",
       "    <tr>\n",
       "      <th>27</th>\n",
       "      <td>36</td>\n",
       "      <td>76</td>\n",
       "    </tr>\n",
       "    <tr>\n",
       "      <th>28</th>\n",
       "      <td>4</td>\n",
       "      <td>744</td>\n",
       "    </tr>\n",
       "    <tr>\n",
       "      <th>29</th>\n",
       "      <td>37</td>\n",
       "      <td>75</td>\n",
       "    </tr>\n",
       "    <tr>\n",
       "      <th>30</th>\n",
       "      <td>3</td>\n",
       "      <td>755</td>\n",
       "    </tr>\n",
       "    <tr>\n",
       "      <th>31</th>\n",
       "      <td>38</td>\n",
       "      <td>62</td>\n",
       "    </tr>\n",
       "    <tr>\n",
       "      <th>32</th>\n",
       "      <td>39</td>\n",
       "      <td>47</td>\n",
       "    </tr>\n",
       "    <tr>\n",
       "      <th>33</th>\n",
       "      <td>8</td>\n",
       "      <td>680</td>\n",
       "    </tr>\n",
       "    <tr>\n",
       "      <th>34</th>\n",
       "      <td>5</td>\n",
       "      <td>735</td>\n",
       "    </tr>\n",
       "    <tr>\n",
       "      <th>35</th>\n",
       "      <td>6</td>\n",
       "      <td>728</td>\n",
       "    </tr>\n",
       "    <tr>\n",
       "      <th>36</th>\n",
       "      <td>7</td>\n",
       "      <td>691</td>\n",
       "    </tr>\n",
       "    <tr>\n",
       "      <th>37</th>\n",
       "      <td>2</td>\n",
       "      <td>830</td>\n",
       "    </tr>\n",
       "    <tr>\n",
       "      <th>38</th>\n",
       "      <td>40</td>\n",
       "      <td>33</td>\n",
       "    </tr>\n",
       "    <tr>\n",
       "      <th>39</th>\n",
       "      <td>41</td>\n",
       "      <td>6</td>\n",
       "    </tr>\n",
       "    <tr>\n",
       "      <th>40</th>\n",
       "      <td>42</td>\n",
       "      <td>4</td>\n",
       "    </tr>\n",
       "    <tr>\n",
       "      <th>41</th>\n",
       "      <td>1</td>\n",
       "      <td>895</td>\n",
       "    </tr>\n",
       "    <tr>\n",
       "      <th>42</th>\n",
       "      <td>43</td>\n",
       "      <td>2</td>\n",
       "    </tr>\n",
       "  </tbody>\n",
       "</table>\n",
       "</div>"
      ],
      "text/plain": [
       "    CCHE1D_Reach  TopAGNPS_Reach\n",
       "0             26             207\n",
       "1             25             224\n",
       "2             27             190\n",
       "3             23             300\n",
       "4             21             392\n",
       "5             22             353\n",
       "6             28             181\n",
       "7             24             269\n",
       "8             29             168\n",
       "9             30             140\n",
       "10            19             436\n",
       "11            20             433\n",
       "12            18             469\n",
       "13            31             137\n",
       "14            17             521\n",
       "15            15             537\n",
       "16            33              98\n",
       "17            10             664\n",
       "18            32             115\n",
       "19            12             566\n",
       "20            14             546\n",
       "21            16             536\n",
       "22            13             565\n",
       "23            11             647\n",
       "24            35              81\n",
       "25            34              97\n",
       "26             9             678\n",
       "27            36              76\n",
       "28             4             744\n",
       "29            37              75\n",
       "30             3             755\n",
       "31            38              62\n",
       "32            39              47\n",
       "33             8             680\n",
       "34             5             735\n",
       "35             6             728\n",
       "36             7             691\n",
       "37             2             830\n",
       "38            40              33\n",
       "39            41               6\n",
       "40            42               4\n",
       "41             1             895\n",
       "42            43               2"
      ]
     },
     "execution_count": 28,
     "metadata": {},
     "output_type": "execute_result"
    }
   ],
   "source": [
    "reaches_cche1d_topagnps = t2c.dict_cche1d_annagnps_to_df(cche1d_to_annagnps_reaches)\n",
    "reaches_cche1d_topagnps"
   ]
  },
  {
   "cell_type": "code",
   "execution_count": 29,
   "metadata": {},
   "outputs": [],
   "source": [
    "reaches_cche1d_topagnps.to_csv(f'../input_data/goodwin_creek_1m/cche1d/cche1d_annagnps_reach_equivalent_min_strahler_{min_strahler}_step_{distance}m.csv', index=False)\n"
   ]
  },
  {
   "cell_type": "markdown",
   "metadata": {},
   "source": [
    "### Assemble cell, reach, outflow node file"
   ]
  },
  {
   "cell_type": "code",
   "execution_count": null,
   "metadata": {},
   "outputs": [],
   "source": []
  },
  {
   "attachments": {},
   "cell_type": "markdown",
   "metadata": {},
   "source": [
    "#### Visualization of the nodes as seen by CCHE1D:\n",
    "\n",
    "| ND_TYPE | Meaning |\n",
    "|---------|---------|\n",
    "| 0       | Source node |\n",
    "| 2       | *Upstream* junction node |\n",
    "| 3       | *Downstream/Receiving* junction node |\n",
    "| 6       | Normal node |\n",
    "| 9       | Outlet node |\n",
    "\n",
    "Note: The coordinates of points 2 and 3 are the exact same for any given junction\n"
   ]
  },
  {
   "cell_type": "code",
   "execution_count": 30,
   "metadata": {},
   "outputs": [],
   "source": [
    "visualize = False\n",
    "if visualize:\n",
    "    fig = t2c.visualize_cche1d_nodes(df_nodes, renderer='browser')"
   ]
  },
  {
   "attachments": {},
   "cell_type": "markdown",
   "metadata": {},
   "source": [
    "### Writing of the files"
   ]
  },
  {
   "cell_type": "code",
   "execution_count": 31,
   "metadata": {},
   "outputs": [],
   "source": [
    "outputfolder = '../input_data/goodwin_creek_1m/cche1d/' # Location to write the files\n",
    "casename = 'goodwin_creek' # Name of the case for these files"
   ]
  },
  {
   "cell_type": "code",
   "execution_count": 32,
   "metadata": {},
   "outputs": [
    {
     "name": "stdout",
     "output_type": "stream",
     "text": [
      "../input_data/goodwin_creek_1m/cche1d/goodwin_creek_min_strahler_3_step_10m_nodes.dat successfully written\n",
      "../input_data/goodwin_creek_1m/cche1d/goodwin_creek_min_strahler_3_step_10m_channel.dat successfully written\n",
      "../input_data/goodwin_creek_1m/cche1d/goodwin_creek_min_strahler_3_step_10m_link.dat successfully written\n",
      "../input_data/goodwin_creek_1m/cche1d/goodwin_creek_min_strahler_3_step_10m_reach.dat successfully written\n",
      "../input_data/goodwin_creek_1m/cche1d/goodwin_creek_min_strahler_3_step_10m_csec.dat successfully written\n",
      "../input_data/goodwin_creek_1m/cche1d/goodwin_creek_min_strahler_3_step_10m_csprf.dat successfully written\n"
     ]
    }
   ],
   "source": [
    "t2c.write_cche1d_dat_file(f'{outputfolder}{casename}_min_strahler_{min_strahler}_step_{distance}m', df_nodes)\n",
    "t2c.write_cche1d_dat_file(f'{outputfolder}{casename}_min_strahler_{min_strahler}_step_{distance}m', df_channel)\n",
    "t2c.write_cche1d_dat_file(f'{outputfolder}{casename}_min_strahler_{min_strahler}_step_{distance}m', df_link)\n",
    "t2c.write_cche1d_dat_file(f'{outputfolder}{casename}_min_strahler_{min_strahler}_step_{distance}m', df_reach)\n",
    "t2c.write_cche1d_dat_file(f'{outputfolder}{casename}_min_strahler_{min_strahler}_step_{distance}m', df_csec)\n",
    "t2c.write_cche1d_dat_file(f'{outputfolder}{casename}_min_strahler_{min_strahler}_step_{distance}m', df_csprf)"
   ]
  },
  {
   "cell_type": "code",
   "execution_count": null,
   "metadata": {},
   "outputs": [],
   "source": []
  }
 ],
 "metadata": {
  "interpreter": {
   "hash": "d8224ee5728aed70b060423b1160ec94939c2913925101fcda74a49ac9f80094"
  },
  "kernelspec": {
   "display_name": "Python 3.9.1 ('top2cche1d')",
   "language": "python",
   "name": "python3"
  },
  "language_info": {
   "codemirror_mode": {
    "name": "ipython",
    "version": 3
   },
   "file_extension": ".py",
   "mimetype": "text/x-python",
   "name": "python",
   "nbconvert_exporter": "python",
   "pygments_lexer": "ipython3",
   "version": "3.11.2"
  },
  "orig_nbformat": 4
 },
 "nbformat": 4,
 "nbformat_minor": 2
}
