{
 "cells": [
  {
   "attachments": {},
   "cell_type": "markdown",
   "metadata": {},
   "source": [
    "# Processing of TopAGNPS data for CCHE1D\n",
    "\n",
    "## Summary\n",
    "\n",
    "### Inputs\n",
    "The `topagnps2cche1d` module is a set of Python functions that process some of the outputs of TopAGNPS i.e.:\n",
    "- `AnnAGNPS_Reach_IDs.asc`\n",
    "    - The raster file of the different reaches obtained from processing a DEM file\n",
    "- `AgFlow_Reach_Data.csv`\n",
    "    - csv file containing information about each reach, the position of the upstream and downstream row/column coordinates of each reach, the receiving reach etc.\n",
    "- `NETW.asc`\n",
    "    - Raster file indicating what is the Strahler number of each pixel of each reach\n",
    "\n",
    "### Outputs\n",
    "The module produces the:\n",
    "- `*_nodes.dat`\n",
    "- `*_channel.dat`\n",
    "- `*_link.dat`\n",
    "- `*_reach.dat`\n",
    "- `*_csec.dat`\n",
    "- `*_csprf.dat`\n",
    "\n",
    "files that can be used as inputs by CCHE1D\n",
    "\n",
    "### Assumptions made\n",
    "- This tool assumes that every junction consists strictly of two upstream inflows. This is insured by TopAGNPS.\n",
    "- For now, every node is assigned a default cross-section\n",
    "\n",
    "### Additional tools\n",
    "Functions to read, process and visualize `.asc` raster files as well as CCHE1D `*_nodes.dat` files are provided in the module. Functions to convert row/col to latitude/longitude coordinates and inversely are provided making use of the `osgeo.gdal` and `affine` modules.\n"
   ]
  },
  {
   "attachments": {},
   "cell_type": "markdown",
   "metadata": {},
   "source": [
    "### Loading the module"
   ]
  },
  {
   "cell_type": "code",
   "execution_count": 1,
   "metadata": {},
   "outputs": [],
   "source": [
    "import topagnps2cche1d.tools as t2c\n",
    "import plotly.express as px"
   ]
  },
  {
   "attachments": {},
   "cell_type": "markdown",
   "metadata": {},
   "source": [
    "### Files location"
   ]
  },
  {
   "cell_type": "code",
   "execution_count": 2,
   "metadata": {},
   "outputs": [],
   "source": [
    "# Main Folder\n",
    "srcfolder = '../input_data/topagnps_ohio_files/'\n",
    "\n",
    "# File names\n",
    "filepath_annagnps_reach_ids = srcfolder + 'AnnAGNPS_Reach_IDs.asc'\n",
    "filepath_agflow = srcfolder + 'AgFlow_Reach_Data.csv'\n",
    "# filepath_flovec = srcfolder + 'FLOVEC.asc'\n",
    "filepath_netw = srcfolder + 'NETW.asc'\n",
    "filepath_dednm = srcfolder + 'DEDNM.asc'"
   ]
  },
  {
   "attachments": {},
   "cell_type": "markdown",
   "metadata": {},
   "source": [
    "### Reading the reach data\n",
    "- `img` is a Numpy array that represents the raster of the `AnnAGNPS_Reach_IDs.asc` file\n",
    "- `geoMatrix` is a 6-tuple holding the coefficients of the affine transformation to convert row and columns to latitude and longitude\n",
    "- `ncols` and `nrows` are the dimensions of the raster\n",
    "- `nodataval` is the value used in the raster to represent the absence of data\n",
    "- `dataset` is a `gdal` object that holds all the data related to the raster "
   ]
  },
  {
   "cell_type": "code",
   "execution_count": 3,
   "metadata": {},
   "outputs": [],
   "source": [
    "img, geoMatrix, ncols, nrows, nodataval, dataset = t2c.read_esri_asc_file(filepath_annagnps_reach_ids)"
   ]
  },
  {
   "attachments": {},
   "cell_type": "markdown",
   "metadata": {},
   "source": [
    "### Testing of the row/col conversion tool"
   ]
  },
  {
   "cell_type": "code",
   "execution_count": 4,
   "metadata": {},
   "outputs": [
    {
     "name": "stdout",
     "output_type": "stream",
     "text": [
      "(row, col) = (83, 464) maps to (4476008.33, 717164.897); Error: calc-true = (0.0, 0.0)\n"
     ]
    }
   ],
   "source": [
    "# Coordinates of a known point (the outlet) and the computed coordinates\n",
    "rowinput, colinput = 83, 464\n",
    "truelat, truelon = 4476008.33, 717164.897\n",
    "\n",
    "latcalc, loncalc = t2c.rowcol2latlon_esri_asc(geoMatrix, rowinput, colinput, oneindexed=True)\n",
    "print(f\"(row, col) = ({rowinput}, {colinput}) maps to ({latcalc}, {loncalc}); Error: calc-true = ({latcalc-truelat}, {loncalc-truelon})\")"
   ]
  },
  {
   "attachments": {},
   "cell_type": "markdown",
   "metadata": {},
   "source": [
    "### Visualization of the reach network as numbered by TopAGNPS"
   ]
  },
  {
   "cell_type": "code",
   "execution_count": 5,
   "metadata": {},
   "outputs": [],
   "source": [
    "fig = t2c.visualize_reaches_id(img, geoMatrix, title='Initial Reach IDs', renderer='browser')"
   ]
  },
  {
   "attachments": {},
   "cell_type": "markdown",
   "metadata": {},
   "source": [
    "### Tree traversal strategies\n",
    "<img src='content/Sorted_binary_tree_ALL_RGB.svg.png' alt=tree-traversal width='400'/>\n",
    "\n",
    "Depth-first traversal (dotted path) of a binary tree: \n",
    "- Pre-order (node visited at position red 🔴):     \n",
    "    - F, B, A, D, C, E, G, I, H; \n",
    "- In-order (node visited at position green 🟢):\n",
    "    - A, B, C, D, E, F, G, H, I; \n",
    "- Post-order (node visited at position blue 🔵):\n",
    "    - A, C, E, D, B, H, I, G, F.\n",
    "\n",
    "Assuming each node is a reach and the sub-nodes are the inflows (ordered from left to right in the counter-clockwise order when *looking* upstream of a junction)\n",
    "\n",
    "#### Facts:\n",
    "- TopAGNPS numbers the reaches from the outlet in an **pre-order** fashion but traveling in the opposite direction of the dotted line (🔵).\n",
    "- CCHE1D requires a numbering of reaches (channels) in a **post-order** fashion (🔵, following the dotted line)"
   ]
  },
  {
   "attachments": {},
   "cell_type": "markdown",
   "metadata": {},
   "source": [
    "### Building of the channel network\n",
    "\n",
    "The channel network is constructed for CCHE1D using the connectivity data in the `Agflow_Reach_Data.csv` file"
   ]
  },
  {
   "cell_type": "code",
   "execution_count": 6,
   "metadata": {},
   "outputs": [
    {
     "data": {
      "text/html": [
       "<div>\n",
       "<style scoped>\n",
       "    .dataframe tbody tr th:only-of-type {\n",
       "        vertical-align: middle;\n",
       "    }\n",
       "\n",
       "    .dataframe tbody tr th {\n",
       "        vertical-align: top;\n",
       "    }\n",
       "\n",
       "    .dataframe thead th {\n",
       "        text-align: right;\n",
       "    }\n",
       "</style>\n",
       "<table border=\"1\" class=\"dataframe\">\n",
       "  <thead>\n",
       "    <tr style=\"text-align: right;\">\n",
       "      <th></th>\n",
       "      <th>Reach_ID</th>\n",
       "      <th>Upstream_End_Row</th>\n",
       "      <th>Upstream_End_Column</th>\n",
       "      <th>Downstream_End_Row</th>\n",
       "      <th>Downstream_End_Column</th>\n",
       "      <th>Receiving_Reach</th>\n",
       "      <th>Drainage_Area_[ha]</th>\n",
       "      <th>Average_Elevation_[m]</th>\n",
       "      <th>Reach_Length_[m]</th>\n",
       "      <th>Distance_Upstream_End_to_Outlet_[m]</th>\n",
       "      <th>Distance_Downstream_End_to_Outlet_[m]</th>\n",
       "      <th>Reach_Slope_[m/m]</th>\n",
       "      <th>Contributing_Cell_ID_Source</th>\n",
       "      <th>Contributing_Cell_ID_Left</th>\n",
       "      <th>Contributing_Cell_ID_Right</th>\n",
       "    </tr>\n",
       "  </thead>\n",
       "  <tbody>\n",
       "    <tr>\n",
       "      <th>0</th>\n",
       "      <td>1</td>\n",
       "      <td>83</td>\n",
       "      <td>464</td>\n",
       "      <td>83</td>\n",
       "      <td>464</td>\n",
       "      <td>1</td>\n",
       "      <td>145.80</td>\n",
       "      <td>294.30</td>\n",
       "      <td>0.00</td>\n",
       "      <td>0.00</td>\n",
       "      <td>0.00</td>\n",
       "      <td>0.00001</td>\n",
       "      <td>0</td>\n",
       "      <td>0</td>\n",
       "      <td>0</td>\n",
       "    </tr>\n",
       "    <tr>\n",
       "      <th>1</th>\n",
       "      <td>2</td>\n",
       "      <td>84</td>\n",
       "      <td>465</td>\n",
       "      <td>83</td>\n",
       "      <td>464</td>\n",
       "      <td>1</td>\n",
       "      <td>145.80</td>\n",
       "      <td>294.30</td>\n",
       "      <td>7.24</td>\n",
       "      <td>7.24</td>\n",
       "      <td>0.00</td>\n",
       "      <td>0.00001</td>\n",
       "      <td>0</td>\n",
       "      <td>1</td>\n",
       "      <td>0</td>\n",
       "    </tr>\n",
       "    <tr>\n",
       "      <th>2</th>\n",
       "      <td>3</td>\n",
       "      <td>155</td>\n",
       "      <td>515</td>\n",
       "      <td>85</td>\n",
       "      <td>466</td>\n",
       "      <td>2</td>\n",
       "      <td>86.10</td>\n",
       "      <td>294.46</td>\n",
       "      <td>311.74</td>\n",
       "      <td>318.98</td>\n",
       "      <td>7.24</td>\n",
       "      <td>0.00097</td>\n",
       "      <td>0</td>\n",
       "      <td>3</td>\n",
       "      <td>2</td>\n",
       "    </tr>\n",
       "    <tr>\n",
       "      <th>3</th>\n",
       "      <td>4</td>\n",
       "      <td>134</td>\n",
       "      <td>617</td>\n",
       "      <td>156</td>\n",
       "      <td>516</td>\n",
       "      <td>3</td>\n",
       "      <td>22.72</td>\n",
       "      <td>295.30</td>\n",
       "      <td>359.43</td>\n",
       "      <td>678.41</td>\n",
       "      <td>318.98</td>\n",
       "      <td>0.00251</td>\n",
       "      <td>0</td>\n",
       "      <td>5</td>\n",
       "      <td>4</td>\n",
       "    </tr>\n",
       "    <tr>\n",
       "      <th>4</th>\n",
       "      <td>5</td>\n",
       "      <td>95</td>\n",
       "      <td>654</td>\n",
       "      <td>133</td>\n",
       "      <td>618</td>\n",
       "      <td>4</td>\n",
       "      <td>4.48</td>\n",
       "      <td>295.50</td>\n",
       "      <td>168.25</td>\n",
       "      <td>846.66</td>\n",
       "      <td>678.41</td>\n",
       "      <td>0.00001</td>\n",
       "      <td>6</td>\n",
       "      <td>8</td>\n",
       "      <td>7</td>\n",
       "    </tr>\n",
       "    <tr>\n",
       "      <th>5</th>\n",
       "      <td>6</td>\n",
       "      <td>130</td>\n",
       "      <td>668</td>\n",
       "      <td>134</td>\n",
       "      <td>618</td>\n",
       "      <td>4</td>\n",
       "      <td>7.12</td>\n",
       "      <td>295.50</td>\n",
       "      <td>174.64</td>\n",
       "      <td>853.05</td>\n",
       "      <td>678.41</td>\n",
       "      <td>0.00001</td>\n",
       "      <td>9</td>\n",
       "      <td>11</td>\n",
       "      <td>10</td>\n",
       "    </tr>\n",
       "    <tr>\n",
       "      <th>6</th>\n",
       "      <td>7</td>\n",
       "      <td>215</td>\n",
       "      <td>510</td>\n",
       "      <td>156</td>\n",
       "      <td>515</td>\n",
       "      <td>3</td>\n",
       "      <td>59.03</td>\n",
       "      <td>294.81</td>\n",
       "      <td>196.15</td>\n",
       "      <td>515.13</td>\n",
       "      <td>318.98</td>\n",
       "      <td>0.00357</td>\n",
       "      <td>0</td>\n",
       "      <td>13</td>\n",
       "      <td>12</td>\n",
       "    </tr>\n",
       "    <tr>\n",
       "      <th>7</th>\n",
       "      <td>8</td>\n",
       "      <td>251</td>\n",
       "      <td>550</td>\n",
       "      <td>216</td>\n",
       "      <td>511</td>\n",
       "      <td>7</td>\n",
       "      <td>37.41</td>\n",
       "      <td>295.30</td>\n",
       "      <td>170.01</td>\n",
       "      <td>685.14</td>\n",
       "      <td>515.13</td>\n",
       "      <td>0.00001</td>\n",
       "      <td>0</td>\n",
       "      <td>15</td>\n",
       "      <td>14</td>\n",
       "    </tr>\n",
       "    <tr>\n",
       "      <th>8</th>\n",
       "      <td>9</td>\n",
       "      <td>274</td>\n",
       "      <td>575</td>\n",
       "      <td>251</td>\n",
       "      <td>551</td>\n",
       "      <td>8</td>\n",
       "      <td>26.92</td>\n",
       "      <td>295.30</td>\n",
       "      <td>103.58</td>\n",
       "      <td>788.72</td>\n",
       "      <td>685.14</td>\n",
       "      <td>0.00001</td>\n",
       "      <td>0</td>\n",
       "      <td>17</td>\n",
       "      <td>16</td>\n",
       "    </tr>\n",
       "    <tr>\n",
       "      <th>9</th>\n",
       "      <td>10</td>\n",
       "      <td>248</td>\n",
       "      <td>600</td>\n",
       "      <td>274</td>\n",
       "      <td>576</td>\n",
       "      <td>9</td>\n",
       "      <td>3.23</td>\n",
       "      <td>295.33</td>\n",
       "      <td>116.10</td>\n",
       "      <td>904.81</td>\n",
       "      <td>788.72</td>\n",
       "      <td>0.00171</td>\n",
       "      <td>18</td>\n",
       "      <td>20</td>\n",
       "      <td>19</td>\n",
       "    </tr>\n",
       "  </tbody>\n",
       "</table>\n",
       "</div>"
      ],
      "text/plain": [
       "   Reach_ID  Upstream_End_Row  Upstream_End_Column  Downstream_End_Row  \\\n",
       "0         1                83                  464                  83   \n",
       "1         2                84                  465                  83   \n",
       "2         3               155                  515                  85   \n",
       "3         4               134                  617                 156   \n",
       "4         5                95                  654                 133   \n",
       "5         6               130                  668                 134   \n",
       "6         7               215                  510                 156   \n",
       "7         8               251                  550                 216   \n",
       "8         9               274                  575                 251   \n",
       "9        10               248                  600                 274   \n",
       "\n",
       "   Downstream_End_Column  Receiving_Reach  Drainage_Area_[ha]  \\\n",
       "0                    464                1              145.80   \n",
       "1                    464                1              145.80   \n",
       "2                    466                2               86.10   \n",
       "3                    516                3               22.72   \n",
       "4                    618                4                4.48   \n",
       "5                    618                4                7.12   \n",
       "6                    515                3               59.03   \n",
       "7                    511                7               37.41   \n",
       "8                    551                8               26.92   \n",
       "9                    576                9                3.23   \n",
       "\n",
       "   Average_Elevation_[m]  Reach_Length_[m]  \\\n",
       "0                 294.30              0.00   \n",
       "1                 294.30              7.24   \n",
       "2                 294.46            311.74   \n",
       "3                 295.30            359.43   \n",
       "4                 295.50            168.25   \n",
       "5                 295.50            174.64   \n",
       "6                 294.81            196.15   \n",
       "7                 295.30            170.01   \n",
       "8                 295.30            103.58   \n",
       "9                 295.33            116.10   \n",
       "\n",
       "   Distance_Upstream_End_to_Outlet_[m]  Distance_Downstream_End_to_Outlet_[m]  \\\n",
       "0                                 0.00                                   0.00   \n",
       "1                                 7.24                                   0.00   \n",
       "2                               318.98                                   7.24   \n",
       "3                               678.41                                 318.98   \n",
       "4                               846.66                                 678.41   \n",
       "5                               853.05                                 678.41   \n",
       "6                               515.13                                 318.98   \n",
       "7                               685.14                                 515.13   \n",
       "8                               788.72                                 685.14   \n",
       "9                               904.81                                 788.72   \n",
       "\n",
       "   Reach_Slope_[m/m]  Contributing_Cell_ID_Source  Contributing_Cell_ID_Left  \\\n",
       "0            0.00001                            0                          0   \n",
       "1            0.00001                            0                          1   \n",
       "2            0.00097                            0                          3   \n",
       "3            0.00251                            0                          5   \n",
       "4            0.00001                            6                          8   \n",
       "5            0.00001                            9                         11   \n",
       "6            0.00357                            0                         13   \n",
       "7            0.00001                            0                         15   \n",
       "8            0.00001                            0                         17   \n",
       "9            0.00171                           18                         20   \n",
       "\n",
       "   Contributing_Cell_ID_Right  \n",
       "0                           0  \n",
       "1                           0  \n",
       "2                           2  \n",
       "3                           4  \n",
       "4                           7  \n",
       "5                          10  \n",
       "6                          12  \n",
       "7                          14  \n",
       "8                          16  \n",
       "9                          19  "
      ]
     },
     "execution_count": 6,
     "metadata": {},
     "output_type": "execute_result"
    }
   ],
   "source": [
    "dfagflow = t2c.read_agflow_reach_data(filepath_agflow)\n",
    "dfagflow.head(n=10)"
   ]
  },
  {
   "attachments": {},
   "cell_type": "markdown",
   "metadata": {},
   "source": [
    "### Visualization of Strahler Number for the network\n",
    "\n",
    "The following diagram illustrates the Strahler number for a river network and is an indication of the network complexity\n",
    "\n",
    "<img src='content/strahler.png' align=\"center\" alt=tree-traversal width='500'/>\n",
    "\n"
   ]
  },
  {
   "cell_type": "code",
   "execution_count": 7,
   "metadata": {},
   "outputs": [],
   "source": [
    "img_strahler, geoMatrix, _, _, _, _, = t2c.read_esri_asc_file(filepath_netw)\n",
    "fig = t2c.visualize_strahler_number(img_strahler, geoMatrix, renderer='browser')"
   ]
  },
  {
   "attachments": {},
   "cell_type": "markdown",
   "metadata": {},
   "source": [
    "### Generating the CCHE1D files\n",
    "\n",
    "All the heavy lifting is done inside the `convert_topagnps_output_to_cche1d_input` and `create_cche1d_tables` functions.\n",
    "\n",
    "The outputs are the Pandas DataFrame of the nodes, channel, and link files. `img_reach` is a Numpy array with the reordered reach numbering"
   ]
  },
  {
   "attachments": {},
   "cell_type": "markdown",
   "metadata": {},
   "source": [
    "#### Generating a default cross-section for all nodes of the network\n",
    "\n",
    "CP_W and CP_Z are the x and y coordinates of the cross-section and CP_RGH the Manning's roughness coefficient"
   ]
  },
  {
   "cell_type": "code",
   "execution_count": 8,
   "metadata": {},
   "outputs": [
    {
     "data": {
      "application/vnd.plotly.v1+json": {
       "config": {
        "plotlyServerURL": "https://plot.ly"
       },
       "data": [
        {
         "hovertemplate": "x=%{x}<br>y=%{y}<extra></extra>",
         "legendgroup": "",
         "line": {
          "color": "#636efa",
          "dash": "solid"
         },
         "marker": {
          "symbol": "circle"
         },
         "mode": "markers+lines",
         "name": "",
         "orientation": "v",
         "showlegend": false,
         "type": "scatter",
         "x": [
          -43,
          -35,
          -13,
          -10,
          10,
          13,
          35,
          43
         ],
         "xaxis": "x",
         "y": [
          6,
          2,
          2,
          0,
          0,
          2,
          2,
          6
         ],
         "yaxis": "y"
        }
       ],
       "layout": {
        "legend": {
         "tracegroupgap": 0
        },
        "template": {
         "data": {
          "bar": [
           {
            "error_x": {
             "color": "#2a3f5f"
            },
            "error_y": {
             "color": "#2a3f5f"
            },
            "marker": {
             "line": {
              "color": "#E5ECF6",
              "width": 0.5
             },
             "pattern": {
              "fillmode": "overlay",
              "size": 10,
              "solidity": 0.2
             }
            },
            "type": "bar"
           }
          ],
          "barpolar": [
           {
            "marker": {
             "line": {
              "color": "#E5ECF6",
              "width": 0.5
             },
             "pattern": {
              "fillmode": "overlay",
              "size": 10,
              "solidity": 0.2
             }
            },
            "type": "barpolar"
           }
          ],
          "carpet": [
           {
            "aaxis": {
             "endlinecolor": "#2a3f5f",
             "gridcolor": "white",
             "linecolor": "white",
             "minorgridcolor": "white",
             "startlinecolor": "#2a3f5f"
            },
            "baxis": {
             "endlinecolor": "#2a3f5f",
             "gridcolor": "white",
             "linecolor": "white",
             "minorgridcolor": "white",
             "startlinecolor": "#2a3f5f"
            },
            "type": "carpet"
           }
          ],
          "choropleth": [
           {
            "colorbar": {
             "outlinewidth": 0,
             "ticks": ""
            },
            "type": "choropleth"
           }
          ],
          "contour": [
           {
            "colorbar": {
             "outlinewidth": 0,
             "ticks": ""
            },
            "colorscale": [
             [
              0,
              "#0d0887"
             ],
             [
              0.1111111111111111,
              "#46039f"
             ],
             [
              0.2222222222222222,
              "#7201a8"
             ],
             [
              0.3333333333333333,
              "#9c179e"
             ],
             [
              0.4444444444444444,
              "#bd3786"
             ],
             [
              0.5555555555555556,
              "#d8576b"
             ],
             [
              0.6666666666666666,
              "#ed7953"
             ],
             [
              0.7777777777777778,
              "#fb9f3a"
             ],
             [
              0.8888888888888888,
              "#fdca26"
             ],
             [
              1,
              "#f0f921"
             ]
            ],
            "type": "contour"
           }
          ],
          "contourcarpet": [
           {
            "colorbar": {
             "outlinewidth": 0,
             "ticks": ""
            },
            "type": "contourcarpet"
           }
          ],
          "heatmap": [
           {
            "colorbar": {
             "outlinewidth": 0,
             "ticks": ""
            },
            "colorscale": [
             [
              0,
              "#0d0887"
             ],
             [
              0.1111111111111111,
              "#46039f"
             ],
             [
              0.2222222222222222,
              "#7201a8"
             ],
             [
              0.3333333333333333,
              "#9c179e"
             ],
             [
              0.4444444444444444,
              "#bd3786"
             ],
             [
              0.5555555555555556,
              "#d8576b"
             ],
             [
              0.6666666666666666,
              "#ed7953"
             ],
             [
              0.7777777777777778,
              "#fb9f3a"
             ],
             [
              0.8888888888888888,
              "#fdca26"
             ],
             [
              1,
              "#f0f921"
             ]
            ],
            "type": "heatmap"
           }
          ],
          "heatmapgl": [
           {
            "colorbar": {
             "outlinewidth": 0,
             "ticks": ""
            },
            "colorscale": [
             [
              0,
              "#0d0887"
             ],
             [
              0.1111111111111111,
              "#46039f"
             ],
             [
              0.2222222222222222,
              "#7201a8"
             ],
             [
              0.3333333333333333,
              "#9c179e"
             ],
             [
              0.4444444444444444,
              "#bd3786"
             ],
             [
              0.5555555555555556,
              "#d8576b"
             ],
             [
              0.6666666666666666,
              "#ed7953"
             ],
             [
              0.7777777777777778,
              "#fb9f3a"
             ],
             [
              0.8888888888888888,
              "#fdca26"
             ],
             [
              1,
              "#f0f921"
             ]
            ],
            "type": "heatmapgl"
           }
          ],
          "histogram": [
           {
            "marker": {
             "pattern": {
              "fillmode": "overlay",
              "size": 10,
              "solidity": 0.2
             }
            },
            "type": "histogram"
           }
          ],
          "histogram2d": [
           {
            "colorbar": {
             "outlinewidth": 0,
             "ticks": ""
            },
            "colorscale": [
             [
              0,
              "#0d0887"
             ],
             [
              0.1111111111111111,
              "#46039f"
             ],
             [
              0.2222222222222222,
              "#7201a8"
             ],
             [
              0.3333333333333333,
              "#9c179e"
             ],
             [
              0.4444444444444444,
              "#bd3786"
             ],
             [
              0.5555555555555556,
              "#d8576b"
             ],
             [
              0.6666666666666666,
              "#ed7953"
             ],
             [
              0.7777777777777778,
              "#fb9f3a"
             ],
             [
              0.8888888888888888,
              "#fdca26"
             ],
             [
              1,
              "#f0f921"
             ]
            ],
            "type": "histogram2d"
           }
          ],
          "histogram2dcontour": [
           {
            "colorbar": {
             "outlinewidth": 0,
             "ticks": ""
            },
            "colorscale": [
             [
              0,
              "#0d0887"
             ],
             [
              0.1111111111111111,
              "#46039f"
             ],
             [
              0.2222222222222222,
              "#7201a8"
             ],
             [
              0.3333333333333333,
              "#9c179e"
             ],
             [
              0.4444444444444444,
              "#bd3786"
             ],
             [
              0.5555555555555556,
              "#d8576b"
             ],
             [
              0.6666666666666666,
              "#ed7953"
             ],
             [
              0.7777777777777778,
              "#fb9f3a"
             ],
             [
              0.8888888888888888,
              "#fdca26"
             ],
             [
              1,
              "#f0f921"
             ]
            ],
            "type": "histogram2dcontour"
           }
          ],
          "mesh3d": [
           {
            "colorbar": {
             "outlinewidth": 0,
             "ticks": ""
            },
            "type": "mesh3d"
           }
          ],
          "parcoords": [
           {
            "line": {
             "colorbar": {
              "outlinewidth": 0,
              "ticks": ""
             }
            },
            "type": "parcoords"
           }
          ],
          "pie": [
           {
            "automargin": true,
            "type": "pie"
           }
          ],
          "scatter": [
           {
            "fillpattern": {
             "fillmode": "overlay",
             "size": 10,
             "solidity": 0.2
            },
            "type": "scatter"
           }
          ],
          "scatter3d": [
           {
            "line": {
             "colorbar": {
              "outlinewidth": 0,
              "ticks": ""
             }
            },
            "marker": {
             "colorbar": {
              "outlinewidth": 0,
              "ticks": ""
             }
            },
            "type": "scatter3d"
           }
          ],
          "scattercarpet": [
           {
            "marker": {
             "colorbar": {
              "outlinewidth": 0,
              "ticks": ""
             }
            },
            "type": "scattercarpet"
           }
          ],
          "scattergeo": [
           {
            "marker": {
             "colorbar": {
              "outlinewidth": 0,
              "ticks": ""
             }
            },
            "type": "scattergeo"
           }
          ],
          "scattergl": [
           {
            "marker": {
             "colorbar": {
              "outlinewidth": 0,
              "ticks": ""
             }
            },
            "type": "scattergl"
           }
          ],
          "scattermapbox": [
           {
            "marker": {
             "colorbar": {
              "outlinewidth": 0,
              "ticks": ""
             }
            },
            "type": "scattermapbox"
           }
          ],
          "scatterpolar": [
           {
            "marker": {
             "colorbar": {
              "outlinewidth": 0,
              "ticks": ""
             }
            },
            "type": "scatterpolar"
           }
          ],
          "scatterpolargl": [
           {
            "marker": {
             "colorbar": {
              "outlinewidth": 0,
              "ticks": ""
             }
            },
            "type": "scatterpolargl"
           }
          ],
          "scatterternary": [
           {
            "marker": {
             "colorbar": {
              "outlinewidth": 0,
              "ticks": ""
             }
            },
            "type": "scatterternary"
           }
          ],
          "surface": [
           {
            "colorbar": {
             "outlinewidth": 0,
             "ticks": ""
            },
            "colorscale": [
             [
              0,
              "#0d0887"
             ],
             [
              0.1111111111111111,
              "#46039f"
             ],
             [
              0.2222222222222222,
              "#7201a8"
             ],
             [
              0.3333333333333333,
              "#9c179e"
             ],
             [
              0.4444444444444444,
              "#bd3786"
             ],
             [
              0.5555555555555556,
              "#d8576b"
             ],
             [
              0.6666666666666666,
              "#ed7953"
             ],
             [
              0.7777777777777778,
              "#fb9f3a"
             ],
             [
              0.8888888888888888,
              "#fdca26"
             ],
             [
              1,
              "#f0f921"
             ]
            ],
            "type": "surface"
           }
          ],
          "table": [
           {
            "cells": {
             "fill": {
              "color": "#EBF0F8"
             },
             "line": {
              "color": "white"
             }
            },
            "header": {
             "fill": {
              "color": "#C8D4E3"
             },
             "line": {
              "color": "white"
             }
            },
            "type": "table"
           }
          ]
         },
         "layout": {
          "annotationdefaults": {
           "arrowcolor": "#2a3f5f",
           "arrowhead": 0,
           "arrowwidth": 1
          },
          "autotypenumbers": "strict",
          "coloraxis": {
           "colorbar": {
            "outlinewidth": 0,
            "ticks": ""
           }
          },
          "colorscale": {
           "diverging": [
            [
             0,
             "#8e0152"
            ],
            [
             0.1,
             "#c51b7d"
            ],
            [
             0.2,
             "#de77ae"
            ],
            [
             0.3,
             "#f1b6da"
            ],
            [
             0.4,
             "#fde0ef"
            ],
            [
             0.5,
             "#f7f7f7"
            ],
            [
             0.6,
             "#e6f5d0"
            ],
            [
             0.7,
             "#b8e186"
            ],
            [
             0.8,
             "#7fbc41"
            ],
            [
             0.9,
             "#4d9221"
            ],
            [
             1,
             "#276419"
            ]
           ],
           "sequential": [
            [
             0,
             "#0d0887"
            ],
            [
             0.1111111111111111,
             "#46039f"
            ],
            [
             0.2222222222222222,
             "#7201a8"
            ],
            [
             0.3333333333333333,
             "#9c179e"
            ],
            [
             0.4444444444444444,
             "#bd3786"
            ],
            [
             0.5555555555555556,
             "#d8576b"
            ],
            [
             0.6666666666666666,
             "#ed7953"
            ],
            [
             0.7777777777777778,
             "#fb9f3a"
            ],
            [
             0.8888888888888888,
             "#fdca26"
            ],
            [
             1,
             "#f0f921"
            ]
           ],
           "sequentialminus": [
            [
             0,
             "#0d0887"
            ],
            [
             0.1111111111111111,
             "#46039f"
            ],
            [
             0.2222222222222222,
             "#7201a8"
            ],
            [
             0.3333333333333333,
             "#9c179e"
            ],
            [
             0.4444444444444444,
             "#bd3786"
            ],
            [
             0.5555555555555556,
             "#d8576b"
            ],
            [
             0.6666666666666666,
             "#ed7953"
            ],
            [
             0.7777777777777778,
             "#fb9f3a"
            ],
            [
             0.8888888888888888,
             "#fdca26"
            ],
            [
             1,
             "#f0f921"
            ]
           ]
          },
          "colorway": [
           "#636efa",
           "#EF553B",
           "#00cc96",
           "#ab63fa",
           "#FFA15A",
           "#19d3f3",
           "#FF6692",
           "#B6E880",
           "#FF97FF",
           "#FECB52"
          ],
          "font": {
           "color": "#2a3f5f"
          },
          "geo": {
           "bgcolor": "white",
           "lakecolor": "white",
           "landcolor": "#E5ECF6",
           "showlakes": true,
           "showland": true,
           "subunitcolor": "white"
          },
          "hoverlabel": {
           "align": "left"
          },
          "hovermode": "closest",
          "mapbox": {
           "style": "light"
          },
          "paper_bgcolor": "white",
          "plot_bgcolor": "#E5ECF6",
          "polar": {
           "angularaxis": {
            "gridcolor": "white",
            "linecolor": "white",
            "ticks": ""
           },
           "bgcolor": "#E5ECF6",
           "radialaxis": {
            "gridcolor": "white",
            "linecolor": "white",
            "ticks": ""
           }
          },
          "scene": {
           "xaxis": {
            "backgroundcolor": "#E5ECF6",
            "gridcolor": "white",
            "gridwidth": 2,
            "linecolor": "white",
            "showbackground": true,
            "ticks": "",
            "zerolinecolor": "white"
           },
           "yaxis": {
            "backgroundcolor": "#E5ECF6",
            "gridcolor": "white",
            "gridwidth": 2,
            "linecolor": "white",
            "showbackground": true,
            "ticks": "",
            "zerolinecolor": "white"
           },
           "zaxis": {
            "backgroundcolor": "#E5ECF6",
            "gridcolor": "white",
            "gridwidth": 2,
            "linecolor": "white",
            "showbackground": true,
            "ticks": "",
            "zerolinecolor": "white"
           }
          },
          "shapedefaults": {
           "line": {
            "color": "#2a3f5f"
           }
          },
          "ternary": {
           "aaxis": {
            "gridcolor": "white",
            "linecolor": "white",
            "ticks": ""
           },
           "baxis": {
            "gridcolor": "white",
            "linecolor": "white",
            "ticks": ""
           },
           "bgcolor": "#E5ECF6",
           "caxis": {
            "gridcolor": "white",
            "linecolor": "white",
            "ticks": ""
           }
          },
          "title": {
           "x": 0.05
          },
          "xaxis": {
           "automargin": true,
           "gridcolor": "white",
           "linecolor": "white",
           "ticks": "",
           "title": {
            "standoff": 15
           },
           "zerolinecolor": "white",
           "zerolinewidth": 2
          },
          "yaxis": {
           "automargin": true,
           "gridcolor": "white",
           "linecolor": "white",
           "ticks": "",
           "title": {
            "standoff": 15
           },
           "zerolinecolor": "white",
           "zerolinewidth": 2
          }
         }
        },
        "title": {
         "text": "Default Cross-Section"
        },
        "xaxis": {
         "anchor": "y",
         "domain": [
          0,
          1
         ],
         "title": {
          "text": "x (m)"
         }
        },
        "yaxis": {
         "anchor": "x",
         "domain": [
          0,
          1
         ],
         "title": {
          "text": "y (m)"
         }
        }
       }
      }
     },
     "metadata": {},
     "output_type": "display_data"
    }
   ],
   "source": [
    "default_xsection = {'type' : 'default',\n",
    "                    'CP_Ws': [-43, -35, -13, -10, 10, 13, 35, 43],\n",
    "                    'CP_Zs': [6, 2, 2, 0, 0, 2, 2, 6],\n",
    "                    'CP_RGHs': [0.025, 0.025, 0.025, 0.025, 0.025, 0.025, 0.025, 0.025]}\n",
    "\n",
    "fig = px.line(x = default_xsection['CP_Ws'], y = default_xsection['CP_Zs'], markers='o', title = 'Default Cross-Section')\n",
    "fig.update_layout(xaxis_title='x (m)', yaxis_title='y (m)')\n",
    "fig.show()"
   ]
  },
  {
   "cell_type": "code",
   "execution_count": 9,
   "metadata": {},
   "outputs": [],
   "source": [
    "distance = 50\n",
    "min_strahler = 1\n",
    "# df_nodes, df_channel, df_link, df_reach, df_csec, df_csprf, img_reach = t2c.convert_topagnps_output_to_cche1d_input(filepath_agflow, filepath_flovec, filepath_annagnps_reach_ids, filepath_netw, default_xsection, min_strahler, distance)\n",
    "df_nodes, df_channel, df_link, df_reach, df_csec, df_csprf, img_reach, cche1d_to_annagnps_reaches = t2c.convert_topagnps_output_to_cche1d_input(filepath_agflow, filepath_annagnps_reach_ids, filepath_netw, default_xsection, min_strahler, distance)"
   ]
  },
  {
   "attachments": {},
   "cell_type": "markdown",
   "metadata": {},
   "source": [
    "#### Reordered reaches\n",
    "Note that the reach containing the outlet is the reach with the highest reach number"
   ]
  },
  {
   "cell_type": "code",
   "execution_count": 20,
   "metadata": {},
   "outputs": [
    {
     "data": {
      "text/html": [
       "<div>\n",
       "<style scoped>\n",
       "    .dataframe tbody tr th:only-of-type {\n",
       "        vertical-align: middle;\n",
       "    }\n",
       "\n",
       "    .dataframe tbody tr th {\n",
       "        vertical-align: top;\n",
       "    }\n",
       "\n",
       "    .dataframe thead th {\n",
       "        text-align: right;\n",
       "    }\n",
       "</style>\n",
       "<table border=\"1\" class=\"dataframe\">\n",
       "  <thead>\n",
       "    <tr style=\"text-align: right;\">\n",
       "      <th></th>\n",
       "      <th>CCHE1D_Reach</th>\n",
       "      <th>TopAGNPS_Reach</th>\n",
       "    </tr>\n",
       "  </thead>\n",
       "  <tbody>\n",
       "    <tr>\n",
       "      <th>0</th>\n",
       "      <td>27</td>\n",
       "      <td>2</td>\n",
       "    </tr>\n",
       "    <tr>\n",
       "      <th>1</th>\n",
       "      <td>9</td>\n",
       "      <td>20</td>\n",
       "    </tr>\n",
       "    <tr>\n",
       "      <th>2</th>\n",
       "      <td>26</td>\n",
       "      <td>3</td>\n",
       "    </tr>\n",
       "    <tr>\n",
       "      <th>3</th>\n",
       "      <td>24</td>\n",
       "      <td>5</td>\n",
       "    </tr>\n",
       "    <tr>\n",
       "      <th>4</th>\n",
       "      <td>23</td>\n",
       "      <td>6</td>\n",
       "    </tr>\n",
       "    <tr>\n",
       "      <th>5</th>\n",
       "      <td>25</td>\n",
       "      <td>4</td>\n",
       "    </tr>\n",
       "    <tr>\n",
       "      <th>6</th>\n",
       "      <td>22</td>\n",
       "      <td>7</td>\n",
       "    </tr>\n",
       "    <tr>\n",
       "      <th>7</th>\n",
       "      <td>1</td>\n",
       "      <td>28</td>\n",
       "    </tr>\n",
       "    <tr>\n",
       "      <th>8</th>\n",
       "      <td>2</td>\n",
       "      <td>27</td>\n",
       "    </tr>\n",
       "    <tr>\n",
       "      <th>9</th>\n",
       "      <td>7</td>\n",
       "      <td>22</td>\n",
       "    </tr>\n",
       "    <tr>\n",
       "      <th>10</th>\n",
       "      <td>8</td>\n",
       "      <td>21</td>\n",
       "    </tr>\n",
       "    <tr>\n",
       "      <th>11</th>\n",
       "      <td>3</td>\n",
       "      <td>26</td>\n",
       "    </tr>\n",
       "    <tr>\n",
       "      <th>12</th>\n",
       "      <td>12</td>\n",
       "      <td>17</td>\n",
       "    </tr>\n",
       "    <tr>\n",
       "      <th>13</th>\n",
       "      <td>21</td>\n",
       "      <td>8</td>\n",
       "    </tr>\n",
       "    <tr>\n",
       "      <th>14</th>\n",
       "      <td>4</td>\n",
       "      <td>25</td>\n",
       "    </tr>\n",
       "    <tr>\n",
       "      <th>15</th>\n",
       "      <td>6</td>\n",
       "      <td>23</td>\n",
       "    </tr>\n",
       "    <tr>\n",
       "      <th>16</th>\n",
       "      <td>5</td>\n",
       "      <td>24</td>\n",
       "    </tr>\n",
       "    <tr>\n",
       "      <th>17</th>\n",
       "      <td>19</td>\n",
       "      <td>10</td>\n",
       "    </tr>\n",
       "    <tr>\n",
       "      <th>18</th>\n",
       "      <td>10</td>\n",
       "      <td>19</td>\n",
       "    </tr>\n",
       "    <tr>\n",
       "      <th>19</th>\n",
       "      <td>11</td>\n",
       "      <td>18</td>\n",
       "    </tr>\n",
       "    <tr>\n",
       "      <th>20</th>\n",
       "      <td>20</td>\n",
       "      <td>9</td>\n",
       "    </tr>\n",
       "    <tr>\n",
       "      <th>21</th>\n",
       "      <td>13</td>\n",
       "      <td>16</td>\n",
       "    </tr>\n",
       "    <tr>\n",
       "      <th>22</th>\n",
       "      <td>15</td>\n",
       "      <td>14</td>\n",
       "    </tr>\n",
       "    <tr>\n",
       "      <th>23</th>\n",
       "      <td>18</td>\n",
       "      <td>11</td>\n",
       "    </tr>\n",
       "    <tr>\n",
       "      <th>24</th>\n",
       "      <td>16</td>\n",
       "      <td>13</td>\n",
       "    </tr>\n",
       "    <tr>\n",
       "      <th>25</th>\n",
       "      <td>17</td>\n",
       "      <td>12</td>\n",
       "    </tr>\n",
       "    <tr>\n",
       "      <th>26</th>\n",
       "      <td>14</td>\n",
       "      <td>15</td>\n",
       "    </tr>\n",
       "  </tbody>\n",
       "</table>\n",
       "</div>"
      ],
      "text/plain": [
       "    CCHE1D_Reach  TopAGNPS_Reach\n",
       "0             27               2\n",
       "1              9              20\n",
       "2             26               3\n",
       "3             24               5\n",
       "4             23               6\n",
       "5             25               4\n",
       "6             22               7\n",
       "7              1              28\n",
       "8              2              27\n",
       "9              7              22\n",
       "10             8              21\n",
       "11             3              26\n",
       "12            12              17\n",
       "13            21               8\n",
       "14             4              25\n",
       "15             6              23\n",
       "16             5              24\n",
       "17            19              10\n",
       "18            10              19\n",
       "19            11              18\n",
       "20            20               9\n",
       "21            13              16\n",
       "22            15              14\n",
       "23            18              11\n",
       "24            16              13\n",
       "25            17              12\n",
       "26            14              15"
      ]
     },
     "execution_count": 20,
     "metadata": {},
     "output_type": "execute_result"
    }
   ],
   "source": [
    "reaches_cche1d_topagnps = t2c.dict_cche1d_annagnps_to_df(cche1d_to_annagnps_reaches)\n",
    "reaches_cche1d_topagnps"
   ]
  },
  {
   "cell_type": "code",
   "execution_count": 11,
   "metadata": {},
   "outputs": [],
   "source": [
    "fig = t2c.visualize_reaches_id(img_reach, geoMatrix, title='New Reach IDs', renderer='browser')"
   ]
  },
  {
   "attachments": {},
   "cell_type": "markdown",
   "metadata": {},
   "source": [
    "#### Visualization of the nodes as seen by CCHE1D:\n",
    "\n",
    "| ND_TYPE | Meaning |\n",
    "|---------|---------|\n",
    "| 0       | Source node |\n",
    "| 2       | *Upstream* junction node |\n",
    "| 3       | *Downstream/Receiving* junction node |\n",
    "| 6       | Normal node |\n",
    "| 9       | Outlet node |\n",
    "\n",
    "Note: The coordinates of points 2 and 3 are the exact same for any given junction\n"
   ]
  },
  {
   "cell_type": "code",
   "execution_count": 12,
   "metadata": {},
   "outputs": [],
   "source": [
    "fig = t2c.visualize_cche1d_nodes(df_nodes, renderer='browser')"
   ]
  },
  {
   "attachments": {},
   "cell_type": "markdown",
   "metadata": {},
   "source": [
    "### Writing of the files"
   ]
  },
  {
   "cell_type": "code",
   "execution_count": 15,
   "metadata": {},
   "outputs": [],
   "source": [
    "outputfolder = '../input_data/topagnps_ohio_files/top2cche1d_outputs/' # Location to write the files\n",
    "casename = 'ohio' # Name of the case for these files"
   ]
  },
  {
   "cell_type": "code",
   "execution_count": 16,
   "metadata": {},
   "outputs": [
    {
     "name": "stdout",
     "output_type": "stream",
     "text": [
      "../topagnps_ohio_files/top2cche1d_outputs/ohio_min_strahler_1_nodes.dat successfully written\n",
      "../topagnps_ohio_files/top2cche1d_outputs/ohio_min_strahler_1_channel.dat successfully written\n",
      "../topagnps_ohio_files/top2cche1d_outputs/ohio_min_strahler_1_link.dat successfully written\n",
      "../topagnps_ohio_files/top2cche1d_outputs/ohio_min_strahler_1_reach.dat successfully written\n",
      "../topagnps_ohio_files/top2cche1d_outputs/ohio_min_strahler_1_csec.dat successfully written\n",
      "../topagnps_ohio_files/top2cche1d_outputs/ohio_min_strahler_1_csprf.dat successfully written\n"
     ]
    }
   ],
   "source": [
    "t2c.write_cche1d_dat_file(f'{outputfolder}{casename}_min_strahler_{min_strahler}', df_nodes)\n",
    "t2c.write_cche1d_dat_file(f'{outputfolder}{casename}_min_strahler_{min_strahler}', df_channel)\n",
    "t2c.write_cche1d_dat_file(f'{outputfolder}{casename}_min_strahler_{min_strahler}', df_link)\n",
    "t2c.write_cche1d_dat_file(f'{outputfolder}{casename}_min_strahler_{min_strahler}', df_reach)\n",
    "t2c.write_cche1d_dat_file(f'{outputfolder}{casename}_min_strahler_{min_strahler}', df_csec)\n",
    "t2c.write_cche1d_dat_file(f'{outputfolder}{casename}_min_strahler_{min_strahler}', df_csprf)"
   ]
  },
  {
   "attachments": {},
   "cell_type": "markdown",
   "metadata": {},
   "source": [
    "### Channel network when imported in CCHE1D GUI\n",
    "\n",
    "<img src='content/cche1d_gui.png' align=\"center\" alt=tree-traversal width='1200'/>"
   ]
  }
 ],
 "metadata": {
  "interpreter": {
   "hash": "d8224ee5728aed70b060423b1160ec94939c2913925101fcda74a49ac9f80094"
  },
  "kernelspec": {
   "display_name": "Python 3.9.1 ('top2cche1d')",
   "language": "python",
   "name": "python3"
  },
  "language_info": {
   "codemirror_mode": {
    "name": "ipython",
    "version": 3
   },
   "file_extension": ".py",
   "mimetype": "text/x-python",
   "name": "python",
   "nbconvert_exporter": "python",
   "pygments_lexer": "ipython3",
   "version": "3.11.2"
  },
  "orig_nbformat": 4
 },
 "nbformat": 4,
 "nbformat_minor": 2
}
